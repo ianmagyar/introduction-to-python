{
 "cells": [
  {
   "cell_type": "markdown",
   "metadata": {},
   "source": [
    "# Cvičenie 6: Wordle"
   ]
  },
  {
   "cell_type": "markdown",
   "metadata": {},
   "source": [
    "Wordle je jednoduchá webová hra, ktorá sa stala populárnou v posledných rokoch. Cieľom hry je uhádnuť päťpísmenové slovo na šesť pokusov, pričom hra po každom pokuse prezradí, či náš tip obsahuje správne písmená, a či tie sú na správnom mieste. Na základe tejto spätnej väzby vieme eliminovať možné riešenia, a tak sa dopracovať ku skrytému slovu. [Ak s hrou ešte nemáte skúsenosti, môžete si ju vyskúšať tu.](https://wordly.org)"
   ]
  },
  {
   "cell_type": "markdown",
   "metadata": {},
   "source": [
    "<img src=\"sources/lab06/wordle_example.png\" width=\"600\">\n",
    "\n",
    "<p style=\"text-align: center;\">Zdroj: https://en.wikipedia.org/wiki/Wordle#/media/File:Wordle_196_example.svg</p>"
   ]
  },
  {
   "cell_type": "markdown",
   "metadata": {},
   "source": [
    "Príklad hry môžete vidieť na obrázku vyššie. Skryté slovo je *rebus*. Prvý pokus hráča bol *arise*. Farby jednotlivých písmen reprezentujú informácie o správnosti písmen a ich pozícií. Napríklad pri slove *arise* sa písmená *r*, *s* a *e* nachádzajú aj v správnom riešení *rebus*, nie sú ale na správnej pozícii. Zvyšné sivé písmená sa v správnom riešení nenachádzajú. V ďalšom pokuse hráč zadal slovo *route*, v ktorom písmeno *r* je už na správnej pozícii a ďalej sa dozvedel aj to, že riešenie obsahuje aj písmeno *u*. Takýmto štýlom hráč pokračuje, až kým nenájde správne slovo, alebo nevyužije všetkých šesť pokusov. V štandardnej verzii hry hráč môže zadať ľubovoľné slovo zo sady známych slov. Ak hráč zadá neplatné slovo, môže pokračovať bez toho, aby prišiel o pokus.\n",
    "\n",
    "Pred začatím implementácie si potrebujete stiahnuť [súbor so zoznamom akceptovaných slov](sources/lab06/word_list.txt). [Následne si môžete stiahnuť kostru riešenia](sources/lab06/lab06.py), alebo pracovať v tomto notebooku."
   ]
  },
  {
   "cell_type": "markdown",
   "metadata": {},
   "source": [
    "## 1. Načítanie slov\n",
    "\n",
    "Základom hry bude súbor so sadou prijateľných slov. Príklad pre takýto súbor nájdete vyššie (`word_list.txt`): každý riadok obsahuje jedno slovo a na konci súboru sa nachádza prázdny riadok.\n",
    "\n",
    "V prvom kroku implementujete funkciu `load_words`, ktorá načíta zoznam slov akceptovaných hrou. Funkcia má jeden parameter (`dataset_path`) – cestu k súboru, v ktorom sa nachádzajú platné slová. Funkcia vracia zoznam slov, pričom jednotlivé prvky zoznamu sú reťazce s dĺžkou 5."
   ]
  },
  {
   "cell_type": "code",
   "execution_count": null,
   "metadata": {},
   "outputs": [],
   "source": [
    "def load_words(dataset_path):\n",
    "    return list()"
   ]
  },
  {
   "cell_type": "markdown",
   "metadata": {},
   "source": [
    "## 2. Začatie a ukončenie hry\n",
    "\n",
    "K samotnej hre potrebujeme ďalšie dve jednoduché pomocné funkcie. Najprv implementujte funkciu `get_puzzle`, ktorá zo zoznamu slov, ktorý dostane ako parameter `word_list`, vyberie náhodné slovo, ktoré bude slúžiť ako hľadané riešenie. Funkcia má jednu návratovú hodnotu: slovo, teda *string* s dĺžkou 5. Pre náhodný výber použite štandardný modul `random`, ktorý už máte naimportovaný.\n",
    "\n",
    "Dôležitou funkcionalitou je zabezpečiť, aby sme zistili, či hráč už uhádol správne riešenie. K tomu slúži funkcia `is_game_finished` s dvoma parametrami:\n",
    " - `guess` – reťazec reprezentujúci tip hráča;\n",
    " - `puzzle` – reťazec reprezentujúci správne riešenie.\n",
    "Funkcia vracia hodnotu `True`, ak hráč slovo uhádol, v opačnom prípade vráti `False`.\n",
    "\n",
    "**Poznámka:** Nezabudnite, že hráč môže svoj tip napísať aj veľkými písmenami, v takomto prípade ale musíte jeho tip vyhodnotiť takisto správne."
   ]
  },
  {
   "cell_type": "code",
   "execution_count": null,
   "metadata": {},
   "outputs": [],
   "source": [
    "import random\n",
    "\n",
    "def get_puzzle(word_list):\n",
    "    return \"\"\n",
    "\n",
    "\n",
    "def is_game_finished(guess, puzzle):\n",
    "    return False"
   ]
  },
  {
   "cell_type": "markdown",
   "metadata": {},
   "source": [
    "## 3. Vyhodnotenie tipu\n",
    "\n",
    "Poslednou funkciou k jednoduchej implementácii je `evaluate_guess`, ktorá vyhodnotí tip hráča a vráti mu informácie o správnosti písmen a ich pozíciách. Funkcia má rovnaké parametre ako `is_game_finished`, teda tip hráča (`guess`) a správne riešenie (`puzzle`). Návratová hodnote je ale trošku zložitejšia – bude to zoznam n-tíc (*list of tuples*), ktorý reprezentuje spätnú väzbu po vyhodnotení tipu a to tak, že pre každé písmeno sa vytvorí trojica hodnôt:\n",
    " - písmeno – reťazec s dĺžkou 1\n",
    " - informácia o tom, či sa dané písmeno nachádza v riešení – booleovská hodnota `True/False`\n",
    " - informácia o tom, či je dané písmeno na správnej pozícii – booleovská hodnota `True/False`; ak sa písmeno v riešení nenachádza, bude `False`, keďže písmeno je na nesprávnej pozícii.\n",
    "\n",
    "V našom príklade teda tip *route* by sme vyhodnotili nasledovne:\n",
    "`[('r', True, True), ('o', False, False), ('u', True, False), ('t', False, False), ('e', True, False)]`\n",
    "\n",
    "Ak hráč uhádne správne slovo, všetky booleovské hodnoty budú `True`, ak zadá slovo, ktoré nemá žiadne písmeno spoločné s riešením, všetky hodnoty budú `False`.\n",
    "\n",
    "**Poznámka:** Pri príprave vyhodnotenia dodržujte poradie písmen v slove. Zatiaľ neriešte opakujúce sa písmená."
   ]
  },
  {
   "cell_type": "code",
   "execution_count": null,
   "metadata": {},
   "outputs": [],
   "source": [
    "def evaluate_guess(guess, puzzle):\n",
    "    return list()"
   ]
  },
  {
   "cell_type": "markdown",
   "metadata": {},
   "source": [
    "## 4. Zahrajme si Wordle\n",
    "\n",
    "Teraz už máme implementované všetky podporné funkcie, vieme sa teda spustiť do implementácie hry Wordle. Zadefinujte funkciu `start_game` s parametrom `dataset_path`, ktorá zastrešuje celú hru a to nasledovne:\n",
    "\n",
    "1. načíta zoznam povolených slov zo súboru, ktorý dostane v parametri;\n",
    "2. vyberie náhodné slovo zo zoznamu, ktoré bude slúžiť ako hľadané riešenie;\n",
    "3. vykoná sa maximálne šesť kôl, pričom v každom kole:\n",
    "\n",
    "    1. používateľ môže zadať svoj tip - ak tip nie je zo zoznamu povolených slov, hráč je opätovne vyzvaný na zadanie svojho tipu bez toho, aby prišiel o možnosť tipnúť si (neráta sa to do šiestich pokusov);\n",
    "    2. vyhodnotí sa hráčov tip a výsledok sa vypíše na obrazovku (iba vypíšte programovú reprezentáciu, nepotrebujete ju nijak upravovať);\n",
    "    3. ak hráč uhádne slovo, vypíšte o tom správu a ukončite hru; ak hráč minul všetky možnosti ale slovo neodhalil, informujte ho o prehre, prezraďte správne riešenie a hru tiež ukončite.\n",
    "    \n",
    "**Poznámka:** Pre jednoduchosť testovania môžete vypísať hľadané slovo hneď na začiatku, aby ste mohli overiť správnosť podporných funkcií."
   ]
  },
  {
   "cell_type": "code",
   "execution_count": null,
   "metadata": {},
   "outputs": [],
   "source": [
    "def start_game(dataset_path):\n",
    "    pass\n",
    "\n",
    "start_game(\"word_list.txt\")"
   ]
  },
  {
   "cell_type": "markdown",
   "metadata": {},
   "source": [
    "## 5. Ošetrenie riešenia\n",
    "\n",
    "Vaša implementácia je bez pochýb perfektne funkčná, avšak aj najlepší kód môže zlyhať, ak mu dáte nesprávne vstupy a hodnoty na spracovanie. Upravte svoje riešenie tak, aby v žiadnom prípade nekončil chybou. Možné chyby ošetrite pomocou bloku `try-except`, v chybných prípadoch používateľovi poskytnite informatívnu správu o tom, čo sa pokazilo, a program ukončite riadne (teda program nesmie padať).\n",
    "\n",
    "**Prediskutujte jednotlivé funkcie, predpoklady na vstup a výstup, validujte všetky vstupy pre správnosť typu a hodnôt, a ak používate štandardné funkcie, zistite, za akých okolností fungujú správne.**"
   ]
  },
  {
   "cell_type": "markdown",
   "metadata": {},
   "source": [
    "## Doplňujúce úlohy\n",
    "\n",
    "Je známym faktom, že programátori sú leniví, a aj keď je Wordle zábavná hra a skvelý spôsob na prokrastináciu, skôr či neskôr im napadne implementovať inteligentného bota, ktorý by túto hru zahral za nich a omnoho efektívnejšie. V tejto úlohe vytvoríte jedného takéhoto bota.\n",
    "\n",
    "Prvým krokom je implementovať funkciu `get_player_guess`, ktorá zo zoznamu slov `word_list` (formát rovnaký ako po načítaní funkciou `load_words`), ktorý dostane ako parameter, vyberie zoznam možných riešení a náhodný tip. Funkcia má teda dve návratové hodnoty:\n",
    " - zoznam možných riešení – zoznam reťazcov, kde každý reťazec je päťpísmenové slovo; nepracujte priamo s parametrom `word_list`, ale vlastným zoznamom alebo kópiou `word_list`u.\n",
    " - tip – reťazec, teda náhodné slovo zo zoznamu možných riešení.\n",
    "\n",
    "Bot eliminuje možnosti na základe získaných vedomostí o správnom riešení, ktoré sú reprezentované v zozname `knowledge`, ktorý dostane ako parameter. Tento zoznam je inicializovaný na začiatku hry a je to zoznam trojíc, kde každá trojica reprezentuje informáciu o jednotlivých možných písmenách podobne ako pri funkcii `evaluate_guess`.\n",
    "\n",
    "Trojica má nasledovnú štruktúru:\n",
    " - písmeno – *string* s dĺžkou 1\n",
    " - informácia o tom, či sa písmeno nachádza v slove – inicializovaná na `None`, neskôr nahradíte hodnotu booleovskými hodnotami `True/False`\n",
    " - informácia o pozícii písmena v správnom riešení – inicializovaná na -1, neskôr nahradíte platným indexom 0 až 4.\n",
    "\n",
    "**Poznámka:** Tento bot nebude rátať s možnosťou viacnásobného výskytu písmena v slove, teda tretia hodnota bude vždy iba jedno číslo.\n",
    "\n",
    "Na základe týchto vedomostí by mala funkcia `get_player_guess` eliminovať možnosti nasledovne:\n",
    " 1. vymazať zo zoznamu možných riešení slová, ktoré neobsahujú písmená, o ktorých vie, že sa nachádzajú v správnom riešení na základe zoznamu `knowledge`\n",
    " 2. vymazať zo zoznamu možných riešení slová, ktoré obsahujú písmená, o ktorých vie, že sa nenachádzajú v správnom riešení na základe zoznamu `knowledge`\n",
    " 3. vymazať zo zoznamu možných riešení slová, ktoré nemajú správne písmeno na niektorej pozícii, o ktorej už vie, aké tam bude písmeno.\n",
    "\n",
    "Pre jednoduchosť uvedieme aj jeden príklad. Po prvých dvoch pokusoch uvedených v príklade vyššie hráč už vie, že riešenie určite obsahuje písmená *r*, *s*, *e*, *u* a na prvej pozícii je písmeno *r*. Hráč tiež vie, že sa v hľadanom slove nenachádzajú písmená *a*, *i*, *l*, *o*, *t*. Na základe jednotlivých pravidiel by teda eliminoval napríklad:\n",
    " 1. slovo *table*, ktoré neobsahuje potrebné písmená *r*, *s*, *u*\n",
    " 2. slovo *braid*, ktoré obsahuje písmeno *a*, o ktorom už hráč vie, že sa v riešení nenachádza\n",
    " 3. slovo *serve*, keďže hráč už vie, že na prvej pozícii musí byť písmeno *r*\n",
    "\n",
    "Po eliminácii niektorých možných riešení bot vyberie náhodné slovo zo zoznamu a vráti hodnoty podľa špecifikácie funkcie.\n",
    "\n",
    "Samozrejme bot má šancu hru vyhrať iba vtedy, ak bude postupne aktualizovať reprezentáciu svojich vedomostí o hľadanom slove. K tomu slúži funkcia `process_result` s parametrom `result`, ktorý obsahuje spätnú väzbu od hry, vygenerovanú funkciou `evaluate_guess` (formát sa nemení). Funkcia postupne spracuje informácie o všetkých písmenách z posledného tipu a to nasledovne:\n",
    " 1. aktualizuje informáciu o tom, či sa písmeno nachádza alebo nenachádza v správnom riešení\n",
    " 2. ak je písmeno aj na správnej pozícii, aktualizuje tento údaj v zozname `knowledge`.\n",
    "\n",
    "Funkcia `process_result` nemá návratovú hodnotu, aktualizujte priamo zoznam `knowledge`.\n",
    "\n",
    "**Poznámka:** Nezabudnite, že zoznam `knowledge` obsahuje n-tice, ktoré sú nemenné. Práve preto pri spracovaní spätnej väzby musíte vytvoriť novú n-ticu a uložiť ju na správne miesto v zozname `knowledge`. Poradie informácií o písmenách v zozname má pritom ostať rovnaké, t.j. najprv budete mať vedomosti o výskyte písmena *a*, písmena *b*, atď.\n",
    "\n",
    "Po implementovaní týchto dvoch funkcií máte bota hotového, môžete jeho funkčnosť vyskúšať pomocou nasimulovanej hry. Funkcia je veľmi podobná funkcii `start_game` – vstup od hráča je ale nahradený vstupom od bota. Počas hry sa takisto vypíše zoznam možných riešení, ktorý bude stále kratší ako bot spracuje informácie, ktoré sa dozvie o hľadanom slove."
   ]
  },
  {
   "cell_type": "code",
   "execution_count": null,
   "metadata": {},
   "outputs": [],
   "source": [
    "from copy import deepcopy\n",
    "import string\n",
    "\n",
    "\n",
    "def get_player_guess(word_list, knowledge):\n",
    "    available = word_list.copy()\n",
    "\n",
    "    # TODO: eliminate impossible solutions\n",
    "\n",
    "    return available, random.choice(available)\n",
    "\n",
    "\n",
    "def process_result(result, knowledge):\n",
    "    # TODO: update knowledge based on result\n",
    "    pass\n",
    "\n",
    "\n",
    "def bot_game(dataset_path):\n",
    "    word_list = load_words(dataset_path)\n",
    "    player_words = word_list.copy()\n",
    "\n",
    "    PLAYER_KNOWLEDGE = [(letter, None, -1)\n",
    "                        for letter in string.ascii_lowercase]\n",
    "    player_knowledge = deepcopy(PLAYER_KNOWLEDGE)\n",
    "\n",
    "    puzzle = get_puzzle(word_list)\n",
    "    print(puzzle)\n",
    "\n",
    "    guess = \"\"\n",
    "    while not is_game_finished(guess, puzzle):\n",
    "        player_words, guess = get_player_guess(player_words, player_knowledge)\n",
    "        print(player_words)\n",
    "        player_words.remove(guess)\n",
    "        print(guess)\n",
    "\n",
    "        result = evaluate_guess(guess, puzzle)\n",
    "        print(result)\n",
    "\n",
    "        process_result(result, player_knowledge)\n",
    "\n",
    "\n",
    "bot_game(\"word_list.txt\")"
   ]
  }
 ],
 "metadata": {
  "kernelspec": {
   "display_name": "Python 3 (ipykernel)",
   "language": "python",
   "name": "python3"
  },
  "language_info": {
   "codemirror_mode": {
    "name": "ipython",
    "version": 3
   },
   "file_extension": ".py",
   "mimetype": "text/x-python",
   "name": "python",
   "nbconvert_exporter": "python",
   "pygments_lexer": "ipython3",
   "version": "3.12.7"
  }
 },
 "nbformat": 4,
 "nbformat_minor": 4
}
