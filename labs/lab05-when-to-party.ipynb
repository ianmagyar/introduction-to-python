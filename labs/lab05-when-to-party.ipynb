{
 "cells": [
  {
   "cell_type": "markdown",
   "metadata": {},
   "source": [
    "# Cvičenie 5: Kedy na Jedličku?\n",
    "\n",
    "Nevieme, koľkí z vás zažili Jedličku, ale asi sa zhodneme na tom, že začiatok nového semestra treba poriadne osláviť. Za normálnych okolností je Jedlička najlepšie miesto na to v Košiciach, a keďže úlohou školy je pripraviť vás aj na ťažké životné rozhodnotia, na dnešnom cvičení sa zameriame na otázku obrovskej dôležitosti: V akom čase by ste mali ísť na túto skvelú párty?\n",
    "\n",
    "Samozrejme žiaden študent nepovie nie na párty, na druhej strane ste ale všetci poctiví zodpovední študenti (aspoň to tak predpokladáme pre trvanie tohto cvičenia) a viete, že deň po Jedličke musíte byť na nie menej dôležitých prednáškach a cvičeniach, a práve preto ste sa rozhodli, že na Jedličku prídete iba na jednu hodinu. Otázka teda je, kedy to urobiť?\n",
    "\n",
    "Pre efektívne riešenie tejto dilemy ste sa opýtali vašich priateľov, kedy oni pôjdu na Jedličku, a keďže aj oni sú poctiví a zodpovední, zistili ste, že každý z nich bude na párty iba niekoľko hodín. Vašou úlohou je na základe zoznamu časov keď vaši priatelia budú na Jedličke vybrať najvhodnejšiu hodinu, kedy stretnete najviac vašich priateľov. Z doposiaľ neznámych dôvodov ste sa rozhodli, že na riešenie problému implementujete jednoduchý Python program.\n",
    "\n",
    "Vstupom algoritmu je zoznam intervalov, v ktorých vaši priatelia budú na Jedličke. Každý interval je reprezentovaný dvoma číslami `start` a `end`, pričom interval považujeme za zatvorený zľava a otvorený sprava: `<start, end)`. To znamená, že ak na Jedličku prídete v čase `start`, určite stretnete daného priateľa, ale dotyčný v čase `end` na párty už nebude. (Švajčiarska vláda podporila každého z vašich spolužiakov hodinkami aby ste si mohli byť istí, že dané intervaly všetci dodržiavajú so sto percentnou istotou.)\n",
    "\n",
    "Ako príklad zoberme zoznam:\n",
    "\n",
    "| Meno  | Príde | Odíde |\n",
    "|-------|-------|-------|\n",
    "| Maťo  | 9     | 10    |\n",
    "| Tomáš | 10    | 12    |\n",
    "| Miro  | 10    | 1     |\n",
    "| Katka | 11    | 1     |\n",
    "| Paľo  | 8     | 11    |\n",
    "| Dano  | 10    | 11    |\n",
    "| Mara  | 12    | 2     |\n",
    "\n",
    "V tomto prípade sa vám najviac oplatí prísť na 10, keď sa stretnete s Tomášom, Mirom, Paľom a Danom. Ďalšie ukážkové príklady v kódovej forme ([nájdete aj v kostre riešenia](sources/lab05/lab05.py)):"
   ]
  },
  {
   "cell_type": "code",
   "execution_count": null,
   "metadata": {},
   "outputs": [],
   "source": [
    "test_intervals1 = [\n",
    "    ('Daniel', 7, 9),\n",
    "    ('Palo', 8, 11),\n",
    "    ('Danka', 10, 12),\n",
    "    ('Miro', 9, 1),\n",
    "    ('Lubos', 11, 12),\n",
    "    ('Milan', 10, 12),\n",
    "    ('Noro', 9, 11),\n",
    "    ('Radka', 8, 10),\n",
    "    ('Martina', 7, 8),\n",
    "    ('Peto', 9, 11)\n",
    "]\n",
    "test_intervals2 = [\n",
    "    ('Daniel', 10, 12),\n",
    "    ('Palo', 9, 12),\n",
    "    ('Danka', 10, 12),\n",
    "    ('Miro', 9, 1),\n",
    "    ('Lubos', 10, 11),\n",
    "    ('Milan', 11, 2),\n",
    "    ('Noro', 10, 1),\n",
    "    ('Radka', 9, 12),\n",
    "    ('Martina', 9, 11),\n",
    "    ('Peto', 9, 1),\n",
    "    ('Julka', 10, 12),\n",
    "    ('Riso', 10, 11),\n",
    "    ('Mato', 11, 3),\n",
    "    ('Brano', 10, 1),\n",
    "    ('David', 9, 11)\n",
    "]"
   ]
  },
  {
   "cell_type": "markdown",
   "metadata": {},
   "source": [
    "## 1. Predspracovanie intervalov\n",
    "\n",
    "Pred tým než začneme hľadať optimálny čas na párty, potrebujeme naše dáta predspracovať. Jednak zoznamy obsahujú aj nepotrebné informácie (mená) a na druhej strane sa môže stať, že omylom sme zadali neplatné údaje (chýbajúci údaj, zlý typ). Všetky tieto možnosti musíme ošetriť pred hľadaním odpovede na našu otázku.\n",
    "\n",
    "**Úloha:** Implementujte funkciu `load_intervals`, ktorá má jeden parameter, a to zoznam n-tíc vo forme uvedenej vyššie. Funkcia vracia jednu hodnotu, a to zoznam intervalov reprezentovaných ako n-tice. Funkcia skontroluje platnosť zadaných údajov a v prípade nezrovnalostí upozorní používateľa. Pre jednoduchšiu prácu s hodinami takisto opravte časy po polnoci do podoby akokeby boli poobedňajšie: 1 --> 13, 2 --> 14, atď. Môžete predpokladať, že párty začína o siedmej večer a končí o piatej ráno."
   ]
  },
  {
   "cell_type": "code",
   "execution_count": null,
   "metadata": {},
   "outputs": [],
   "source": [
    "def load_intervals(intervals):\n",
    "    # returns a list of intervals as tuples\n",
    "    pass"
   ]
  },
  {
   "cell_type": "markdown",
   "metadata": {},
   "source": [
    "## 2. Nájdenie vhodného času návštevy\n",
    "\n",
    "Ako často pri programovaní, vhodná reprezentácia úlohy vám značne pomôže pri riešení problému. V tomto kroku implementujete funkciu, ktorá nájde najlepší čas na návštevu (keď sa stretnete s najviac kamarátmi). V tomto prípade si intervaly môžeme predstaviť nasledovne:\n",
    "\n",
    "![](sources/lab05/sample_representation.jpg)\n",
    "\n",
    "kde hľadáme zvislú čiaru s najväčším počtom plných krúžkov a priesekov.\n",
    "\n",
    "**Úloha:** Implementujte funkciu `choose_time`, ktorá má jeden parameter (zoznam n-tíc reprezentujúcich intervaly návštev ako z funkcie `load_intervals`) a vráti dve hodnoty: najvhodnejší čas na návštevu Jedličky (hodina) a počet vtedy prítomných priateľov."
   ]
  },
  {
   "cell_type": "code",
   "execution_count": null,
   "metadata": {},
   "outputs": [],
   "source": [
    "def choose_time(interval_list):\n",
    "    # return best time to party and number of friends present\n",
    "    pass"
   ]
  },
  {
   "cell_type": "markdown",
   "metadata": {},
   "source": [
    "## 3. Postup riešenia\n",
    "\n",
    "Našu úlohu nenápadne sme rozdelili na dve časti: predspracovanie údajov a hľadanie riešenia. Pre jednoduchšie použitie programu teraz vytvoríme jednu funkciu, ktorá zabezpečí celý prechod riešenia a bude slúžiť ako hlavná funkcia pri riešení úlohy.\n",
    "\n",
    "**Úloha:** Implementujte funkciu `when_to_go`, ktorá má iba jeden parameter, a to zoznam intervalov aj s menami priateľov. Funkcia zabezpečuje predspracovanie tohto vstupu a následne zavolá funkciu `choose_time`. Na konci volania funkcia vypíše správu s riešením vo forme napr: `The best time to attend is at 10 o'clock when you'll meet 4 of your friends.` Pred výpisom potrebujete konvertovať hodiny späť do pôvodného tvaru: 13 --> 1, atď."
   ]
  },
  {
   "cell_type": "code",
   "execution_count": null,
   "metadata": {},
   "outputs": [],
   "source": [
    "def when_to_go(friends_list):\n",
    "    # process intervals from list\n",
    "    # call function to calculate best time for party\n",
    "    # print results\n",
    "    pass"
   ]
  },
  {
   "cell_type": "markdown",
   "metadata": {},
   "source": [
    "## 4. Nové požiadavky\n",
    "\n",
    "Počas testovania vášho riešenia ste zistili, že program vám odporúča časy, v ktorých by ste najradšej už spali v pohodlnej posteli. Upravte teda vyhľadávanie riešenia tak, že čas návštevy Jedličky bude hľadať iba vo vami zadanom intervale.\n",
    "\n",
    "**Úloha:** Implementujte funkciu `choose_time_constrained`, ktorá má tri parametre: zoznam intervalov (z `load_intervals`), najskoršia a najneskoršia prijateľná hodnota návštevy Jedličky. Napríklad pri volaní `choose_time_constrained(interval_list, 9, 11)`, funkcia hľadá riešenia len z intervalu `<9, 11)`. Pri riešení sa môžete inšpirovať funkciou `choose_time`."
   ]
  },
  {
   "cell_type": "code",
   "execution_count": null,
   "metadata": {},
   "outputs": [],
   "source": [
    "def choose_time_constrained(interval_list, y_start, y_end):\n",
    "    # return best time to party and number of friends present\n",
    "    # look only in interval <y_start, y_end)\n",
    "    pass"
   ]
  },
  {
   "cell_type": "markdown",
   "metadata": {},
   "source": [
    "**Úloha:** Rozšírte funkciu `when_to_go` o dva parametre: `y_start` a `y_end`, pričom priraďte týmto parametrom defaultné hodnoty. Ak tieto defaultné hodnoty ostanú nemenené, zavolá sa funkcia `choose_time`, ak používateľ zadá limity vyhľadávania, zavoláte funkciu `choose_time_constrained`."
   ]
  },
  {
   "cell_type": "markdown",
   "metadata": {},
   "source": [
    "## 5. Upredňostňovanie priateľov\n",
    "\n",
    "Realita je, že máte priateľov, ktorých by ste na Jedličke stretli omnoho radšej ako iných. V kostre riešenia nájdete druhý typ zoznamu intervalov, ktorý je rozšírený o jednu hodnotu, a to o váhu, ktorá reprezentuje, ako veľmi by ste chceli daného človeka stretnúť na párty."
   ]
  },
  {
   "cell_type": "code",
   "execution_count": 1,
   "metadata": {},
   "outputs": [],
   "source": [
    "test_intervals_weights = [\n",
    "    ('Daniel', 8, 10, 1),\n",
    "    ('Palo', 8, 11, 2),\n",
    "    ('Danka', 8, 9, 3),\n",
    "    ('Miro', 11, 1, 4),\n",
    "    ('Lubos', 9, 12, 2),\n",
    "    ('Milan', 10, 12, 2),\n",
    "    ('Noro', 10, 3, 1),\n",
    "    ('Radka', 11, 12, 2),\n",
    "    ('Martina', 10, 12, 1),\n",
    "    ('Peto', 8, 11, 2)\n",
    "]"
   ]
  },
  {
   "cell_type": "markdown",
   "metadata": {},
   "source": [
    "**Úloha:** Upravte funkciu `load_intervals` tak, aby dokázala spracovať vstupy oboch typov (s tromi alebo štyrmi hodnotami po záznam). Návratová hodnota sa nemení, iba n-tice budú obsahovať o jednu hodnotu viac.\n",
    "\n",
    "**Úloha:** Implementujte funkciu `choose_time_with_weights`, ktorá určí najvhodnejší čas návštevy nie podľa počtu priateľov, ale na základe súčtu ich váh. Funkcia vracia dve hodnoty: najvhodnejší čas návštevy a celkovú váhu, teda preferenciu. Znova potrebujete iba jemne upraviť implementáciu funkcie `choose_time`."
   ]
  },
  {
   "cell_type": "code",
   "execution_count": null,
   "metadata": {},
   "outputs": [],
   "source": [
    "def choose_time_with_weights(interval_list):\n",
    "    # return best time to party and total weight\n",
    "    pass"
   ]
  },
  {
   "cell_type": "markdown",
   "metadata": {},
   "source": [
    "**Úloha:** Upravte funkciu `when_to_go`, aby zavolala funkciu `choose_time_with_weights` ak n-tice v zozname intervalov obsahujú aj váhu. Takisto upravte v tomto prípade výpis do formy: `The best time to attend is at 12 o'clock when you'll meet friends with a weight of 6.`"
   ]
  }
 ],
 "metadata": {
  "kernelspec": {
   "display_name": "Python 3 (ipykernel)",
   "language": "python",
   "name": "python3"
  },
  "language_info": {
   "codemirror_mode": {
    "name": "ipython",
    "version": 3
   },
   "file_extension": ".py",
   "mimetype": "text/x-python",
   "name": "python",
   "nbconvert_exporter": "python",
   "pygments_lexer": "ipython3",
   "version": "3.12.7"
  }
 },
 "nbformat": 4,
 "nbformat_minor": 4
}
