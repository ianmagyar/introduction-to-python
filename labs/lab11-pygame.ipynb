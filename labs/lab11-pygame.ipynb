{
 "cells": [
  {
   "cell_type": "markdown",
   "metadata": {},
   "source": [
    "# Cvičenie 11: Hry v Pythone\n",
    "\n",
    "Na našom poslednom cvičení v tomto semestri si ukážeme, ako môžete vytvoriť jednoduché hry v Pythone. Síce na tieto účely existuje niekoľko knižníc, my na cvičení budeme používať `pygame`, ktorá ponúka celú základnú funkcionalitu pre vykresľovanie objektov, posielanie správ a prehrávanie hudby. Okrem toho rieši aj štandardné problémy, ako napríklad dotyk objektov. Ak počas vypracovania úlohy budete mať otázky alebo neistoty, môžete si prečítať viac o použitých funkciách [v dokumentácii knižnice `pygame`](https://www.pygame.org/docs/).\n",
    "\n",
    "Na úvod si však potrebujete nainštalovať knižnicu, napríklad cez príkazový riadok (alebo v Anaconde):\n",
    "\n",
    "```\n",
    "pip install pygame\n",
    "```\n",
    "\n",
    "Následne si stiahnite [predpripravený projekt s riešením](sources/lab11/lab11.zip).\n",
    "\n",
    "Dnešné cvičenie bolo vypracované na základe tutoriálu [dostupného tu](https://coderslegacy.com/python/python-pygame-tutorial/). Na tejto stránke nájdete [aj ukážku hry, ktorú si vytvoríme](https://coderslegacy.com/wp-content/uploads/2020/06/Pygame_Tutorial.mp4)."
   ]
  },
  {
   "cell_type": "markdown",
   "metadata": {},
   "source": [
    "## 1. Oboznámime sa s kódom\n",
    "\n",
    "V pripravenom skripte už nájdete kostru riešenia s niekoľkými triedami aj základnou funkcionalitou. Na úvod si naštudujeme, čo tieto riadky robia a ako nám pomôžu pri riešení.\n",
    "\n",
    "Na začiatku tu hneď máme importy, kde pracujeme aj so štandardnými modulmi, aj s knižnicou `pygame`. Tieto importy využijeme nasledovne:\n",
    "\n",
    "* `random` - pre generovanie náhodnej štartovacej pozície protivníka;\n",
    "* `sys` - pre správne ukončenie aplikácie a uzavretie nášho okna;\n",
    "* `time` - pre zastavenie aplikácie, kým sa prehrá ukončovacia hudba."
   ]
  },
  {
   "cell_type": "code",
   "execution_count": null,
   "metadata": {},
   "outputs": [],
   "source": [
    "import random\n",
    "import sys\n",
    "import time\n",
    "\n",
    "import pygame\n",
    "from pygame.locals import *"
   ]
  },
  {
   "cell_type": "markdown",
   "metadata": {},
   "source": [
    "V ďalšom bloku sa vykoná hneď niekoľko dôležitých krokov, najprv si nainicializujeme `pygame` hru pomocou volania funkcie `init`, ktorá nám pripraví prostredie pre spúšťanie hry. Je to neoddeliteľnou súčasťou každej `pygame` aplikácie."
   ]
  },
  {
   "cell_type": "code",
   "execution_count": null,
   "metadata": {},
   "outputs": [],
   "source": [
    "pygame.init()"
   ]
  },
  {
   "cell_type": "markdown",
   "metadata": {},
   "source": [
    "V ďalšom kroku sa inicializuje frekvencia vykresľovania hry na obrazovku pomocou hodnoty `FPS` (*frames per second*), teda koľko snímok sa vykreslí na obrazovku za sekundu. Pre tieto účely vytvoríme aj `pygame` reprezentáciu tejto aktualizácie, aby výsledná hra bola plynulá a nevyzerala tak, ako keby sekala."
   ]
  },
  {
   "cell_type": "code",
   "execution_count": null,
   "metadata": {},
   "outputs": [],
   "source": [
    "FPS = 60\n",
    "FramePerSec = pygame.time.Clock()"
   ]
  },
  {
   "cell_type": "markdown",
   "metadata": {},
   "source": [
    "Ďalej riešime niekoľko grafických záležitostí. Najprv si zadefinujeme niekoľko farieb, ktoré neskôr využijeme. Tieto farby sú definované ako trojice udávajúce jas po kanáloch **R**ed, **G**reen, **B**lue. Následne ešte definujeme veľkosť obrazovky cez konštanty `SCREEN_WIDTH` a `SCREEN_HEIGHT`. `SPEED` bude reprezentovať rýchlosť nášho auta (resp. protiidúcich áut), a `SCORE` budeme aktualizovať pre uchovávanie aktuálneho skóre v hre."
   ]
  },
  {
   "cell_type": "code",
   "execution_count": null,
   "metadata": {},
   "outputs": [],
   "source": [
    "RED = (255, 0, 0)\n",
    "BLACK = (0, 0, 0)\n",
    "WHITE = (255, 255, 255)\n",
    "\n",
    "SCREEN_WIDTH = 400\n",
    "SCREEN_HEIGHT = 600\n",
    "SPEED = 5\n",
    "SCORE = 0"
   ]
  },
  {
   "cell_type": "markdown",
   "metadata": {},
   "source": [
    "Ešte s grafikou súvisí vypisovanie informácií na obrazovku. K tomu si v `pygame` potrebujete vytvoriť najprv objekty fontov, ktoré sa použijú na prípravu textov. Neskôr si vygenerujete texty pomocou nich (cez metódu `render`), a môžete vykresliť až takto vygenerovaný objekt. V našej hre budeme používať dva fonty, prvý (väčšie písmo) sa použije pri výpise po prehratej hre, a druhý (menšie písmo) budeme používať na vypisovanie skóre. Keďže ukončovaciu správu vypíšeme iba raz, hneď teraz si pripravíme objekt, ktorý sa neskôr vypíše."
   ]
  },
  {
   "cell_type": "code",
   "execution_count": null,
   "metadata": {},
   "outputs": [],
   "source": [
    "font = pygame.font.SysFont(\"Verdana\", 60)\n",
    "game_over = font.render(\"Game Over\", True, BLACK)\n",
    "font_small = pygame.font.SysFont(\"Verdana\", 20)"
   ]
  },
  {
   "cell_type": "markdown",
   "metadata": {},
   "source": [
    "Posledná vec, ktorú urobíme v prípravnej fáze súvisí s plátnom, na ktoré budeme vykresľovať hru. K tomu si najprv vytvoríme `DISPLAYSURF`, ktorá v sebe bude uchovávať referenciu na obrazovku, ktorej nastavíme veľkosť podľa konštánt. Našu obrazovku zafarbíme bielou farbou, a nášmu oknu nastavíme ľubovoľný názov.\n",
    "\n",
    "Okrem toho sa tu ešte načíta obrázok, ktorý neskôr použijeme ako pozadie hry."
   ]
  },
  {
   "cell_type": "code",
   "execution_count": null,
   "metadata": {},
   "outputs": [],
   "source": [
    "background = pygame.image.load(\"resources/AnimatedStreet.png\")\n",
    "\n",
    "DISPLAYSURF = pygame.display.set_mode((SCREEN_WIDTH, SCREEN_HEIGHT))\n",
    "DISPLAYSURF.fill(WHITE)\n",
    "pygame.display.set_caption(\"Game\")"
   ]
  },
  {
   "cell_type": "markdown",
   "metadata": {},
   "source": [
    "Ďalej kód obsahuje definíciu dvoch tried, ku ktorým sa vrátime neskôr. Teraz dôležitejší je posledný blok kódu, ktorý rieši základy hernej logiky. Ako môžete vidieť, najprv si zadefinujeme dva objekty - jedného hráča, jedného protivníka. Následne sa spustí herná logika ako nekonečný cyklus, ktorý sa ukončí až na základe podmienky.\n",
    "\n",
    "Podmienka skontroluje, či sa medzi eventmi vygenerovanými počas hry nenachádza event typu `QUIT`, teda udalosť určujúca potrebu ukončenia hry. Eventy sú objekty reprezentujúce ľubovoľnú udalosť, alebo aj správu, a používajú sa veľmi často v grafických aplikáciách ale aj vo viacvláknových riešeniach. Ak potrebný event sa nájde, tak hru uzavrieme (`pygame.quit()`) a ukončíme aj našu aplikáciu (`sys.exit()`).\n",
    "\n",
    "Následne budeme aktualizovať naše objekty cez príslušné metódy (implementácia sa doplní neskôr). Ako môžete vidieť, na ďalšom riadku už znova zafarbíme plátno na bielu. Dôvodom toho je, že rôzne vrstvy sa vykresľujú v takom poradí, ako zavoláme príslušné metódy. Keďže my budeme pridávať aj autá, tak bez opätovného zafarbenia plátna tieto autá by sa stali súčasťou scény aj pri ďalšom kroku vykresľovania, ako aj pri treťom, štvrtom, atď. kole. Dostali by sme teda obrazovku, na ktorej by sme videli okrem súčasnej pozície aj všetky predchádzajúce pozície áut. Ukážkové vykresľovanie auta vidíte ako zakomentovaný riadok, keďže zatiaľ nezadefinovali sme všetky potrebné atribúty triedy.\n",
    "\n",
    "Na konci cyklu sa ešte aktualizuje obrazovka (`pygame.display.update()`), a zavolá sa metóda pre simuláciu času tak, aby bola dodržaná zadefinovaná frekvencia (`FPS`)."
   ]
  },
  {
   "cell_type": "code",
   "execution_count": null,
   "metadata": {},
   "outputs": [],
   "source": [
    "P1 = Player()\n",
    "E1 = Enemy()\n",
    "\n",
    "\n",
    "while True:\n",
    "    for event in pygame.event.get():\n",
    "        if event.type == QUIT:\n",
    "            pygame.quit()\n",
    "            sys.exit()\n",
    "    P1.move()\n",
    "    E1.move()\n",
    "\n",
    "    DISPLAYSURF.fill(WHITE)\n",
    "    # DISPLAYSURF.blit(P1.image, P1.rect)\n",
    "\n",
    "    pygame.display.update()\n",
    "    FramePerSec.tick(FPS)\n"
   ]
  },
  {
   "cell_type": "markdown",
   "metadata": {},
   "source": [
    "## 2. Definícia hráča\n",
    "\n",
    "V ďalsom kroku zadefinujeme triedu reprezentujúcu hráča, a pridáme aj ovládanie.\n",
    "\n",
    "**Úloha:** Najprv rozšírte konštruktor triedy `Player` tak, aby sa načítal príslušný obrázok z priečinka `resources`. Ako príklad si vezmite načítanie obrázku pozadia. V konštruktore ešte nastavte členskú premennú `rect` ako obdĺžnik obrázka, ktorý získate príslušnou metódou z triedy [`pygame.image`](https://www.pygame.org/docs/ref/image.html), prípadne jej nadtriedy [`pygame.Surface`](https://www.pygame.org/docs/ref/surface.html). Centrum obdĺžnika (atribút `self.rect.center`) nastavte tak, aby sa hráč nachádzal na dolnej časti obrazovky niekde v strede (nezabudnite, že v počítačovej grafike za bod `[0, 0]` sa berie ľavý horný roh).\n",
    "\n",
    "**Úloha:** Implementujte metódu `move`, ktorá rieši pohyb hráča. Najprv získajte zoznam všetkých stlačených kláves cez funkciu [`pygame.key.get_pressed()`](https://www.pygame.org/docs/ref/key.html#pygame.key.get_pressed), a následne skontrolujte, či boli stlačené šípky doľava resp. doprava. [Zoznam kódov kláves nájdete tu.](https://www.pygame.org/docs/ref/key.html). Pre plynulosť pohybu auto posuňte nie o jednu pozíciu, ale napr. o 5 po x-ovej osi (aktualizujte polohu objektu [`rect`](https://www.pygame.org/docs/ref/rect.html)). Ošetrite, aby hráč neopustil herné pole."
   ]
  },
  {
   "cell_type": "code",
   "execution_count": null,
   "metadata": {},
   "outputs": [],
   "source": [
    "class Player(pygame.sprite.Sprite):\n",
    "    def __init__(self):\n",
    "        super().__init__()\n",
    "\n",
    "    def move(self):\n",
    "        pass"
   ]
  },
  {
   "cell_type": "markdown",
   "metadata": {},
   "source": [
    "Svoje riešenie môžete otestovať odkomentovaním príslušného riadku v hlavnej slučke hry a opätovným spustením skriptu."
   ]
  },
  {
   "cell_type": "markdown",
   "metadata": {},
   "source": [
    "## 3. Definícia protivníka\n",
    "\n",
    "Aby hra bola zaujímavá, potrebujeme ešte zadefinovať aj protivníka, teda auto, ktorému sa hráč bude snažiť vyhnúť. Trieda `Enemy` pričom má podobnú funkcionalitu ako trieda `Player` na zopár rozdielov:\n",
    "\n",
    "* v konštruktore si načítajte príslušný obrázok, získajte z neho obdĺžnik, a centrum obdĺžnika dajte na náhodné miesto po x-ovej osi, a na 0 po y-ovej osi;\n",
    "* v metóde `move` auto posúvajte stále dole po y-ovej osi o hodnotu `SPEED` (neskôr sa bude zvyšovať). Ak auto vyjde z hracej plochy (vrch obdĺžnika bude už mimo), tak ho vráťte na začiatok obrazovky podobne ako v konštruktore nastavením na náhodné miesto po hornom okraji."
   ]
  },
  {
   "cell_type": "code",
   "execution_count": null,
   "metadata": {},
   "outputs": [],
   "source": [
    "class Enemy(pygame.sprite.Sprite):\n",
    "    def __init__(self):\n",
    "        super().__init__()\n",
    "\n",
    "    def move(self):\n",
    "        pass"
   ]
  },
  {
   "cell_type": "markdown",
   "metadata": {},
   "source": [
    "## 4. Skupiny a vykresľovanie postáv\n",
    "\n",
    "Namiesto toho, aby sme hráča aj protivníka vykresľovali manuálne pridávaním príslušných riadkov (čo by bolo dosť nemožné pri dynamickom generovaní týchto postáv), vytvoríme si skupiny postáv, teda sprite-ov, ktoré slúžia na grafickú reprezentáciu našich áut. Použijeme na to triedu [`Group`](https://www.pygame.org/docs/ref/sprite.html#pygame.sprite.Group) z modulu `pygame.sprite` ešte pred samotným spustením hernej logiky:"
   ]
  },
  {
   "cell_type": "code",
   "execution_count": null,
   "metadata": {},
   "outputs": [],
   "source": [
    "P1 = Player()\n",
    "E1 = Enemy()\n",
    "\n",
    "enemies = pygame.sprite.Group()\n",
    "# TODO: add enemy to the group\n",
    "all_sprites = pygame.sprite.Group()\n",
    "# TODO: add enemy and player to the group"
   ]
  },
  {
   "cell_type": "markdown",
   "metadata": {},
   "source": [
    "Následne v hernej slučke vykresľovanie vyriešte tak, aby ste prechádzali zoznamom všetkých sprite-ov, a následne vykreslili každú postavu na svoju pozíciu (môžete použiť rovnaký prístup ako pred tým pre hráča, len to zovšeobecnite). Pri prechádzaní zoznamom naďalej zavolajte aj metódu `move`, aby sa naši postavy pohybovali.\n",
    "\n",
    "Upravte aj vykresľovanie samotnej hernej plochy - namiesto bieleho pozadia tam chceme mať pozadie, ktoré sme si načítali do premennej `background` (vykreslite ju na pozíciu `[0, 0]`)."
   ]
  },
  {
   "cell_type": "markdown",
   "metadata": {},
   "source": [
    "## 5. Ukončenie hry\n",
    "\n",
    "Ak ste postupovali správne, tak naše postavy sa už hýbu, t.j. dokážeme ovládať nášho hráča, a protivník pekne ide v protismere. Ak sa tieto dve autá náhodou stretnú, nič sa neudeje, hra pokračuje ďalej, ako keby sa nič nestalo.\n",
    "\n",
    "K tomu, aby sme vedeli identifikovať, či sa hra skončila (došlo k zrážke), potrebujeme začať riešiť kolízie. Pridajte túto funkcionalitu do hlavnej hernej slučky, inšpirujte sa metódami z modulu [`pygame.sprite`](https://www.pygame.org/docs/ref/sprite.html#pygame.sprite).\n",
    "\n",
    "Ak dôjde ku kolízii, urobte nasledovné zmeny:\n",
    "\n",
    "* nastavte pozadie obrazovky na červenú, a vypíšte správu *GAME OVER* (objekt bol vytvorený na začiatku, vypisuje sa rovnako ako ľubovoľný sprite);\n",
    "* aktualizujte obrazovku;\n",
    "* \"zabite\" (*kill*nite) každý sprite - metóda [`kill`](https://www.pygame.org/docs/ref/sprite.html#pygame.sprite.Sprite.kill) odstráni sprite z každej skupiny, a takto predídeme prípadnej aktualizácii sprite-ov;\n",
    "* počkajte niekoľko sekúnd (funkcia zo štandardného modulu [`time`](https://docs.python.org/3/library/time.html)) a následne ukončite hru podobne ako v prípade **QUIT** eventu."
   ]
  },
  {
   "cell_type": "markdown",
   "metadata": {},
   "source": [
    "## 6. Obťažnosť\n",
    "\n",
    "Teraz už správne identifikujeme kolízie, vzhľadom ale na rýchlosť protiidúcich áut je dosť nepravdepodobné, že ku zrážke dôjde. Práve preto v tomto kroku pridáme stále vyššiu obťažnosť do hry, a to tak, že časom zrýchlime protiidúce autá. Použijeme pritom aktualizáciu premennej `SPEED` (ktorá sa používa pri presúvaní protivníka) a [eventy](https://www.pygame.org/docs/ref/event.html).\n",
    "\n",
    "Eventy sú objekty, ktoré reprezentujú ľubovoľnú udalosť. Síce existujú štandardné eventy (ako napríklad **QUIT** pre vypnutie hry), vieme si takisto zadefinovať aj vlastné pomocou konštanty `pygame.USEREVENT`, napríklad:\n",
    "\n",
    "```\n",
    "INC_SPEED = pygame.USEREVENT + 1\n",
    "```\n",
    "\n",
    "nám zadefinuje nový typ eventu `INC_SPEED` s vlastným kódom. Tento event však potrebujeme vytvárať, aby sme ho mohli odchytiť.\n",
    "\n",
    "K tomu máme niekoľko možností, v našom riešení však teraz použijeme časomieru, teda rýchlosť budeme zvyšovať po každej sekunde. V module [`pygame.time`](https://www.pygame.org/docs/ref/time.html) si nájdite metódu, ktorá vygeneruje nám event daného typu po istom čase, a zadefinujte vlastný typ aj časomieru ešte pred hlavnou slučkou hry. Následne hlavnú slučku rozšírte tak, aby pri eventoch sa skontroloval aj výskyt eventu `INC_SPEED` a nie iba `QUIT`. V takomto prípade inkrementujte hodnotu `SPEED` podľa vlastného návrhu.\n",
    "\n",
    "Po opätovnom spustení by sa protihráči mali pohybovať stále rýchlejšie a rýchlejšie."
   ]
  },
  {
   "cell_type": "markdown",
   "metadata": {},
   "source": [
    "## 7. Skóre\n",
    "\n",
    "Naša hra už celkom dobre funguje, avšak bolo by dobré, keby sme počet áut, ktorým sme sa vyhli nemuseli počítať my (pri veľkej rýchlosti protivníkov sa to ani nedá). Práve preto zavedieme a vypíšeme skóre, pričom potrebujete urobiť nasledovné zmeny:\n",
    "\n",
    "* v metóde `Enemy.move` pridajte aktualizáciu počítadla `SCORE`, ak sa protiidúce auto dostane mimo plochy (vyhli sme sa mu); k tomu potrebujete premennú `SCORE` urobiť globálnou príkazom `global SCORE` na začiatku metódy;\n",
    "* vypíšte aktuálne skóre v hlavnej slučke hry (postupujte podobne ako pri správe *GAME OVER*), použite k tomu font `font_small`. Nezabudnite, že najprv musíte vyrenderovať objekt, a ten následne vykresliť na vami zvolené miesto (tak, aby text neprekážal, napr. `[10, 10]`)."
   ]
  },
  {
   "cell_type": "markdown",
   "metadata": {},
   "source": [
    "## 8. It All Ended with a Big Bang! (Bang!)\n",
    "\n",
    "Našou poslednou úlohou je pridať prehranie zvuku, aby sme hráčovi dali vedieť, že prehral. Pre audiostopu budeme používať triedu [`pygame.mixer.Sound`](https://www.pygame.org/docs/ref/mixer.html#pygame.mixer.Sound), ktorá definuje metódu pre prehratie tohto zvuku. Metódu zavolajte pri zrážke. Pre lepšie fungovanie odporúčame hneď po prehratí zvuku vykonávanie programu pozastaviť zavolaním metódy `time.sleep` približne na pol sekundy."
   ]
  },
  {
   "cell_type": "markdown",
   "metadata": {},
   "source": [
    "Tým vývoj hry nateraz ukončíme, ale samozrejme nič vám nebráni v tom, aby ste ďalej experimentovali touto hrou a knižnicou `pygame`."
   ]
  }
 ],
 "metadata": {
  "kernelspec": {
   "display_name": "Python 3 (ipykernel)",
   "language": "python",
   "name": "python3"
  },
  "language_info": {
   "codemirror_mode": {
    "name": "ipython",
    "version": 3
   },
   "file_extension": ".py",
   "mimetype": "text/x-python",
   "name": "python",
   "nbconvert_exporter": "python",
   "pygments_lexer": "ipython3",
   "version": "3.9.12"
  }
 },
 "nbformat": 4,
 "nbformat_minor": 4
}
