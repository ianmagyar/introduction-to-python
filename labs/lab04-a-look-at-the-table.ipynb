{
 "cells": [
  {
   "cell_type": "markdown",
   "metadata": {},
   "source": [
    "# Cvičenie 4: Pohľad na tabuľku"
   ]
  },
  {
   "cell_type": "markdown",
   "metadata": {},
   "source": [
    "Na dnešnom cvičení si precvičíme prácu so súbormi a základnými údajovými štruktúrami v Pythone. Cieľom je poukázať na typické prípady použitia týchto údajových štruktúr ako aj na postup pri spracovaní údajov a možné rozdelenie úloh pre štruktúrované riešenia.\n",
    "\n",
    "Ukážkovým príkladom bude spracovanie zoznamu futbalových výsledkov a generovanie tabuľky stavu ligy na základe týchto výsledkov. [Na tomto odkaze](sources/lab04/buli_results.txt) nájdete súbor s názvom `buli_results.txt`, ktorý obsahuje výsledky zápasov z prvých 24 kôl nemeckej Bundesligy. Každý riadok reprezentuje jeden zápas a má formu:\n",
    "\n",
    "`meno_domáceho_tímu počet_gólov_domácich - počet_gólov_hostí meno_hosťujúceho_tímu`.\n",
    "\n",
    "Ako môžete vidieť v súbore, väčšina tímov má meno, ktoré sa skladá z viacerých slov, alebo obsahuje aj čísla, napríklad `1. FC Köln`. Ako platí všeobecne vo futbale, tím ktorý strelí viac gólov, vyhrá zápas a získa 3 body. Ak oba tímy strelia rovnaký počet gólov (alebo ani jeden z nich gól nestrelí), oba odchádzajú zo zápasu s 1 bodom. Za prehru tímy bod nedostanú. \n",
    "\n",
    "Vaším cieľom na dnešnom cvičení je zo súboru vygenerovať tabuľku, ktorá bude mať približne nasledovnú formu:\n",
    "\n",
    "```\n",
    "|Rank|Team                    | G| W| D| L| GF| GA| P|\n",
    "------------------------------------------------------\n",
    "|   1|Bayer 04 Leverkusen     |24|20| 4| 0| 61| 16|64|\n",
    "|   2|FC Bayern München       |24|17| 3| 4| 65| 28|54|\n",
    "|   3|VfB Stuttgart           |24|16| 2| 6| 55| 31|50|\n",
    "|   4|Borussia Dortmund       |24|12| 8| 4| 48| 30|44|\n",
    "|   5|RB Leipzig              |24|13| 4| 7| 53| 31|43|\n",
    "|   6|Eintracht Frankfurt     |24| 9|10| 5| 38| 31|37|\n",
    "|   7|TSG 1899 Hoffenheim     |24| 9| 6| 9| 43| 44|33|\n",
    "|   8|SV Werder Bremen        |24| 8| 6|10| 33| 37|30|\n",
    "|   9|SC Freiburg             |24| 8| 6|10| 32| 44|30|\n",
    "|  10|FC Augsburg             |24| 7| 8| 9| 39| 41|29|\n",
    "|  11|1. FC Heidenheim        |24| 7| 7|10| 34| 42|28|\n",
    "|  12|Borussia Mönchengladbach|24| 6| 8|10| 42| 46|26|\n",
    "|  13|VfL Wolfsburg           |24| 6| 7|11| 30| 39|25|\n",
    "|  14|1. FC Union Berlin      |24| 7| 4|13| 23| 39|25|\n",
    "|  15|VfL Bochum              |24| 5|10| 9| 29| 50|25|\n",
    "|  16|1. FC Köln              |24| 3| 8|13| 16| 39|17|\n",
    "|  17|1. FSV Mainz 05         |24| 2|10|12| 19| 38|16|\n",
    "|  18|SV Darmstadt 98         |24| 2| 7|15| 24| 58|13|\n",
    "```\n",
    "\n",
    "[Kostru riešenia nájdete tu](sources/lab04/lab04.py), alebo môžete pracovať priamo v tomto Jupyter notebooku."
   ]
  },
  {
   "cell_type": "markdown",
   "metadata": {},
   "source": [
    "## 1. Načítanie zo súboru\n",
    "\n",
    "Prvou úlohou je načítať údaje zo súboru s výsledkami. Tieto výsledky zatiaľ nijak nespracujeme, iba ich načítame pre ďalšie spracovanie.\n",
    "\n",
    "**Úloha:** Implementujte funkciu `load_results`, ktorá načíta obsah súboru a vráti zoznam reťazcov, kde jeden reťazec reprezentuje jeden riadok zo súboru. Cestu k súboru dostane funkcia ako parameter `file_path`."
   ]
  },
  {
   "cell_type": "code",
   "execution_count": null,
   "metadata": {},
   "outputs": [],
   "source": [
    "def load_results(file_path):\n",
    "    # open file and read results from it\n",
    "    # returns a list of rows as strings\n",
    "    pass"
   ]
  },
  {
   "cell_type": "markdown",
   "metadata": {},
   "source": [
    "## 2. Načítanie výsledkov\n",
    "\n",
    "Funkciu pre načítanie výsledkov zo súboru už máme hotovú, avšak všetky informácie máme v jednom reťazci, čo nám veľmi nepomôže. Pri vytvorení tabuľky potrebujeme s týmito údajmi narábať rôznymi spôsobmi, a práve preto je potrebné, aby sme z reťazca reprezentujúceho jeden riadok zo súboru načítali pre nás dôležité dáta.\n",
    "\n",
    "Konkrétne sú to mená dvoch tímov, a počet nimi strelených gólov. Nezabudnite na to, že každý riadok obsahuje tieto informácie v poradí `domáci_tím domáce_góly - hostia_góly hosťujúci_tím`. Mená tímov sú ale komplikované, obsahujú viacero slov, aj čísla, takže pri načítaní týchto údajov musíme byť opatrní.\n",
    "\n",
    "**Úloha:** Implementujte funkciu `load_score`, ktorá má jeden parameter - `line`, ktorý je reťazec: riadok načítaný zo súboru. Funkcia vráti štvoricu údajov:\n",
    "* meno domáceho tímu: str\n",
    "* počet gólov strelených domácim tímom: int\n",
    "* meno hosťujúceho tímu: str\n",
    "* počet gólov hostí: int"
   ]
  },
  {
   "cell_type": "code",
   "execution_count": null,
   "metadata": {},
   "outputs": [],
   "source": [
    "def load_score(line):\n",
    "    # loads score from a row as string\n",
    "    # returns a tuple of four values: home team name, home team goals\n",
    "    # away team name, away team goals\n",
    "    pass"
   ]
  },
  {
   "cell_type": "markdown",
   "metadata": {},
   "source": [
    "## 3. Zoznam tímov\n",
    "\n",
    "Pred tým než sa spustíme do vytvorenia tabuľky, potrebujeme zistiť, koľko tímov máme v lige a ktoré sú to. Zatiaľ máme informácie o všetkých zápasoch, avšak jednotlivé tímy sa nachádzajú v týchto záznamoch viackrát.\n",
    "\n",
    "**Úloha:** Implementujte funkciu `get_team_list`, ktorá vráti zoznam mien tímov v lige. Ako parameter dostane zoznam štvoríc `scores`, kde jedna štvorica je výstupom funkcie `load_score`, teda reprezentuje údaje o jednom zápase. Ak ste šikovní, funkciu napíšete na jeden riadok."
   ]
  },
  {
   "cell_type": "code",
   "execution_count": null,
   "metadata": {},
   "outputs": [],
   "source": [
    "def get_team_list(scores):\n",
    "    # returns a set of unique team names\n",
    "    pass"
   ]
  },
  {
   "cell_type": "markdown",
   "metadata": {},
   "source": [
    "## 4. Vytvorenie tabuľky\n",
    "\n",
    "Už vieme, ako načítať údaje zo súboru, tieto údaje vieme predspracovať a prekonvertovať do potrebnej podoby, a máme už aj zoznam tímov v lige. Nezostáva nám nič iné len vygenerovať zatiaľ prázdnu tabuľku, ktorú postupne budeme aktualizovať na základe výsledkov zápasov.\n",
    "\n",
    "Tabuľku samozrejme vieme reprezentovať rôznymi spôsobmi, dnes si zvolíme spôsob, kde tabuľka je reprezentovaná ako zoznam máp (dictionary). Teda pre každý tím vytvoríme dictionary, ktorý bude obsahovať informácie o výkone tímu v sezóne. Každý dictionary by mal obsahovať nasledovné údaje:\n",
    "* meno tímu (`Team`)\n",
    "* počet odohraných zápasov (`G`)\n",
    "* počet výhier (`W`)\n",
    "* počet remíz (`D`)\n",
    "* počet prehier (`L`)\n",
    "* počet strelených gólov (`GF`)\n",
    "* počet inkasovaných gólov (`GA`)\n",
    "* počet získaných bodov (`P`).\n",
    "\n",
    "**Úloha:** Implementujte funkciu `create_table`, ktorá vygeneruje prázdnu tabuľku pre ligu na základe zoznamu mien tímov v lige `team_names`. Funkcia vráti zoznam máp, pričom mapy obsahujú zatiaľ iba mená tímov. Pre ostatné údaje uložené v mapách zvoľte vhodné začiatočné hodnoty."
   ]
  },
  {
   "cell_type": "code",
   "execution_count": null,
   "metadata": {},
   "outputs": [],
   "source": [
    "def create_table(team_names):\n",
    "    # creates an empty table with team names\n",
    "    # there is one dictionary for every team with the following info:\n",
    "    # team name, number of games played, number of wins, number of draws\n",
    "    # number of losses, number of goals scored, number of goals conceeded\n",
    "    # number of points\n",
    "    pass"
   ]
  },
  {
   "cell_type": "markdown",
   "metadata": {},
   "source": [
    "## 5. Vyhľadávanie v tabuľke\n",
    "\n",
    "Už sa čoskoro dostaneme k spracovaniu výsledkov a naplneniu tabuľky užitočnými údajmi, pred tým ale potrebujeme implementovať dve pomocné funkcie.\n",
    "\n",
    "Prvá z nich rieši vyhľadávanie v tabuľke podľa mena tímu a vráti mapu (dictionary) pre daný tím. Ak záznam o príslušnom tíme nenájde, funkcia vráti hodnotu `None`.\n",
    "\n",
    "**Úloha:** Implementujte funkciu `get_team_row`, ktorá nájde záznam pre tím `team_name` v tabuľke `table`. Ak takýto záznam neexistuje, funkcia vráti `None`."
   ]
  },
  {
   "cell_type": "code",
   "execution_count": null,
   "metadata": {},
   "outputs": [],
   "source": [
    "def get_team_row(table, team_name):\n",
    "    # finds the dictionary corresponding to the team in a table\n",
    "    pass"
   ]
  },
  {
   "cell_type": "markdown",
   "metadata": {},
   "source": [
    "## 6. Výpočet bodov\n",
    "\n",
    "Druhá pomocná funkcia bude mať na starosti výpočet bodov získaných tímom tak, že prechádza tabuľkou a počet bodov vyráta pre každý tím. Nezabudnite, že za výhru tím získa 3 body a za remízu 1.\n",
    "\n",
    "**Úloha:** Implementujte funkciu `update_points`, ktorá aktualizuje počet získaných bodov pre každý tím v tabuľke `table`. Funkcia nemá návratovú hodnotu, upravuje priamo tabuľku."
   ]
  },
  {
   "cell_type": "code",
   "execution_count": null,
   "metadata": {},
   "outputs": [],
   "source": [
    "def update_points(table):\n",
    "    # calculates the team's points based on number of wins, draws, losses\n",
    "    pass"
   ]
  },
  {
   "cell_type": "markdown",
   "metadata": {},
   "source": [
    "## 7. Aktualizácia tabuľky\n",
    "\n",
    "Teraz už nám nič nebráni v naplnení tabuľky reálnymi údajmi. Avšak spustiť sa do spracovania všetkých výsledkov naraz by bolo dosť nerozumné, takže v prvom rade vytvoríme funkciu, ktorá spracuje výsledok jedného zápasu a aktualizuje tabuľku.\n",
    "\n",
    "**Úloha:** Implementujte funkciu `add_match_to_table`, ktorá spracuje výsledok jedného zápasu a aktualizuje tabuľku podľa výsledku. Funkcia má dva parametre: `table` je zoznam reprezentujúci tabuľku, a `match_info` je štvorica hodnôt ako návratová hodnota z funkcie `load_score` (krok 2). Funkcia zoberie informácie o zápase a na základe nich aktualizuje údaje v tabuľke pre dva tímy. Návratovú hodnotu nemá, upravuje priamo tabuľku."
   ]
  },
  {
   "cell_type": "code",
   "execution_count": null,
   "metadata": {},
   "outputs": [],
   "source": [
    "def add_match_to_table(table, match_info):\n",
    "    # updates table based on a match result\n",
    "    # input is a list representing the table and\n",
    "    # a tuple representing the match result\n",
    "    # updates table directly, returns nothing\n",
    "    pass"
   ]
  },
  {
   "cell_type": "markdown",
   "metadata": {},
   "source": [
    "## 8. Naplnenie tabuľky údajmi\n",
    "\n",
    "A teraz konečne dozrel čas pre našu megafunkciu, ktorá zoberie výsledky uložené v súbore a z nich vygeneruje tabuľku. Samozrejme pri tom využijeme už implementované funkcie z bodov 1-7.\n",
    "\n",
    "**Úloha:** Implementujte funkciu `generate_table`, ktorá má jeden parameter: cestu k súboru s výsledkami futbalových zápasov (`results_file_path`). Funkcia načíta údaje z tohto súboru, vygeneruje tabuľku a následne túto tabuľku naplní údajmi podľa výsledkov. Funkcia vracia tabuľku, teda zoznam máp."
   ]
  },
  {
   "cell_type": "code",
   "execution_count": null,
   "metadata": {},
   "outputs": [],
   "source": [
    "def generate_table(results_file_path):\n",
    "    # gets path to file with results\n",
    "    # generates table and fills it with values based on match results\n",
    "    # returns the table as a list of dictionaries\n",
    "    pass"
   ]
  },
  {
   "cell_type": "markdown",
   "metadata": {},
   "source": [
    "## 9. Výpis tabuľky\n",
    "\n",
    "Vaša implementácia funkcie `generate_table` je bez pochýb skvelá, ale výstup z nej nie je príliš prehľadná. Práve preto vytvoríme ďalšiu funkciu, ktorá zoberie tabuľku s dátami a vypíše ju vo forme, ktorá je viac prehľadná pre človeka.\n",
    "\n",
    "**Úloha:** Implementujte funkciu `print_table`, ktorá dostane ako parameter (`table`) tabuľku, teda zoznam máp a vypíše ju na štandardný výstup ako prehľadnú tabuľku. Pri generovaní výstupu sa môžete inšpirovať tabuľkou z úvodu cvičenia."
   ]
  },
  {
   "cell_type": "code",
   "execution_count": null,
   "metadata": {},
   "outputs": [],
   "source": [
    "def print_table(table):\n",
    "    # prints table in a user-friendly way\n",
    "    # columns:\n",
    "    # rank, team, games, wins, draws, losses, goals for, goals against, points\n",
    "    # does not return anything\n",
    "    pass"
   ]
  },
  {
   "cell_type": "markdown",
   "metadata": {},
   "source": [
    "## 10. Zoradenie tabuľky\n",
    "\n",
    "Ak vaše riešenie vyskúšate viackrát, tak si všimnete, že poradie tímov v tabuľke je viac-menej náhodná (závisí od poradia pridania tímov do tabuľky). Práve preto implementujeme ešte jednu funkciu, ktorá tímy zoradí podľa podmienky. V tabuľkách sú tímy zoradené podľa počtu získaných bodov, gólového rozdielu (počet strelených - počet inkasovaných) a počtu vyhraných zápasov.\n",
    "\n",
    "**Úloha:** Implementujte funkciu `sort_table`, ktorá zoradí tímy v tabuľke podľa pravidiel určovania poradia; využite pri tom existujúce funkcie Pythonu. Funkcia vracia zoradenú tabuľku a má jeden parameter - tabuľku, ktorú potrebuje zoradiť. Poradie tímov určte podľa nasledovných pravidiel:\n",
    "1. počet získaných bodov;\n",
    "2. gólový rozdiel (počet strelených gólov - počet inkasovaných gólov)\n",
    "3. počet vyhraných zápasov.\n",
    "\n",
    "**Poznámka:** Pre naše účely to potrebné nebude, ale existujú aj ďalšie pravidlá pre určenie poradia tímov, ak majú horné tri ukazovatele úplne rovnaké. Môžete si ich naštudovať a tak rozšíriť vaše riešenie."
   ]
  },
  {
   "cell_type": "code",
   "execution_count": null,
   "metadata": {},
   "outputs": [],
   "source": [
    "def sort_table(table):\n",
    "    # sorts table based on a key, returns a copy of the table\n",
    "    pass"
   ]
  },
  {
   "cell_type": "markdown",
   "metadata": {},
   "source": [
    "## 11. Spojíme to celé\n",
    "\n",
    "Keď už máme všetky funkcie implementované, môžeme ich spojiť a tak vyskúšať fungovanie nášho programu. Postupným zavolaním posledných troch funkcií dokážeme zo súboru s výsledkami vypísať prehľadnú tabuľku. Naše riešenie je dokonca všeobecné, t.j. môžete ho využiť pre ľubovoľný súbor až kým forma zápisu výsledkov je dodržaná."
   ]
  },
  {
   "cell_type": "code",
   "execution_count": null,
   "metadata": {},
   "outputs": [],
   "source": [
    "table = generate_table(\"buli_results.txt\")\n",
    "\n",
    "table = sort_table(table)\n",
    "\n",
    "print_table(table)"
   ]
  },
  {
   "cell_type": "markdown",
   "metadata": {},
   "source": [
    "Vašu implementáciu môžete otestovať aj na výsledkoch z anglickej Premier League (súbor [`pl_results.txt`](sources/lab04/pl_results.txt)), španielskej La Ligy ([`laliga_results.txt`](sources/lab04/laliga_results.txt)), z talianskej Seria A ([`seriea_results.txt`](sources/lab04/seriea_results.txt)), alebo môžete si vytvoriť vlastný súbor s výsledkami pri dodržaní formátu."
   ]
  },
  {
   "cell_type": "markdown",
   "metadata": {},
   "source": [
    "## Doplňujúce úlohy\n",
    "\n",
    "1. Rozšírte tabuľku o jeden stĺpec s gólovým rozdielom (goal difference `GD = GF - GA`).\n",
    "2. Upravte funkciu `sort_table` tak, aby sa dala tabuľka zoradiť podľa vybraných parametrov.\n",
    "3. Pridajte funkciu pre ukladanie tabuľky do súboru vo [formáte csv](https://en.wikipedia.org/wiki/Comma-separated_values).\n",
    "4. V niektorých športoch ako napríklad v hokeji zápasy nemôžu končiť remízou. Pri remíze po riadnej hracej dobe zápas pokračuje predĺžením, takýto výsledok zápasu môže byť zapísaný napríklad `domáci 2e - 1 hostia`, kde `e` reprezentuje výhru po predĺžení. Navrhnite a implementujte spôsob spracovania takýchto výsledkov. Ako ukážkové vstupy môžete použiť výsledky zápasov zo slovenskej hokejovej Extraligy (súbor [`extraliga_results.txt`](sources/lab04/extraliga_results.txt)). V Extralige za výhru za riadnu hraciu dobu získa tím 3 body, za výhru po predĺžení 2 body, za prehru po predĺžení 1 bod, a za prehru za riadnu hraciu dobu žiadne body nezíska."
   ]
  }
 ],
 "metadata": {
  "kernelspec": {
   "display_name": "Python 3 (ipykernel)",
   "language": "python",
   "name": "python3"
  },
  "language_info": {
   "codemirror_mode": {
    "name": "ipython",
    "version": 3
   },
   "file_extension": ".py",
   "mimetype": "text/x-python",
   "name": "python",
   "nbconvert_exporter": "python",
   "pygments_lexer": "ipython3",
   "version": "3.9.12"
  }
 },
 "nbformat": 4,
 "nbformat_minor": 4
}
