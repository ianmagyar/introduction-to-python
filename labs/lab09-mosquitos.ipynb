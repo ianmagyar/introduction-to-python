{
 "cells": [
  {
   "cell_type": "markdown",
   "metadata": {},
   "source": [
    "# Cvičenie 9: Simulácia letu komára\n",
    "\n",
    "Určite ste už zažili, že ste sa snažili zaspať na konci dlhého letného dňa, no tesne pred tým, že by ste sa ponorili do spánku, ste začuli [iritujúci zvuk komára](https://www.youtube.com/watch?v=AMg-IgW7Dzg). Zvuk je niekedy intenzívnejši, neskôr ho ledva počujete, ako komár letí v izbe na prvý pohľad úplne náhodne. V skutočnosti sa ale nejedná o náhodný let, komár naviguje pomocou čuchu a riadi sa jednoduchými pravidlami.\n",
    "\n",
    "Na dnešnom cvičení pomocou objektovo orientovaného programovania a simulácie si ukážeme, ako komár dokáže nájsť svoju korisť vďaka geniality prírody. Na konci cvičenia teda budete mať implementáciu kódu, ktorá nasimuluje let komára nasledujúcim spôsobom (modrá bodka reprezentuje človeka, červený krížik komára):\n",
    "\n",
    "![Simulácia letu komára](sources/lab09/animation.gif)"
   ]
  },
  {
   "cell_type": "markdown",
   "metadata": {},
   "source": [
    "Simulácia sa skladá z niekoľkých konceptov, a to konkrétne:\n",
    "\n",
    "* `Field` - dvojrozmerný priestor, v ktorom sa nachádzajú naši aktéri (komár a človek)\n",
    "* aktéri `Mosquito` a `Human` - reprezentujú entity, ktoré sa pohybujú v priestore; pre zjednotenie funkcionality vytvoríme aj nadtriedu `Actor`\n",
    "* pre reprezentáciu pohybu použijeme pomocné triedy `Location`, ktorá bude reprezentovať polohu aktéra, a `Direction` pre reprezentáciu pohybu a pre výpočet aktualizovanej polohy.\n",
    "\n",
    "[Stiahnite si kostru riešenia](sources/lab09/lab09.zip) alebo pracujte v tomto notebooku. Našu implementáciu začneme práve s pomocnými triedami."
   ]
  },
  {
   "cell_type": "markdown",
   "metadata": {},
   "source": [
    "## 1. Poloha a pohyb\n",
    "\n",
    "Pred tým, než zadefinujeme našich aktérov, vytvoríme pomocné triedy pre reprezentáciu ich polohy a pohybu v priestore. Ako prvé sa pozrieme na triedu `Location`, ktorá je už plne implementovaná. Poloha aktéra bude reprezentovaná dvomi súradnicovými hodnotami `x` a `y`. Tie uložíme ako členské premenné v konštruktore. Trieda ďalej obsahuje metódy `move`, ktorá dostane ako parametre zmeny x-ovej a y-ovej súradnicovej hodnoty a vráti novú polohu (objekt typu `Location`) s aktualizovanými hodnotami (pripočíta sa zmena po jednotlivé osi). Metóda `get_coords` vráti x-ové a y-ové súradnicové hodnoty bodu (v zmysle enkapsulácie) a metóda `get_distance` vypočíta vzdialenosť medzi dvomi bodmi v dvojrozmernom priestore pomocou Pytagorovej vety."
   ]
  },
  {
   "cell_type": "code",
   "execution_count": 1,
   "metadata": {},
   "outputs": [],
   "source": [
    "from math import sqrt\n",
    "\n",
    "\n",
    "class Location:\n",
    "    def __init__(self, x, y):\n",
    "        self.x = float(x)\n",
    "        self.y = float(y)\n",
    "\n",
    "    def move(self, dx, dy):\n",
    "        return Location(self.x + float(dx), self.y + float(dy))\n",
    "\n",
    "    def get_coords(self):\n",
    "        return self.x, self.y\n",
    "\n",
    "    def get_distance(self, other):\n",
    "        o_x, o_y = other.get_coords()\n",
    "        x_dist = self.x - o_x\n",
    "        y_dist = self.y - o_y\n",
    "        return sqrt(x_dist ** 2 + y_dist ** 2)"
   ]
  },
  {
   "cell_type": "markdown",
   "metadata": {},
   "source": [
    "Druhá pomocná trieda sa nazýva `Direction` a nájdete ju v súbore `direction.py`. Táto trieda reprezentuje smer pohybu, a použijeme ju pri výpočte zmeny polohy. Smer pohybu bude definovaný uhlom $\\theta$, pričom pre reprezentáciu použijeme radiány.\n",
    "\n",
    "![Jednotková kružnica](https://www.mathwarehouse.com/unit-circle/images/unit-circle-general-formula-graph.png)\n",
    "\n",
    "**Úloha:** Opravte konštruktor tak, aby uhol normalizoval na hodnotu v intervale $<0, 2\\pi>$. Následne implementujte metódu `move`, ktorá ako parameter dostane vzdialenosť, ktorú daný aktér prekoná jedným krokom (polomer jednotkovej kružnice). Funkcia vracia dvojicu hodnôt, ktorá obsahuje zmenu po x-ovej a po y-ovej súradnici. Použite pritom sínus a kosínus uhla `self.angle`."
   ]
  },
  {
   "cell_type": "code",
   "execution_count": null,
   "metadata": {},
   "outputs": [],
   "source": [
    "class Direction:\n",
    "    def __init__(self, angle):\n",
    "        # angle is given in radians\n",
    "        # TODO: set angle, and normalize it for range <0, 2pi>\n",
    "        self.angle = angle\n",
    "\n",
    "    def move(self, dist):\n",
    "        # TODO: return difference in x and y values based on angle\n",
    "        return (-1, -1)\n",
    "\n",
    "    def get_angle(self):\n",
    "        return self.angle"
   ]
  },
  {
   "cell_type": "markdown",
   "metadata": {},
   "source": [
    "## 2. Umiestnenie aktérov\n",
    "\n",
    "Už máme pripravené definície polohy a pohybu, avšak zatiaľ nevieme, kde sa odohráva simulácia. Práve preto teraz doplníme triedu `Field`, ktorá definuje spôsob narábania s našimi aktérmi. Väčšina funkcionality je už hotová, ostávajú nám iba dve metódy `get_actor_distance` a `found`. Ostatné metódy majú nasledovnú funkcionalitu:\n",
    "\n",
    "* `move_human`: posunie človeka (podľa definície pohybu v triede `Human`);\n",
    "* `move_mosquito`: posunie komára (podľa definície pohybu v triede `Mosquito`);\n",
    "* `get_human_coordinates`: vráti pozíciu človeka;\n",
    "* `get_mosquito_coordinates`: vráti pozíciu komára;\n",
    "* `get_human`: vráti objekt človeka;\n",
    "* `get_mosquito`: vráti objekt komára.\n",
    "\n",
    "**Úloha:** Chýbajúca metóda `get_actor_distance` má vrátiť vzdialenosť medzi človekom a komárom (použije sa pri definícii pohybu komára) a metóda `found` vráti `boolean` vyjadrujúci, či komár našiel človeka alebo nie. Nájdenie koristi definujeme ako moment, keď vzdialenosť medzi človekom a komárom je menšia ako 2."
   ]
  },
  {
   "cell_type": "code",
   "execution_count": null,
   "metadata": {},
   "outputs": [],
   "source": [
    "class Field:\n",
    "    def __init__(self, human, mosquito):\n",
    "        self.human = human\n",
    "        self.mosquito = mosquito\n",
    "\n",
    "        self.human.set_field(self)\n",
    "        self.mosquito.set_field(self)\n",
    "\n",
    "    def move_human(self):\n",
    "        self.human.move()\n",
    "\n",
    "    def move_mosquito(self):\n",
    "        self.mosquito.move()\n",
    "\n",
    "    def get_human_coordinates(self):\n",
    "        return self.human.get_coords()\n",
    "\n",
    "    def get_mosquito_coordinates(self):\n",
    "        return self.mosquito.get_coords()\n",
    "\n",
    "    def get_human(self):\n",
    "        return self.human\n",
    "\n",
    "    def get_mosquito(self):\n",
    "        return self.mosquito\n",
    "\n",
    "    def get_actor_distance(self):\n",
    "        # TODO: return distance between human and mosquito\n",
    "        return 0\n",
    "\n",
    "    def found(self):\n",
    "        # TODO: return if mosquito has found human (distance between them < 2)\n",
    "        return False\n"
   ]
  },
  {
   "cell_type": "markdown",
   "metadata": {},
   "source": [
    "## 3. Postavy v priestore\n",
    "\n",
    "V priestore simulácie sa nachádzajú dva typy aktérov: komár a človek. Pred tým, než implementujeme prislúchajúce triedy ale vytvoríme abstraktnú nadtriedu `Actor`, ktorá deklaruje funkcionalitu aktérov, a to nasledovne:\n",
    "\n",
    "* `set_field`: pridávanie aktéra do priestoru;\n",
    "* `move`: pohyb aktéra, jednotlivé podtriedy ju implementujú;\n",
    "* `get_coords`: vráti x-ovú a y-ovú súradnicu aktéra;\n",
    "* `get_location`: vráti pozíciu aktéra ako objekt typu `Location`."
   ]
  },
  {
   "cell_type": "code",
   "execution_count": null,
   "metadata": {},
   "outputs": [],
   "source": [
    "class Actor:\n",
    "    def __init__(self, name, speed, x, y):\n",
    "        self.name = name\n",
    "        self.speed = speed\n",
    "        self.loc = Location(x, y)\n",
    "\n",
    "        self.field = None\n",
    "\n",
    "    def set_field(self, field):\n",
    "        self.field = field\n",
    "\n",
    "    def move(self):\n",
    "        pass\n",
    "\n",
    "    def get_coords(self):\n",
    "        return self.loc.get_coords()\n",
    "\n",
    "    def get_location(self):\n",
    "        return self.loc"
   ]
  },
  {
   "cell_type": "markdown",
   "metadata": {},
   "source": [
    "### 3.1. Človek\n",
    "\n",
    "Najprv implementujeme triedu `Human`, ktorá bude jednoduchšia. Vzhľadom na to, že väčšina funkcionality je odvodená od nadtriedy, potrebujeme implementovať iba metódu `move`, keďže konštruktor všetko nastaví podľa konštruktora nadtriedy. V metóde `move` implementujte náhodný pohyb človek nasledovným spôsobom:\n",
    "\n",
    "1. vytvorte objekt typu `Direction` pre reprezentáciu pohybu v náhodnom smere;\n",
    "2. vypočítajte zmenu súradnicových hodnôt pomocou objektu `Direction`;\n",
    "3. aktualizujte pozíciu aktéra cez členskú premennú `loc`."
   ]
  },
  {
   "cell_type": "code",
   "execution_count": null,
   "metadata": {},
   "outputs": [],
   "source": [
    "class Human(Actor):\n",
    "    def __init__(self, name, speed, x, y):\n",
    "        super().__init__(name, speed, x, y)\n",
    "\n",
    "    def move(self):\n",
    "        # TODO: take a step in a random direction\n",
    "        pass"
   ]
  },
  {
   "cell_type": "markdown",
   "metadata": {},
   "source": [
    "### 3.2. Komár\n",
    "\n",
    "Let komára sa riadi niekoľkými jednoduchými pravidlami, ktoré vyžadujú ukladávanie pomocných hodnôt, pre ktoré vytvoríme členské premenné v konštruktore. Následne vieme implementovať funkcionalitu metódy `move` na základe nasledovných pravidiel:\n",
    "\n",
    "* Kým komár je vo väčšej vzdialenosti od človeka ako 90, pohybuje sa náhodne.\n",
    "* Ak vzdialenosť je menšia, ako 90, komár zachytil vôňu krvi človeka. Od tohto momentu bude jeho pohyb riadený.\n",
    "* Najprv začne letieť v náhodnom smere. Ak po vykonaní kroku je vôňa silnejšia (vzdialenosť je menšia), tak pokračuje v tomto smere. V opačnom prípade sa otočí a začne lietať v smere, kde je šanca na zosilnenie vône vyššia (vygenerujte náhodný smer buď z celkového alebo z užšieho intervalu).\n",
    "* Ak vzdialenosť bude väčšia ako 90, komár stratil vôňu a znova letí náhodným spôsobom.\n",
    "\n",
    "**Poznámka:** Vzhľadom na to, že v našom riešení komára otočíme pri zoslabení vône, môže sa stať, že komár bude oscilovať medzi dvomi polohami. Ošetrite túto možnosť a predídte zacykleniu."
   ]
  },
  {
   "cell_type": "code",
   "execution_count": null,
   "metadata": {},
   "outputs": [],
   "source": [
    "class Mosquito(Actor):\n",
    "    def __init__(self, name, speed, x, y):\n",
    "        super().__init__(name, speed, x, y)\n",
    "        self.found_prey = False\n",
    "        self.last_distance = 0\n",
    "        self.last_direction = None\n",
    "        self.changes = list()\n",
    "\n",
    "    def move(self):\n",
    "        # TODO: implement mosquito's movement:\n",
    "        # while distance > 90 - move in a random direction\n",
    "        # if distance < 90, the mosquito has found the human scent trace\n",
    "        # fly in random direction, if scent gets stronger, continue\n",
    "        # if scent gets weaker, turn around\n",
    "        # if scent is lost, fly in a random direction\n",
    "        pass\n"
   ]
  },
  {
   "cell_type": "markdown",
   "metadata": {},
   "source": [
    "## 4. Simulácia\n",
    "\n",
    "Ak ste sa dostali do tohto bodu, už máte všetko pripravené k simulácii. Kód simulácie nájdete v súbore `main.py`, a využíva knižnicu `matplotlib` pre vizualizáciu. Ak túto knižnicu ešte nemáte nainštalovanú (je súčasťou Anacondy), môžete ju doinštalovať príkazom `pip install matplotlib` v príkazovom riadku alebo cez grafické rozhranie IDE.\n",
    "\n",
    "Na začiatku simulácie náhodne vygenerujeme pozíciu človeka, komár začne na pozícii `[10, 10]`. Simulácia trvá až dovtedy, kým komár nenájde človeka, pričom aktualizuje sa iba vykreslený graf, teda pozícia bodov reprezentujúcich človeka (modrý kruh) a komára (červený krížik)."
   ]
  },
  {
   "cell_type": "code",
   "execution_count": null,
   "metadata": {},
   "outputs": [],
   "source": [
    "import random\n",
    "from time import sleep\n",
    "\n",
    "import matplotlib.pyplot as plt\n",
    "\n",
    "\n",
    "human_x = random.randint(-50, 50)\n",
    "human_y = random.randint(-50, 50)\n",
    "human = Human(\"Janko Hrasko\", 1, human_x, human_y)\n",
    "mosquito = Mosquito(\"Mosquito\", 1, 10, 10)\n",
    "\n",
    "field = Field(human, mosquito)\n",
    "\n",
    "plt.ion()\n",
    "fig = plt.figure()\n",
    "ax = fig.add_subplot(111)\n",
    "ax.set_xlim([-100, 100])\n",
    "ax.set_ylim([-100, 100])\n",
    "\n",
    "human_pos = field.get_human_coordinates()\n",
    "mosquito_pos = field.get_mosquito_coordinates()\n",
    "\n",
    "human_plot_point, = ax.plot(human_pos, 'bo')\n",
    "mosquito_plot_point, = ax.plot(mosquito_pos, 'rx')\n",
    "fig.canvas.draw()\n",
    "fig.canvas.flush_events()\n",
    "\n",
    "while not field.found():\n",
    "    human_pos = field.get_human_coordinates()\n",
    "    mosquito_pos = field.get_mosquito_coordinates()\n",
    "\n",
    "    human_plot_point.set_xdata(human_pos[0])\n",
    "    human_plot_point.set_ydata(human_pos[1])\n",
    "    mosquito_plot_point.set_xdata(mosquito_pos[0])\n",
    "    mosquito_plot_point.set_ydata(mosquito_pos[1])\n",
    "\n",
    "    fig.canvas.draw()\n",
    "    fig.canvas.flush_events()\n",
    "\n",
    "    field.move_mosquito()\n",
    "    sleep(0.1)"
   ]
  },
  {
   "cell_type": "markdown",
   "metadata": {},
   "source": [
    "Ako môžete vidieť, v simulácii sa zatiaľ pohybuje iba komár, pridajte teda pohyb človeka, náhodne vygenerujte aj začiatočnú pozíciu komára, a všeobecne vyskúšajte rôzne nastavenia. Vaše riešenie môžete tiež rozšíriť o pridávanie prekážok do sveta."
   ]
  }
 ],
 "metadata": {
  "kernelspec": {
   "display_name": "Python 3 (ipykernel)",
   "language": "python",
   "name": "python3"
  },
  "language_info": {
   "codemirror_mode": {
    "name": "ipython",
    "version": 3
   },
   "file_extension": ".py",
   "mimetype": "text/x-python",
   "name": "python",
   "nbconvert_exporter": "python",
   "pygments_lexer": "ipython3",
   "version": "3.11.7"
  }
 },
 "nbformat": 4,
 "nbformat_minor": 4
}
