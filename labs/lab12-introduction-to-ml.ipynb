{
 "cells": [
  {
   "cell_type": "markdown",
   "id": "7c97aa86-4d04-4a3e-94cf-5af2b6049f4f",
   "metadata": {},
   "source": [
    "# Cvičenie 12: Strojové učenie v Pythone\n",
    "\n",
    "Na poslednom cvičení v tomto semestri sa pozrieme na niekoľko základných knižníc, ktoré sa často používajú pri implementácii inteligentných riešení v Pythone, a s ktorými sa určite stretnete aj na ďalších predmetoch. Ukážeme si jeden príklad trénovania klasifikačného modelu na jednoduchých dátach pomocou strojového učenia, a dostanete priestor na tvorbu vlastných modelov.\n",
    "\n",
    "V priebehu cvičenia budeme používať hneď niekoľko knižníc, ktoré by mali byť súčasťou Anaconda distribúcie. Ak počas vypracovania cvičenia vám niektoré knižnice budú chýbať, môžete si ich doinštalovať pomocou príkazu `pip`:\n",
    "\n",
    "```\n",
    "pip install numpy\n",
    "pip install pandas\n",
    "pip install seaborn\n",
    "pip install matplotlib\n",
    "pip install scikit-learn\n",
    "```"
   ]
  },
  {
   "cell_type": "markdown",
   "id": "411abf15-e3fb-43d9-b1ba-0146e5c4a922",
   "metadata": {},
   "source": [
    "Postup vývoja klasifikačných modelov vieme rozdeliť do nasledujúcich krokov:\r\n",
    "\r\n",
    "1. predspracovanie údajov\r\n",
    "2. návrh modelu\r\n",
    "3. trénovanie modelu\r\n",
    "4. vyhodnotenie modelu"
   ]
  },
  {
   "cell_type": "markdown",
   "id": "1555e93b-ffbc-4d91-bfd3-aafac879ba3e",
   "metadata": {},
   "source": [
    "## 1. Predspracovanie údajov\n",
    "\n",
    "Predspracovanie údajov je prvý krok, ktorý v sebe zahŕňa hneď niekoľko úloh:\n",
    "* načítanie datasetu\n",
    "* výber príznakov\n",
    "* normalizácia hodnôt\n",
    "* vektorizácia vstupov a výstupov\n",
    "* rozdelenie datasetu na trénovaciu, testovaciu a validačnú množinu.\n",
    "\n",
    "Postup pri predspracovaní údajov ukážeme na [Iris datasete](sources/lab12/iris.csv). Dataset popisuje niekoľko kvetov pomocou ich základných rozmerov."
   ]
  },
  {
   "cell_type": "markdown",
   "id": "f2a9b7ba-1b70-4cb7-bace-f51ec81b5fa3",
   "metadata": {},
   "source": [
    "### 1.1. Načítanie datasetu\n",
    "\n",
    "Na načítanie datasetu existujú rôzne knižnice pre Python, jedna populárna z nich je knižnica `pandas`. Knižnica dokáže načítať rôzne formátované dáta, napríklad formáty csv, html, json, hdf5 a SQL. Náš dataset vieme načítať priamo zo súboru csv nasledovným spôsobom:"
   ]
  },
  {
   "cell_type": "code",
   "execution_count": null,
   "id": "e73975dc-360d-4c7a-8d8a-b619351f097e",
   "metadata": {},
   "outputs": [],
   "source": [
    "import pandas as pd\n",
    "dataset = pd.read_csv('iris.csv')\n",
    "print(dataset)"
   ]
  },
  {
   "cell_type": "markdown",
   "id": "66590955-7cc7-4757-b53c-285f18389c8c",
   "metadata": {},
   "source": [
    "Načítaný dataset má typ DataFrame. K ľubovoľným stĺpcom sa dostaneme zadaním názvu stĺpca ako index datasetu. Ak chceme zobraziť viac stĺpcov, index musí byť zoznam s názvami týchto stĺpcov."
   ]
  },
  {
   "cell_type": "code",
   "execution_count": null,
   "id": "95bc6d4d-2d88-4b62-8aaa-320f825d2878",
   "metadata": {},
   "outputs": [],
   "source": [
    "# select only column SepalLengthCm\n",
    "print(dataset['SepalLengthCm'])\n",
    "\n",
    "# select columns SepalLengthCm and SepalWidthCm\n",
    "print(dataset[['SepalLengthCm', 'SepalWidthCm']])"
   ]
  },
  {
   "cell_type": "markdown",
   "id": "0e66be1b-eeb3-45d0-b54a-ed288dc58014",
   "metadata": {},
   "source": [
    "Alternatívne vieme zobraziť stĺpce ako keby boli parametrom objektu dataset, alebo vieme použiť aj poradové číslo stĺpca (znak `:` pred čiarkou vyjadruje všetky riadky)."
   ]
  },
  {
   "cell_type": "code",
   "execution_count": null,
   "id": "d59fa652-f983-448c-8315-8314b9f19aa3",
   "metadata": {},
   "outputs": [],
   "source": [
    "print(dataset.SepalLengthCm)\n",
    "print(dataset.iloc[:, 0])"
   ]
  },
  {
   "cell_type": "markdown",
   "id": "48cc1cca-5c95-4568-a8ca-4069b7dde316",
   "metadata": {},
   "source": [
    "Indexovanie riadkov a stĺpcov viete aj kombinovať, na poradí nezáleží:"
   ]
  },
  {
   "cell_type": "code",
   "execution_count": null,
   "id": "d6a712e8-b5e1-4407-9920-c57a1f6f1204",
   "metadata": {},
   "outputs": [],
   "source": [
    "print(dataset[:10]['SepalLengthCm'])\n",
    "print(dataset['SepalLengthCm'][:10])"
   ]
  },
  {
   "cell_type": "markdown",
   "id": "1b6f7b46-a672-410f-a795-0fd0254fefe0",
   "metadata": {},
   "source": [
    "Z datasetu viete vybrať iba niektoré riadky aj na základe hodnoty niektorého atribútu použitím `lambda` funkcie. Napríklad, pre všetky riadky, kde hodnota SepalLengthCm je viac ako 5:"
   ]
  },
  {
   "cell_type": "code",
   "execution_count": null,
   "id": "cbf2dbe1-2b55-406d-815c-4078da4638fe",
   "metadata": {},
   "outputs": [],
   "source": [
    "print(dataset.loc[lambda df:df.SepalLengthCm > 5, :])"
   ]
  },
  {
   "cell_type": "markdown",
   "id": "0ce83089-0480-4b60-aaf1-bafd81e1664b",
   "metadata": {},
   "source": [
    "Všetky tieto podmnožiny majú typ `DataFrame`. Ak chcete hodnoty použiť ako zoznam, resp. zoznam zoznamov, musíte pridať `values`:"
   ]
  },
  {
   "cell_type": "code",
   "execution_count": null,
   "id": "b9bfca8b-2017-49f0-9549-7f6aefddd5e9",
   "metadata": {},
   "outputs": [],
   "source": [
    "dataset['SepalLengthCm'][:10:].values"
   ]
  },
  {
   "cell_type": "markdown",
   "id": "65126168-a803-485d-9c0c-b57bb1ba1034",
   "metadata": {},
   "source": [
    "### 1.2. Výber príznakov\n",
    "\n",
    "Pred výberom príznakov potrebujeme získať intuitívne pochopenie datasetu a vzťahov medzi jednotlivými atribútmi a výsledkom klasifikácie. V tomto nám pomôže knižnica `Seaborn`, ktorá slúži na vizualizáciu údajov a využíva knižnicu `matplotlib`."
   ]
  },
  {
   "cell_type": "code",
   "execution_count": null,
   "id": "022c1a6e-f5c6-4880-bb51-9d5c7a1d4d3d",
   "metadata": {},
   "outputs": [],
   "source": [
    "import seaborn as sns\n",
    "import matplotlib.pyplot as plt\n",
    "\n",
    "# set plot style\n",
    "sns.set(style=\"ticks\")\n",
    "sns.set_palette(\"husl\")\n",
    "\n",
    "# create plots over all dataset; for subset use iloc indexing\n",
    "sns.pairplot(dataset, hue=\"Species\")\n",
    "\n",
    "# display plots using matplotlib\n",
    "plt.show()"
   ]
  },
  {
   "cell_type": "markdown",
   "id": "27712d1b-aa0d-4dc5-8a5b-224b9bdbea58",
   "metadata": {},
   "source": [
    "Uvedený kód namapuje záznamy z datasetu v každom možnom príznakovom priestore vo dvojiciach príznakov.\n",
    "\n",
    "Z grafov vidíme, že ani jedna kombinácia nám nedá lineárne separovateľný dataset, budeme teda používať všetky príznaky, ktoré vyberieme pomocou knižnice `pandas`:"
   ]
  },
  {
   "cell_type": "code",
   "execution_count": null,
   "id": "6231c9d0-ffd8-4d71-894e-ddf98ea55fc7",
   "metadata": {},
   "outputs": [],
   "source": [
    "# split data into input (X - select the first four columns) and output (y - select last column)\n",
    "X = dataset.iloc[:, :4].values\n",
    "y = dataset.iloc[:, -1].values"
   ]
  },
  {
   "cell_type": "markdown",
   "id": "4a2da48c-ef8f-4df7-9829-9a2c18acc54b",
   "metadata": {},
   "source": [
    "### 1.3. Normalizácia hodnôt\n",
    "\n",
    "Normalizácia hodnôt sa používa najmä pre zložitejšie datasety a urýchli proces trénovania modelov, ktoré lepšie pracujú s dátami z istého intervalu. Počas normalizácie sa číselné hodnoty namapujú zvyčajne na interval 0 až 1. Vzhľadom na jednoduchosť našich dát tento krok nateraz môžeme vynechať."
   ]
  },
  {
   "cell_type": "markdown",
   "id": "63ea7377-73e1-4666-9526-a885038c61d5",
   "metadata": {},
   "source": [
    "### 1.4. Vektorizácia vstupov a výstupov\n",
    "\n",
    "Kým väčšina klasifikačných modelov dokáže spracovať iba číselné hodnoty, skoro všetky datasety obsahujú aj nečíselné údaje (reťazce, kategórie, booleovské hodnoty, atď.). Preto je potrebné, aby sme tieto hodnoty premenili na vektorovú reprezentáciu. Pri vektorizácii upravíme výstupy na formu *n* čísel, kde *n* je počet tried pri klasifikácii. Každý vektor bude obsahovať práve jednu 1 a ostatné hodnoty budú 0, tieto čísla vyjadrujú mieru príslušnosti k jednotlivým triedam.\n",
    "\n",
    "V našom datasete potrebujeme upraviť očakávaný výstup, ktorý zatiaľ má formu reťazca. Pri vektorizácii vieme využiť `LabelEncoder` z knižnice `scikit-learn`:"
   ]
  },
  {
   "cell_type": "code",
   "execution_count": null,
   "id": "8d48f1e3-b7d5-494d-a707-94265303ab21",
   "metadata": {},
   "outputs": [],
   "source": [
    "from sklearn.preprocessing import LabelEncoder\n",
    "\n",
    "encoder = LabelEncoder()\n",
    "# transform string labels into number values 0, 1, 2\n",
    "y1 = encoder.fit_transform(y)\n",
    "\n",
    "# transform number values into vector representation\n",
    "Y = pd.get_dummies(y1).values"
   ]
  },
  {
   "cell_type": "markdown",
   "id": "96067b52-f003-4404-8b6e-4ce22d85c447",
   "metadata": {},
   "source": [
    "**Poznámka:** v niektorých prípadoch dokážete reťazce nahradiť jednoduchými číslami, takýto spôsob ale predpokladá, že čísla, ktoré sú blízko sebe vyjadrujú koncepty, ktoré sú veľmi podobné. Napríklad, ak máme stĺpec s hodnotami low, middle, high, tieto hodnoty vieme nahradiť číslami 1, 2 a 3. Rovnaký spôsob ale nemôžeme použiť s hodnotami ako napríklad značky auta: Škoda (1), Audi (2), Lada (3), pretože neurónová sieť by predpokladala, že Lada (3) je viac podobná Audi (2) ako Škodovke (1)."
   ]
  },
  {
   "cell_type": "markdown",
   "id": "1a208c4d-5097-4e02-9e8e-26a120c9bdc0",
   "metadata": {},
   "source": [
    "### 1.5. Rozdelenie datasetu na trénovaciu, testovaciu a validačnú množinu\n",
    "\n",
    "Ďalšou úlohou je rozdelenie množiny na trénovaciu a testovaciu. Na to použijeme ďalšiu funkciu z knižnice `scikit-learn`, a to `train_test_split` ([dokumentácia](https://scikit-learn.org/stable/modules/generated/sklearn.model_selection.train_test_split.html)), ktorá zachová poradie vstupov a výstupov a má tri dôležité parametre:\n",
    "1. zoznam vstupov\n",
    "2. zoznam výstupov\n",
    "3. test_size - veľkosť testovacej množiny medzi 0 a 1 (môžete použiť aj train_size)\n",
    "\n",
    "Pre opakovateľnosť trénovania je odporúčané používať random seed zadaním parametra `random_state`."
   ]
  },
  {
   "cell_type": "code",
   "execution_count": null,
   "id": "21af1cc0-0ba3-4c3b-a4d9-c2d0c12f4d89",
   "metadata": {},
   "outputs": [],
   "source": [
    "from sklearn.model_selection import train_test_split\n",
    "\n",
    "X_train, X_test, y_train, y_test = train_test_split(X, Y, test_size=0.2, random_state=0)"
   ]
  },
  {
   "cell_type": "markdown",
   "id": "43bcd7f8-3ec2-44eb-a881-18696dda93cc",
   "metadata": {},
   "source": [
    "Validačná množina sa pri jednoduchých datasetoch až tak často nepoužíva, slúži ako testovacia množina počas fázy trénovania a môže byť použitá ako podmienka pre ukončenie trénovania. Keď ju chcete získať, môžete tak urobiť opätovným volaním `train_test_split` nad už vyselektovanou trénovacou množinou."
   ]
  },
  {
   "cell_type": "markdown",
   "id": "c6f8326d-f8eb-4857-869e-645c87e2b26e",
   "metadata": {},
   "source": [
    "## 2. Návrh modelu\n",
    "\n",
    "Knižnica `scikit-learn` ponúka implementáciu skoro každého modelu kontrolovaného učenia, [ich zoznam nájdete tu](https://scikit-learn.org/stable/supervised_learning.html). Tieto modely sa naučia správne klasifikovať zadané príklady do tried na základe príkladov, s ktorými sa stretnú počas trénovania. Každý model je definovaný niekoľkými parametrami, ktoré potrebujete vhodne nastaviť, aby ste dosiahli čo najpresnejšiu predikciu.\n",
    "\n",
    "Pre jednoduchosť pri našom prvom pokuse použijeme klasifikátor [*k najbližších susedov*](https://scikit-learn.org/stable/modules/neighbors.html#nearest-neighbors-classification), ktorý predpovedá triedu vzorky na základe väčšiny tried jej *k* najbližších susedov v trénovacích dátach. Je jednoduchý, neparametrický a dobre funguje pri menších datasetoch, kde rozhodovanie závisí na lokálnej podobnosti medzi vzorkami. Môžeme ho zadefinovať jednoducho vytvorením objektu:"
   ]
  },
  {
   "cell_type": "code",
   "execution_count": null,
   "id": "4e267bc2-9110-4a50-8537-08da91cea52b",
   "metadata": {},
   "outputs": [],
   "source": [
    "from sklearn.neighbors import KNeighborsClassifier\n",
    "knn = KNeighborsClassifier()"
   ]
  },
  {
   "cell_type": "markdown",
   "id": "9dfdb407-3159-4a2b-b6d3-3a4a25388c7b",
   "metadata": {},
   "source": [
    "## 3. Trénovanie modelu\n",
    "\n",
    "Ak sme spokojní s naším modelom, môžeme ho začať trénovať pomocou fukcie `fit`. V tomto kroku potrebujeme zadať trénovacie príklady: vstupy aj výstupy, na základe ktorých sa model naučí základné charakteristiky dát."
   ]
  },
  {
   "cell_type": "code",
   "execution_count": null,
   "id": "f6572c70-ae98-4eff-ae65-e95004cb4ec5",
   "metadata": {},
   "outputs": [],
   "source": [
    "knn.fit(X_train, y_train)"
   ]
  },
  {
   "cell_type": "markdown",
   "id": "d18b778e-10b5-4224-b898-4d1840703e55",
   "metadata": {},
   "source": [
    "## 4. Vyhodnotenie modelu\n",
    "\n",
    "Vyhodnotenie siete pozostáva z dvoch základných úloh: testovanie a vyhodnotenie. Pre testovanie musíme získať výstupy ku vstupným hodnotám z trénovacej množiny pomocou metódy `predict`:"
   ]
  },
  {
   "cell_type": "code",
   "execution_count": null,
   "id": "84b25a40-6d33-4e35-b804-bb57a642d255",
   "metadata": {},
   "outputs": [],
   "source": [
    "y_pred = knn.predict(X_test)"
   ]
  },
  {
   "cell_type": "markdown",
   "id": "4685725a-99c9-4074-8e06-b53a6e78dc0d",
   "metadata": {},
   "source": [
    "Ďalej porovnáme ozajstné výstupy s očakávanými. Keďže výstup má vektorovú reprezentáciu, potrebujeme zistiť pozíciu kde sa nachádza najväčšia hodnota vo vektore. V tomto nám pomôže knižnica `numpy`.\n",
    "\n",
    "Pre vyhodnotenie našej siete použijeme konfúznu maticu. Konfúzna matica je tabuľková reprezentácia, kde v riadkoch máme očakávané triedy a v stĺpcoch vypočítané (predikované). V bunkách tabuľky sú uložené počty príkladov klasifikované v danej kombinácii očakávanej a predikovanej triedy. Ideálny klasifikátor bude mať všetky hodnoty po hlavnej diagonále (ďalšie informácie nájdete na [wikipédii](https://en.wikipedia.org/wiki/Confusion_matrix))."
   ]
  },
  {
   "cell_type": "code",
   "execution_count": null,
   "id": "c0a6db0b-2401-4971-aca4-17dfa9b815d6",
   "metadata": {},
   "outputs": [],
   "source": [
    "import numpy as np\n",
    "\n",
    "y_test_class = np.argmax(y_test,axis=1)\n",
    "y_pred_class = np.argmax(y_pred,axis=1)\n",
    "\n",
    "from sklearn.metrics import classification_report, confusion_matrix\n",
    "\n",
    "print(confusion_matrix(y_test_class, y_pred_class))"
   ]
  },
  {
   "cell_type": "markdown",
   "id": "b2ea091b-a6c7-49ce-95ea-eafa6c30022b",
   "metadata": {},
   "source": [
    "Z konfúznej matici potom vieme vypočítať ďalšie metriky, ako správnosť (*accuracy*), návratnosť (*recall*) a presnosť (*precision*):"
   ]
  },
  {
   "cell_type": "code",
   "execution_count": null,
   "id": "e2bd4d4b-8065-452f-b173-22efda0b045b",
   "metadata": {},
   "outputs": [],
   "source": [
    "print(classification_report(y_test_class, y_pred_class))"
   ]
  },
  {
   "cell_type": "markdown",
   "id": "c30083c5-32e0-4961-9cab-b5a52d04ec6e",
   "metadata": {},
   "source": [
    "Správnosť popisuje samotný klasifikátor a vypočíta sa nasledovne:\n",
    "\n",
    "$ACC = \\frac{TP + TN}{P + N}$\n",
    "\n",
    "kde TP + TN je suma správne klasifikovaných príkladov (na hlavnej diagonále) a P + N je počet všetkých príkladov."
   ]
  },
  {
   "cell_type": "markdown",
   "id": "5e8af1bf-bdb4-4c47-abd1-926fd4d42ee0",
   "metadata": {},
   "source": [
    "Návratnosť a presnosť popisujú klasifikátor pre danú triedu, vypočítajú sa nasledovne:\n",
    "\n",
    "$REC = \\frac{TP}{P}$\n",
    "\n",
    "$PREC = \\frac{TP}{TP + FP}$\n",
    "\n",
    "kde TP je počet správne klasifikovaných príkladov z danej triedy, P je počet príkadov z danej triedy v testovacej množine a FP je počet príkladov z testovacej množiny nesprávne klasifikovaných do tejto triedy."
   ]
  },
  {
   "cell_type": "markdown",
   "id": "64d7c641-e1b1-4aae-8991-f3c2a6bf3106",
   "metadata": {},
   "source": [
    "Metóda `classification_report` vypočíta ešte hodnotu F1, ktorá je harmonický priemer návratnosti a presnosti:\n",
    "\n",
    "$F1 = 2 \\cdot \\frac{REC \\cdot PREC}{REC + PREC}$"
   ]
  },
  {
   "cell_type": "markdown",
   "id": "7e001330-c33e-4de7-a91d-392312715546",
   "metadata": {},
   "source": [
    "## Doplnkové úlohy\n",
    "1. Vyskúšajte ďalšie klasifikačné modely zo `scikit-learn`u, a porovnajte ich presnosti.\n",
    "2. Pri použití parametrických klasifikátorov je kľúčové správne nastavenie parametrov, čo sa najčastejšie rieši veľkým počtom menších pokusov s rôznymi nastaveniami parametrov a ich vyhodnotením. Na konci procesu sa vyberú parametre, ktoré dajú najlepšiu presnosť. Vyskúšajte tento proces na vybranom klasifikačnom modeli, inšpirovať sa môžete [oficiálnym tutoriálom](https://scikit-learn.org/1.4/tutorial/statistical_inference/model_selection.html).\n",
    "3. Skúste natrénovať ľubovoľný model na inom štandardnom datasete. Ďalšie datasety nájdete priamo v knižnici `scikit-learn` [v module `datasets`](https://scikit-learn.org/stable/datasets/toy_dataset.html)."
   ]
  }
 ],
 "metadata": {
  "kernelspec": {
   "display_name": "Python 3 (ipykernel)",
   "language": "python",
   "name": "python3"
  },
  "language_info": {
   "codemirror_mode": {
    "name": "ipython",
    "version": 3
   },
   "file_extension": ".py",
   "mimetype": "text/x-python",
   "name": "python",
   "nbconvert_exporter": "python",
   "pygments_lexer": "ipython3",
   "version": "3.11.7"
  }
 },
 "nbformat": 4,
 "nbformat_minor": 5
}
