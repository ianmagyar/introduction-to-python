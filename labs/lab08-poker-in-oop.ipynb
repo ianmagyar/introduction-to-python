{
 "cells": [
  {
   "cell_type": "markdown",
   "metadata": {},
   "source": [
    "# Cvičenie 8: Pravdepodobnosť výhry v pokri\n",
    "\n",
    "Na dnešnom cvičení si ukážeme princípy objektovo orientovaného programovania na probléme predikcie výhry v hre poker, a to konkrétne vo variante Texas hold 'em. Cieľom v pokri je vykombinovať čo najsilnejšiu päticu kariet podľa definovaných pravidiel. V hold 'eme každý hráč dostane dve karty do rúk, a následne na stôl je postupne položených päť kariet, ktoré sú rovnaké pre každého hráča. Víťaz sa určí tak, že každý si vyberie najlepšiu kombináciu pätice kariet z dostupných sedem (päť na stole, dve v ruke) a tieto kombinácie sa porovnajú.\n",
    "\n",
    "V Texas hold 'eme pritom sú uznávané nasledovné kombinácie (zostupne od najsilnejšieho):\n",
    " 1. Royal Flush – postupka kariet 10 J Q K A v tej istej farbe\n",
    " 2. Straight Flush – akákoľvek postupka piatich kariet rovnakej farby\n",
    " 3. Four of a Kind – štvorica kariet s rovnakou hodnotou\n",
    " 4. Full House – trojica a dvojica kariet s rovnakou hodnotou\n",
    " 5. Flush – päť kariet tej istej farby\n",
    " 6. Straight – postupka kariet rôznych farieb\n",
    " 7. Three of a Kind – trojica kariet s rovnakou hodnotou\n",
    " 8. Two Pairs – dve dvojice kariet s rovnakou hodnotou\n",
    " 9. One Pair – dvojica kariet s rovnakou hodnotou\n",
    " 10. High Card – ak ani jeden hráč nemá kombinácie, vyhrá ten s kartou s najvyššou hodnotou (karty sú zoradené 2 – A)\n",
    "\n",
    "Ak teda máte Royal Flush, s istotou vyhráte. Ak dvaja hráči majú kombináciu na rovnakej úrovni, tiež sa rozhodne štýlom High Card. Napríklad ak máme dvoch hráčov s dvomi pármi 10 a 9, a jeden má navyše Q, kým druhý 8, tak vyhrá prvý (má vyššiu kartu). Keby okrem párov by obaja mali kartu s rovnakou hodnotou, nastane remíza.\n",
    "\n",
    "Pre jednoduchosť úlohy budeme považovať iba jeden jediný okamih v pokri, a to moment, keď na stole už máme položené štyri karty a poznáme karty, ktoré držia v ruke hráči. Takto nám ostáva 44 možných výsledkov (na stôl bude položená jedna z nepoužitých kariet). Cieľom bude určiť pravdepodobnosť toho, že vyhrá hráč 1, hráč 2, alebo nastane remíza (v pokri dosť nepravdepodobné). Pravdepodobnosť výhry jednotlivých hráčov vieme vypočítať tak, že nasimulujeme všetky možné výsledky hry, t.j. kto vyhrá, ak na stôl položíme prvú dostupnú kartu? kto vyhrá ak na stôl položíme druhú dostupnú kartu? atď. Pri každom možnom výstupe obaja hráči vytvoria najsilnejšie možné kombinácie z piatich kariet na stole a z tých dvoch, ktoré držia v ruke. Následne sa porovnajú dve kombinácie hráčov, a vyhrá hráč, ktorý má silnejšiu kombináciu.\n",
    "\n",
    "Samozrejme na reprezentáciu hernej situácie by sme mohli použiť aj natívne údajové štruktúry jazyka Python, nie je to ale úplne prírodzený spôsob. Práve preto si dnes vytvoríme vlastné reprezentácie, ktoré budú viac podobné tomu, ako rozmýšľame o tejto hre.\n",
    "\n",
    "Konkrétne budeme pracovať s piatimi konceptmi alebo triedami:\n",
    "\n",
    "* `Card` – reprezentuje kartu, ktorá má farbu a hodnotu;\n",
    "* `Deck` – balík kariet;\n",
    "* `Hand` – pätica kariet, definuje rôzne kombinácie pre poker;\n",
    "* `Player` – hráč, ktorý drží v ruke dve karty;\n",
    "* `Game` – samotná hra, ktorá zastrešuje celú funkcionalitu simulácie.\n",
    "\n",
    "Dôrazom nebude samotné algoritmické riešenie, ale návrh objektového riešenia. Pred tým, než sa spustíme do samotnej implementácie, potrebujeme navrhnúť štruktúru, t.j. ktorá trieda bude zodpovedná za ktorú časť funkcionality. Pritom budeme implementovať nasledujúce funkcie pre riešenie jednotlivých podproblémov:\n",
    "\n",
    "* `generate_setup` – pripraví hernú situáciu, určí ktoré karty budú mať hráči, a ktoré karty budú na stole;\n",
    "* `is_royal_flush`, `is_straight_flush`, `is_four_of_a_kind`, `is_full_house`, `is_flush`, `is_straight`, `is_three_of_a_kind`, `is_two_pairs`, `is_pair` – zisťuje, či pätica kariet spĺňa podmienky jednotlivých kombinácií;\n",
    "* `evaluate_hand` – vyhodnotí päticu kariet (nájde najsilnejšiu kombináciu a hodnotu relevantných kariet);\n",
    "* `compare_highest_card` – porovná dve pätice kariet na základe najvyššej hodnoty karty;\n",
    "* `find_better` – nájde lepšiu päticu kariet;\n",
    "* `get_all_combinations` – vygeneruje zoznam všetkých možných kombinácií, ktoré hráč môže mať na základe dostupných kariet;\n",
    "* `select_best` – nájde najsilnejšiu päticu, ktorú hráč môže vykombinovať z dostupných kariet;\n",
    "* `calculate_chances` – vypočíta pravdepodobnosť jednotlivých možných výsledkov hry.\n",
    "\n",
    "Ak máte hotový návrh, [stiahnite si kostru riešenia](sources/lab08/lab08.zip) a oboznámte sa s kódom. Zamerajte sa hlavne na členské premenné a na formu reprezentácie údajov."
   ]
  },
  {
   "cell_type": "markdown",
   "metadata": {},
   "source": [
    "## Hotové triedy\n",
    "\n",
    "V riešení nájdete tri už úplne implementované triedy, a to `Card`, `Deck` a `Hand`.\n",
    "\n",
    "`Card` je pomocná trieda pre reprezentáciu hracej karty. Kým bez vlastných tried by sme karty mohli reprezentovať ako dvojicu hodnôt farba (typu `string`) a hodnota (typu `int`), tieto hodnoty radšej ukladáme v členských premenných `suit` a `value` (rovnakých typov). Trieda ďalej definuje štandardné metódy `__str__`, ktorá vygeneruje stringovú reprezentáciu karty; `__eq__`, ktorá porovná dva objekty typu `Card`; a `__gt__`, ktorá tiež rieši porovnávanie, avšak nerovnosť dvoch kariet. Metóda `__str__` nám umožní použitie funkcie `print` nad kartou, metóda `__eq__` umožňuje porovnávanie kariet pomocou operátora `==`, a metóda `__gt__` zodpovedá operátoru `>`. Keďže trieda definuje dva operátory porovnávania, môžeme použiť aj ostatné (`>=`, `!=`, `<`, atď.).\n",
    "\n",
    "Druhá trieda je `Deck`, ktorá definuje balík kariet (členská premenná `all_cards`), a zaznamenáva si, ktoré karty boli už použité (premenná `used_cards`), a ktoré ešte vieme použiť v rámci hry (`available_cards`). Ďalej definuje metódu `generate_setup`, ktorá vygeneruje hernú situáciu s dvomi hráčmi a štyrmi kartami na stole.\n",
    "\n",
    "Ďalšia trieda, `Hand`, definuje päticu kariet, ktorú hráč vykombinuje z dostupných kariet. Pätica je reprezentovaná ako zoznam piatich objektov typu `Card`. Trieda definuje metódy pre vyhodnotenie pätice (`evaluate_hand` a `is_...`). Podobne ako v prípade kariet, aj tu máme definované funkcie `__eq__` a `__gt__` pre jednoduché porovnávanie pätíc.\n",
    "\n",
    "Hotový je aj súbor `main.py`, ktorý definuje simuláciu hry."
   ]
  },
  {
   "cell_type": "markdown",
   "metadata": {},
   "source": [
    "## Trieda `Player`\n",
    "\n",
    "V tomto kroku doimplementujeme triedu `Player`, teda triedu reprezentujúcu hráča. Trieda má jednu členskú premennú, `hand`, ktorá v sebe má zoznam dvoch kariet, ktoré hráč drží v ruke. Metóda `deal_hand` naplní túto premennú hodnotami na základe rozdávaných kariet.\n",
    "\n",
    "**Úloha**: Implementujte metódu `get_all_combinations`, ktorá vygeneruje všetky možné pätice kariet hráča. Metóda má tri parametre, ktoré sú zoznamy kariet na stole. Návratová hodnota je zoznam pätíc kariet reprezentovaných ako `Hand`.\n",
    "\n",
    "**Úloha**: Implementujte metódu `get_best_hand`, ktorá nájde a vráti najsilnejšiu päticu kariet (typu `Hand`). Metóda má rovnaké parametre ako `get_all_combinations`. Nezabudnite, že objekty typu `Hand` môžete porovnať pomocou štandardných operátorov."
   ]
  },
  {
   "cell_type": "markdown",
   "metadata": {},
   "source": [
    "## Trieda `Game`\n",
    "\n",
    "Ostáva nám implementovať poslednú triedu `Game`, ktorá zastrešuje celkovú funkcionalitu. V konštruktore sa vytvorí balík kariet, a pridajú sa dvaja hráči. Implementujte chýbajúce metódy:\n",
    "\n",
    "* `prepare_setup` – vygeneruje začiatočnú situáciu hry, a nastaví karty v rukách hráča (použite existujúce metódy ostatných tried); uložte aj zoznam kariet na stole.\n",
    "* `find_winner` – nájde výhercu na základe karty `river`, ktorú dostane ako parameter. Metóda vráti 1 ak vyhrá hráč 1, 0 ak nastane remíza a -1 ak vyhrá hráč 2.\n",
    "* `calculate_chances` – hlavná funkcia triedy, vypočíta pravdepodobnosť jednotlivých výsledkov hry a vráti tri hodnoty: pravdepodobnosť výhry hráča 1, pravdepodobnosť remízy, a pravdepodobnosť výhry hráča 2."
   ]
  },
  {
   "cell_type": "markdown",
   "metadata": {},
   "source": [
    "## Testovanie riešenia\n",
    "\n",
    "Vaše riešenie môžete otestovať pomocou funkcie `main` v `main.py`."
   ]
  }
 ],
 "metadata": {
  "kernelspec": {
   "display_name": "Python 3 (ipykernel)",
   "language": "python",
   "name": "python3"
  },
  "language_info": {
   "codemirror_mode": {
    "name": "ipython",
    "version": 3
   },
   "file_extension": ".py",
   "mimetype": "text/x-python",
   "name": "python",
   "nbconvert_exporter": "python",
   "pygments_lexer": "ipython3",
   "version": "3.11.5"
  }
 },
 "nbformat": 4,
 "nbformat_minor": 2
}
