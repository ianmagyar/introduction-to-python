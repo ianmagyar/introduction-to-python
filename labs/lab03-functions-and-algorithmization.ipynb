{
 "cells": [
  {
   "cell_type": "markdown",
   "metadata": {},
   "source": [
    "# Cvičenie 3: Funkcie a algoritmizácia\n",
    "\n",
    "Na minulom cvičení sme napísali prvé programy v Pythone, ktoré ale využívali štandardný vstup a výstup. Zložitejšie programy však odovzdávajú hodnoty bez vedomia alebo zásahu používateľa, na tento účel sa používajú funkcie. Na dnešnom cvičení vytvoríme niekoľko funkcií, pričom ďalej budeme riešiť jednoduché problémy algoritmizácie."
   ]
  },
  {
   "cell_type": "markdown",
   "metadata": {},
   "source": [
    "## 1. Hľadanie prvočísel\n",
    "\n",
    "Na minulom cvičení sme už implementovali jednoduchý kód, ktorý zisťoval, či číslo, ktoré používateľ zadal, bolo alebo nebolo prvočíslo. Síce naše riešenie bolo funkčné a elegantné, v reálnom nasadení by sme ho nie veľmi vedeli použiť. Predstavme si, že máme napísať dlhý kód, v ktorom niekoľkokrát potrebujeme zistiť, či číslo je prvočíslo. Museli by sme túto časť kódu nakopírovať viackrát, a čo je ešte horšie, keby sme zistili počas vývoja, že náš kód obsahuje chyby (čo sa nám samozrejme nikdy nestane), museli by sme ho opraviť na niekoľkých miestach. Práve preto používame funkcie, ktoré môžeme zavolať koľkokrát len chceme bez toho, aby sme potrebovali napísať ten istý kód viackrát, a vďaka tomu funkciu vieme upravovať ako len chceme bez väčšej námahy. Na úvod tohto cvičenia z kódu z minulého týždňa vytvoríme funkciu.\n",
    "\n",
    "**Úloha:** Implementujte funkciu `is_prime()`, ktorá má jeden parameter - celé číslo. Funkcia vráti hodnotu `True`, ak zadané číslo je prvočíslo a `False` v opačnom prípade."
   ]
  },
  {
   "cell_type": "code",
   "execution_count": null,
   "metadata": {},
   "outputs": [],
   "source": [
    "def is_prime(number):\n",
    "    # returns True if number is prime; False otherwise\n",
    "    pass\n",
    "\n",
    "print(is_prime(13))\n",
    "print(is_prime(9))"
   ]
  },
  {
   "cell_type": "markdown",
   "metadata": {},
   "source": [
    "## 2. Súčet násobkov\n",
    "\n",
    "Väčšina funkcií samozrejme má viacero parametrov. Ako ukážku takýchto funkcií teraz implementujeme funkciu `get_sum_of_multiples()`. Táto funkcia vráti súčet násobkov ľubovoľného čísla z istého intervalu. Funkcia má dva parametre:\n",
    "* `max_number` - najväčšia hodnota intervalu vyhľadávania;\n",
    "* `number` - číslo, ktorého násobky hľadáme.\n",
    "\n",
    "**Úloha:** Implementujte funkciu `get_sum_of_multiples()`, ktorá vráti súčet násobkov čísla `number` z uzavretého intervalu `<1, max_number>`. Funkcia má jednu návratovú hodnotu - celé číslo reprezentujúce sumu násobkov. Napríklad pri volaní `get_sum_of_multiples(1000, 5)` sa vypočíta suma `5 + 10 + 15 + 20 + 25 + ... + 1000`."
   ]
  },
  {
   "cell_type": "code",
   "execution_count": null,
   "metadata": {},
   "outputs": [],
   "source": [
    "def get_sum_of_multiples(max_number, number):\n",
    "    # returns the sum of all multiples of number from the interval [1, max_number]\n",
    "    pass\n",
    "\n",
    "# returns the sum of all multiples of 5 from the interval [1, 1000]\n",
    "print(get_sum_of_multiples(1000, 5))"
   ]
  },
  {
   "cell_type": "markdown",
   "metadata": {},
   "source": [
    "## 3. Hľadanie trohujolníkov\n",
    "\n",
    "Pri programovaní je často potrebné skontrolovať niektoré hodnoty pred tým než ich použijeme, a zistiť, či sú platné. Príklad takejto funkcie je `is_triangle()`, ktorá má tri parametre, ktoré reprezentujú dĺžku jednotlivých strán trojuholníka. Našou úlohou je zistiť, či je možné zostrojiť trojuholník s takýmito stranami. Podmienka pre zostrojenie trojuholníka je to, že žiadna strana nemôže byť dlhšia ako súčet dĺžky ostatných dvoch strán.\n",
    "\n",
    "**Úloha:** Implementujte funkciu `is_triangle()`, ktorá vráti hodnotu `True` ak je možné zostrojiť trojuholník s dĺžkami strán dané parametrami `a`, `b` a `c`. V opačnom prípade funkcia vráti hodnotu `False`."
   ]
  },
  {
   "cell_type": "code",
   "execution_count": null,
   "metadata": {},
   "outputs": [],
   "source": [
    "def is_triangle(a, b, c):\n",
    "    # returns True if a, b, c represent the lengths of a valid triangle\n",
    "    pass\n",
    "\n",
    "print(is_triangle(3, 4, 5))"
   ]
  },
  {
   "cell_type": "markdown",
   "metadata": {},
   "source": [
    "## 4. Výpočet faktoriálu\n",
    "\n",
    "Faktoriál *n!* reprezentuje súčin všetkých celých čísel od *1* po *n*. Pomocou iterácie a vhodnej počiatočnej hodnoty pomocnej premennej vytvoríme teraz funkciu, ktorá vypočíta faktoriál ľubovoľného kladného celého čísla. Čísla 0 a 1 majú faktoriál 1.\n",
    "\n",
    "**Úloha:** Implementujte funkciu `compute_factorial()`, ktorá má jeden parameter `number` (kladné celé číslo), a vráti súčin všetkých celých čísel od *1* po *number* (vrátane)."
   ]
  },
  {
   "cell_type": "code",
   "execution_count": null,
   "metadata": {},
   "outputs": [],
   "source": [
    "def compute_factorial(number):\n",
    "    # returns number!\n",
    "    pass\n",
    "\n",
    "print(compute_factorial(6))"
   ]
  },
  {
   "cell_type": "markdown",
   "metadata": {},
   "source": [
    "## 5. Súčet číslic\n",
    "\n",
    "Veľkou výhodou aj nevýhodou Pythonu je dynamická typová kontrola. To znamená, že často môžeme ľubovoľne prechádzať medzi typmi a vykonať nad nimi rovnaké operácie. Musíme si ale dávať pozor, keďže niektoré operátory majú rôzne efekty pri použití s hodnotami rôznych typov. V tejto úlohe implementujeme funkciu pre výpočet súčtu číslic ľubovoľného kladného celého čísla. Urobíme tak najprv bez úpravy typu vstupu, následne skúsime nájsť elegantnejšie riešenie využitím ďalších elementárnych typov.\n",
    "\n",
    "**Úloha:** Implementujte funkciu `get_sum_of_digits()`, ktorá má jeden parameter `number` a vráti súčet číslic čísla `number`. Napríklad pre `get_sum_of_digits(71242)` výsledok bude `7 + 1 + 2 + 4 + 2 = 16` Funkciu implementujte najprv bez úpravy typu parametra `number`, následne skúste nájsť vhodnejšie riešenie."
   ]
  },
  {
   "cell_type": "code",
   "execution_count": null,
   "metadata": {},
   "outputs": [],
   "source": [
    "def get_sum_of_digits(number):\n",
    "    # returns the sum of the digits of number\n",
    "    pass\n",
    "\n",
    "print(get_sum_of_digits(123))"
   ]
  },
  {
   "cell_type": "markdown",
   "metadata": {},
   "source": [
    "## 6. Súčet číslic - inak\n",
    "\n",
    "Samozrejme funkcie môžeme aj prepojiť a tak jedna funkcia môže využívať funkcionalitu ďalších funkcií. Vytvorte takto funkciu `get_sum_of_digit_factorials()`, ktorá vráti súčet faktoriálov číslic ľubovoľného kladného čísla. Napríklad pre `243` bude výsledok `2! + 4! + 3! = 2 + 24 + 6 = 32`.\n",
    "\n",
    "**Úloha:** Implementujte funkciu `get_sum_of_digit_factorials()`, ktorá vráti súčet faktoriálov číslic čísla `number`, ktoré dostane ako parameter."
   ]
  },
  {
   "cell_type": "code",
   "execution_count": null,
   "metadata": {},
   "outputs": [],
   "source": [
    "def get_sum_of_digit_factorials(number):\n",
    "    # returns the sum of the number's digits' factorials\n",
    "    pass\n",
    "\n",
    "print(get_sum_of_digit_factorials(123))"
   ]
  },
  {
   "cell_type": "markdown",
   "metadata": {},
   "source": [
    "## 7. Divné faktoriály\n",
    "\n",
    "Či už veríte alebo nie, existujú čísla, pre ktoré súčet faktoriálov číslic sa rovná samotnému číslu. Také číslo je napríklad 145, keďže 1! + 4! + 5! = 145. Vytvorte funkciu, ktorá zistí, či zadané číslo je takéto číslo alebo nie. Použite pritom čo najviac už implementované funkcie.\n",
    "\n",
    "**Úloha:** Implementujte funkciu `is_strange_factorial()`, ktorá vráti hodnotu `True`, ak súčet faktoriálov číslic čísla `number` sa rovná hodnote `number`, a vráti hodnotu `False` v opačnom prípade. Funkcia má jeden parameter, kladné celé číslo `number`."
   ]
  },
  {
   "cell_type": "code",
   "execution_count": null,
   "metadata": {},
   "outputs": [],
   "source": [
    "def is_strange_factorial(number):\n",
    "    # returns True if the sum of the number's digits' factorials is the same as the number\n",
    "    # returns False otherwise\n",
    "    pass\n",
    "\n",
    "print(is_strange_factorial(145))"
   ]
  },
  {
   "cell_type": "markdown",
   "metadata": {},
   "source": [
    "## 8. Aký je dnes deň?\n",
    "\n",
    "Často zistíte, že na veľký počet problémov už existuje hotový algoritmus, nie je to inak ani pri zistení dňa v týždni pre ľubovoľný dátum. Keďže ale takéto výpočty sú založené na niekoľkých podmienkach, mi sa sústredíme na aktuálny rok (resp. pre storočie). Pre rok 2024 môžete určiť deň v týždni podľa nasledujúceho algoritmu:\n",
    "\n",
    "1. Zoberte posledné dve číslice roka (24)\n",
    "2. Zoberte výsledok po celočíselnom delení 4\n",
    "3. Pripočítajte číslo dňa v mesiaci\n",
    "4. Pripočítajte kód mesiaca:\n",
    "  * január: 1\n",
    "  * február: 4\n",
    "  * marec: 4\n",
    "  * apríl: 0\n",
    "  * máj: 2\n",
    "  * jún: 5\n",
    "  * júl: 0\n",
    "  * august: 3\n",
    "  * september: 6\n",
    "  * október: 1\n",
    "  * november: 4\n",
    "  * december: 6\n",
    "5. Odčítajte 1 pre január a február pre priestupný rok\n",
    "6. Pripočítajte 6 pre dátumy z 21. storočia\n",
    "8. Pripočítajte posledné dve číslice roka (24)\n",
    "9. Zoberte zvyšok po delení 7: 1 - nedeľa, 2 - pondelok, atď.\n",
    "\n",
    "**Úloha:** Implementujte funkciu `get_day_of_the_week()`, ktorá má tri parametre: rok, mesiac a deň dátumu (`year`, `month`, `day`) a vráti kód dňa v týždni."
   ]
  },
  {
   "cell_type": "code",
   "execution_count": null,
   "metadata": {},
   "outputs": [],
   "source": [
    "def get_day_of_the_week(year, month, day):\n",
    "    # returns code for day of the week: 1 for Sunday, 2 for Monday, etc\n",
    "    pass\n",
    "\n",
    "print(get_day_of_the_week(2024, 2, 27))"
   ]
  },
  {
   "cell_type": "markdown",
   "metadata": {},
   "source": [
    "**Doplnková úloha:** Vaše riešenie môžete zovšeobecniť pre ďalšie storočia podľa [tohto návodu](https://cs.uwaterloo.ca/~alopez-o/math-faq/node73.html) alebo môžete implementovať tzv. [Doomsday algoritmus](https://en.wikipedia.org/wiki/Doomsday_rule) od významného matematika a otca [Game of Life](https://en.wikipedia.org/wiki/Conway%27s_Game_of_Life), [Johna Conwaya](https://en.wikipedia.org/wiki/John_Horton_Conway)"
   ]
  },
  {
   "cell_type": "markdown",
   "metadata": {},
   "source": [
    "## Bonusové úlohy\n",
    "\n",
    "Ak si myslíte, že potrebujete vyriešiť ešte niekoľko podobných úloh pre algoritmizáciu, veľké množstvo nájdete na web stránke [Project Euler](https://projecteuler.net/archives)."
   ]
  }
 ],
 "metadata": {
  "kernelspec": {
   "display_name": "Python 3 (ipykernel)",
   "language": "python",
   "name": "python3"
  },
  "language_info": {
   "codemirror_mode": {
    "name": "ipython",
    "version": 3
   },
   "file_extension": ".py",
   "mimetype": "text/x-python",
   "name": "python",
   "nbconvert_exporter": "python",
   "pygments_lexer": "ipython3",
   "version": "3.9.12"
  }
 },
 "nbformat": 4,
 "nbformat_minor": 4
}
