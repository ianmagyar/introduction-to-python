{
 "cells": [
  {
   "cell_type": "markdown",
   "id": "42f3ca7f-a848-41f4-a505-5cad81548c09",
   "metadata": {},
   "source": [
    "# Cvičenie 11: Web scraping\n",
    "\n",
    "Web scraping je proces automatického získavania dát zo stránok na internete. Na tomto cvičení ukážeme, ako môžete pomocou Pythonu automaticky získavať údaje z webových stránok, a ako môžete pridať vlastnú funkcionalitu. Naším cieľom je načítať ponuku jedál z web stránky TUKE [jedalen.tuke.sk](https://jedalen.tuke.sk/denne-menu). Táto stránka síce poskytuje pekný prehľad denného menu, neumožňuje filtrovať ponuku podľa alergénov alebo iných stravovacích obmedzení. Práve preto na dnešnom cvičení napíšeme program, ktorý načíta údaje o jedlách, aj s uvedenými alergénmi a vypíše iba tie, ktoré spĺňajú kritériá definované používateľom (neobsahujú zadané alergény). [Zoznam alergénov a ich kódy nájdete na tejto stránke](https://jedalen.tuke.sk/alergeny).\n",
    "\n",
    "Na tieto účely existuje niekoľko knižníc, my budeme používať `BeautifulSoup`, ktorá umožňuje jednoducho analyzovať HTML kód a vyberať z neho požadované informácie. Okrem toho v kombinácii s knižnicou `requests` vieme pohodlne načítať obsah stránok bez potreby ručného sťahovania. Ak počas vypracovania úlohy budete mať otázky alebo neistoty, môžete si prečítať viac o použitých funkciách [v dokumentácii knižnice `BeautifulSoup`](https://www.crummy.com/software/BeautifulSoup/bs4/doc/).\r\n",
    "\r\n",
    "Na úvod si však potrebujete nainštalovať potrebné knižnice, napríklad cez príkazový riadok\r\n",
    "```\r\n",
    "pip install beautifulsoup4\r\n",
    "pip install requests\r\n",
    "```\n",
    "```:\r\n"
   ]
  },
  {
   "cell_type": "markdown",
   "id": "4d960b0b-a6cb-4a20-b1f4-7d252f240e25",
   "metadata": {},
   "source": [
    "## 1. Analýza webovej stránky\n",
    "\n",
    "Aby sme mohli spracovať ponuku jedál, najskôr potrebujeme získať údaje zo stránky jedálne. Stránka `jedalen.tuke.sk` obsahuje denný jedálny lístok, ktorý je zvyčajne usporiadaný v tabuľke alebo zozname. Každé jedlo je v samostatnom riadku a obsahuje aj zoznam alergénov. Na to, aby sme vedeli tieto údaje správne spracovať, musíme analyzovať HTML štruktúru stránky, nájsť vhodné elementy (napr. tabuľku alebo div kontajner s jedlami) a identifikovať, kde presne sú názvy jedál a ich alergény.\n",
    "\n",
    "Otvorte si stránku v ľubovoľnom prehliadači, a analyzujte zdrojový kód stránky, aby ste zistili, ako môžete pristupovať k potrebným údajom.\n",
    "\n",
    "**Poznámka**: Zoznam alergénov zatiaľ nemusíte načítať priamo z web stránky, budeme predpokladať, že používateľ ich pozná, a zadá už rovno ich číselné kódy."
   ]
  },
  {
   "cell_type": "markdown",
   "id": "a2f35506-63e3-460b-89c4-92f094f70dd5",
   "metadata": {},
   "source": [
    "## 2. Získanie html kódu\n",
    "\n",
    "Keď už vieme, aké údaje chceme zo stránky načítať, musíme najprv získať samotný HTML kód stránky. Na tento účel môžeme použiť knižnicu `requests`, ktorá umožňuje jednoducho odoslať HTTP požiadavku a získať obsah stránky ako text. Alternatívne je možné použiť aj knižnicu `urllib`, ktorá je súčasťou štandardnej knižnicovej výbavy Pythonu. Výsledný HTML text si neskôr spracujeme pomocou knižnice `BeautifulSoup`.\n",
    "\n",
    "Implementujete funkciu `get_menu_html(url)`, ktorá načíta HTML obsah stránky s ponukou jedál. Funkcia má jeden parameter (`url`) – adresu webovej stránky. Funkcia odošle HTTP požiadavku, načíta odpoveď a vráti ju vo forme textového reťazca. Ak pri načítavaní dôjde k chybe (napr. stránka je nedostupná), funkcia vyvolá výnimku.\n",
    "\n",
    "**Poznámka**: Pri riešení sa môžete inšpirovať dokumentáciou [knižnice `requests`](https://requests.readthedocs.io/en/latest/), prípadne [knižnice `urllib`](https://docs.python.org/3/library/urllib.html)."
   ]
  },
  {
   "cell_type": "code",
   "execution_count": null,
   "id": "734d7049-fe4b-4dc6-bce5-ee1a9205a0d5",
   "metadata": {},
   "outputs": [],
   "source": [
    "def get_menu_html(url):\n",
    "    # Sends an HTTP request to the given URL and returns the HTML content of the page as a string.\n",
    "    return \"\""
   ]
  },
  {
   "cell_type": "markdown",
   "id": "0abcf34c-b9b0-4449-8a27-50fc697e6185",
   "metadata": {},
   "source": [
    "## 3. Úprava reprezentácie\n",
    "\n",
    "Síce teoreticky by sme mohli pracovať s načítam HTML kódom ako s textom, nebolo by to veľmi praktické. Pre reprezentáciu web stránky so zachovaním pôvodnej štruktúry preto použijeme knižnicu `BeautifulSoup`.\n",
    "\n",
    "Implementujte funkciu `parse_menu(html)`, ktorá z načítaného HTML obsahu vytvorí parsovanú reprezentáciu `BeautifulSoup`, a vráti iba sekciu denného menu pre každú jedáleň (vracia teda zoznam HTML tagov)."
   ]
  },
  {
   "cell_type": "code",
   "execution_count": null,
   "id": "be0d22b3-072e-497d-84c2-1ce10f15f1ea",
   "metadata": {},
   "outputs": [],
   "source": [
    "def parse_menu(html):\n",
    "    # Parses the given HTML content and returns the div element containing the daily menu.\n",
    "    return []"
   ]
  },
  {
   "cell_type": "markdown",
   "id": "333782db-4693-4252-8729-26645d4cc31c",
   "metadata": {},
   "source": [
    "## 4. Načítanie jedál\n",
    "\n",
    "Keď máme načítaný správny kontajner s denným menu, ďalším krokom je získať konkrétne údaje o jednotlivých jedlách. Každé jedlo je uložené v tabuľke, kde každý riadok reprezentuje jednu položku. V rámci riadku sa názov jedla a alergény nachádzajú v samostatných stĺpcoch. Aby sme mohli tieto informácie spracovať programovo, musíme prejsť všetky riadky tabuľky, z každého riadku načítať názov jedla a zoznam alergénov, a uložiť ich do vhodnej dátovej štruktúry.\n",
    "\n",
    "Implementujte funkciu `load_meals(daily_menu)` tak, aby prešla všetky riadky denného menu a pre každé jedlo vytvorila dvojicu (*tuple*). Prvým prvkom dvojice bude názov jedla ako reťazec, druhým prvkom bude zoznam alergénov (*list*), kde každý alergén bude reprezentovaný ako celé číslo. Funkcia nakoniec vráti zoznam všetkých týchto dvojíc. Parameter funkcie je rovnaký, ako výsledok funkcie `parse_menu()`."
   ]
  },
  {
   "cell_type": "code",
   "execution_count": null,
   "id": "f62022f9-f7cc-4add-a40e-8ba0f228369b",
   "metadata": {},
   "outputs": [],
   "source": [
    "def load_meals(daily_menu):\n",
    "    # Parses the daily menu (passed as a parameter) and returns a list of tuples.\n",
    "    # Each tuple contains the meal name and a list of allergens represented as integers.\n",
    "    return []"
   ]
  },
  {
   "cell_type": "markdown",
   "id": "062b2fca-eb06-47c3-9200-2cee177f941d",
   "metadata": {},
   "source": [
    "## 5. Výber vhodných jedál\n",
    "\n",
    "Po získaní informácií môžeme prejsť k implementácii našej aplikácie. Používateľom chceme umožniť vybrať iba jedlá, ktoré neobsahujú zakázané alergény, a to na základe načítaných údajov.\n",
    "\n",
    "V tomto kroku implementujete funkciu `filter_meals_by_allergens()`, ktorá bude filtrovať zoznam jedál podľa zadaných alergénov. Funkcia má dva parametre:\n",
    "\n",
    "* `meals`: Zoznam dvojíc (*tuple*), kde každá dvojica obsahuje názov jedla a zoznam alergénov (každý alergén je celé číslo).\n",
    "* `forbidden_allergens`: Zoznam čísel alergénov, ktoré používateľ nechce vo svojom jedle. Tento zoznam sa použije na filtrovanie jedál, ktoré neobsahujú žiadny z týchto alergénov.\n",
    "\n",
    "Funkcia nakoniec vráti zoznam jedál, ktoré spĺňajú podmienky — teda tie, ktoré neobsahujú žiadny zo zakázaných alergénov. V návratovej hodnote majte len názvy jedál."
   ]
  },
  {
   "cell_type": "code",
   "execution_count": null,
   "id": "6baeaeab-a6af-4ed3-892d-ef261ba44c29",
   "metadata": {},
   "outputs": [],
   "source": [
    "def filter_meals_by_allergens(meals, forbidden_allergens):\n",
    "    # Filters the list of meals to only include those that do not contain any allergens\n",
    "    # from the forbidden_allergens list. The returned list contains the selected meals' name.\n",
    "    return []"
   ]
  },
  {
   "cell_type": "markdown",
   "id": "1d7ce53e-27a0-472c-8b50-31fde504fb6a",
   "metadata": {},
   "source": [
    "## 6. Výsledná aplikácia\n",
    "\n",
    "V tejto úlohe implementujete hlavnú funkciu `main()`, ktorá bude riadiť celý program. Program načíta HTML stránku s ponukou jedál, spracuje ju, načíta potrebné údaje o jedlách a alergénoch a následne vyfiltruje jedlá podľa zadaných alergénov. Umožnite používateľovi zadať alergény cez štandardný vstup vami zvolenou formou. Na záver funkcia vypíše výsledok."
   ]
  },
  {
   "cell_type": "code",
   "execution_count": null,
   "id": "31745bca-0f66-435a-8f60-ad044ac8fd7f",
   "metadata": {},
   "outputs": [],
   "source": [
    "def main():\n",
    "    \"\"\"\n",
    "    Main function that coordinates the entire process:\n",
    "    - Fetches the daily menu HTML\n",
    "    - Extracts the meal data\n",
    "    - Filters meals based on user-provided allergens\n",
    "    - Displays the filtered meals to the user\n",
    "    \"\"\"\n",
    "    pass"
   ]
  },
  {
   "cell_type": "markdown",
   "id": "e0e6064a-e49f-4e3a-a634-8267377e7232",
   "metadata": {},
   "source": [
    "Po implementácii môžete vaše riešenie otestovať."
   ]
  },
  {
   "cell_type": "code",
   "execution_count": null,
   "id": "6f67afaf-966c-49fb-b9cd-aa78f98a36da",
   "metadata": {},
   "outputs": [],
   "source": [
    "main()"
   ]
  },
  {
   "cell_type": "markdown",
   "id": "e7533d79-92da-4de6-a94b-f4bf83f055a4",
   "metadata": {},
   "source": [
    "## Doplnkové úlohy\n",
    "\n",
    "1. Naše riešenie zatiaľ nepovie používateľom, kde dané jedlá môžu nájsť. Rozšírte riešenie tak, aby vypísalo aj to, ktorá jedáleň dané jedlo ponúka.\n",
    "2. Umožnite používateľom zadať aj deň, pre ktorý hľadajú obed.\n",
    "3. Rozšírte riešenie tak, aby používateľ mohol zadať alergény slovom, následne ich podľa zoznamu na web stránke preveďte na čísla a vyfiltrujte akceptovateľné jedlá."
   ]
  }
 ],
 "metadata": {
  "kernelspec": {
   "display_name": "Python 3 (ipykernel)",
   "language": "python",
   "name": "python3"
  },
  "language_info": {
   "codemirror_mode": {
    "name": "ipython",
    "version": 3
   },
   "file_extension": ".py",
   "mimetype": "text/x-python",
   "name": "python",
   "nbconvert_exporter": "python",
   "pygments_lexer": "ipython3",
   "version": "3.11.7"
  }
 },
 "nbformat": 4,
 "nbformat_minor": 5
}
