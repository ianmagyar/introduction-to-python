{
 "cells": [
  {
   "cell_type": "markdown",
   "metadata": {},
   "source": [
    "# Cvičenie 9: Výpočet hodnoty $\\pi$\n",
    "\n",
    "Jeden z najznámejších matematických konštánt je hodnota $\\pi$ (alebo Ludolfovo číslo a.k.a. Archimedova konštanta), ktorá vyjadruje pomer obvodu kruhu k jeho priemeru. Síce samotný tvorca Pythonu preferuje konštantu $\\tau$, ktorá vyjadruje pomer obvodu kruhu k jeho polomeru ([viac o debate tu](https://tauday.com/tau-manifesto)), na dnešnom cvičení sa budeme zaoberať práve $\\pi$, prečo má práve hodnotu, akú má, a ako vôvec túto hodnotu poznáme?"
   ]
  },
  {
   "cell_type": "markdown",
   "metadata": {},
   "source": [
    "## Krátka história $\\pi$\n",
    "\n",
    "Konštantu $\\pi$ poznáte zo školy, kde ste pravdepodobne použili aproximáciu jej hodnoty $3.14$. Táto aproximácia nám stačí vo väčšine prípadov, samotná konštanta je ale irracionálne číslo, ktoré nevieme vyjadriť ako podiel dvoch celých čísel. Čo je ešte horšie, hodnotu nevieme vyjadriť ani ako číslo s periodicky sa opakujúcou desatinnou časťou (aspoň podľa nášho dnešného poznania).\n",
    "\n",
    "Pomer obvodu a priemeru kruhu zaujímal vedcov už aj v staroveku, konštantu poznali už niekedy 2000 rokov pred n.l. Prvý postup pre jej výpočet ale objavil Archimedes. K riešeniu sa dopracoval aproximáciou kruhu pomocou vpísaného mnohouholníka (konkrétne použil 96 uholník), ktorého obvod vieme veľmi jednoducho vypočítať a slúží ako dobrý odhad obvodu kruhu. Takýmto spôsobom Archimedes zistil, že hodnota je medzi $\\frac{223}{71}$ a $\\frac{220}{70}$, ($3,1408 < \\pi < 3,1428$). Vizualizáciu postupu vidíte na obrázku nižšie\n",
    "\n",
    "![Výpočet pi pomocou vpísaných mnohouholníkov](https://www.craig-wood.com/nick/pub/pymath/pi_geometric_inscribed_polygons.png)\n",
    "\n",
    "Túto myšlienku bral vážne aj Ludolph van Ceulen, ktorý konštantu upresnil na 35 miest - potreboval k tomu pravidelný mnohouholník s 1 073 741 284 stranami a kopu voľného času. Označenie $\\pi$ presadil Leonhard Euler, ktorý objavil aj [vlastnú užitočnú konštantu](https://sk.wikipedia.org/wiki/Eulerovo_číslo).\n",
    "\n",
    "Moderné výpočty hodnoty $\\pi$ samozrejme používajú aj počítače, v roku 1949 počítač ENIAC vypočítal hodnotu na 2037 desatinných miest za 70 hodín. Dnes poznáme hodnotu prvých 105 biliónov miest (výpočet trval 75 dní)."
   ]
  },
  {
   "cell_type": "markdown",
   "metadata": {},
   "source": [
    "## Výpočet hodnoty $\\pi$\n",
    "\n",
    "Presnú hodnotu $\\pi$ vieme vyjadriť ako nekonečný rad\n",
    "\n",
    "$\\pi = 4 \\sum_{k=0}^{\\infty} \\frac{(-1)^k}{2k + 1} = \\frac{4}{1} - \\frac{4}{3} + \\frac{4}{5} - \\frac{4}{7} + \\frac{4}{9} - \\frac{4}{11} + ...$\n",
    "\n",
    "Existuje ale aj iná aproximácia, ktorú používali niektoré počítačové programy pre výpočet tejto hodnoty. Konkrétne využijeme známe vzorce pre výpočet obsahu kruhu: $S = \\pi r^2$. Ako pomôcku zoberieme štvorec s vpísanou štvrťou kruhu, ako môžete vidieť na obrázku:\n",
    "\n",
    "<img src=\"sources/lab09/estimation.png\" width=\"400\">\n",
    "\n",
    "V tomto príklade obsah štvorca je $S_s = r^2$ keďže dĺžka strany je rovná polomeru kruhu. Obsah jednej štvrti kruhu je zase $S_c=\\frac{\\pi r^2}{4}$. Hodnotu $\\pi$ vieme vyjadriť aj ako pomer týchto dvoch oblastí (pomer zafarbenej časti a celého štvorca):\n",
    "\n",
    "$\\frac{S_c}{S_s} = \\frac{\\frac{\\pi r^2}{4}}{r^2} = \\frac{\\pi r^2}{4 r^2} = \\frac{\\pi}{4}$\n",
    "\n",
    "Z toho vieme, že:\n",
    "\n",
    "$\\pi = 4 \\frac{S_c}{S_s}$\n",
    "\n",
    "Otázkou ostáva, ako vieme aproximovať obsahy týchto dvoch útvarov? Táto metóda je založená na simuláciach typu Monte Carlo, ktoré hovoria o tom, že ak zoberieme dostatočne veľkú reprezentatívnu vzorku hodnôt z nejakej množiny, tak hodnota vypočítaná z tejto vzorky bude dostatočne presná aproximácia skutočnej hodnoty. Pre náš prípad to znamená, že náhodne vygenerujeme veľký počet bodov vo štvorci, a spočítame z nich počet tých bodov, ktoré sa nachádzajú v zafarbenej časti. Ak vygenerujeme dostatočný počet bodov, tak pomer počtu bodov v zafarbenej časti a celkového počtu bodov bude dobrou aproximáciou pomeru obsahu dvoch útvarov."
   ]
  },
  {
   "cell_type": "markdown",
   "metadata": {},
   "source": [
    "[Stiahnite si predpripravenú kostru riešenia](sources/lab09/lab09.py), alebo pracujte v tomto notebooku. V riešení zachováme pôvodnú terminológiu, kde aproximácia bola definovaná ako hod šípkami.\n",
    "\n",
    "Na začiatku riešenia nájdete všetky potrebné importy."
   ]
  },
  {
   "cell_type": "code",
   "execution_count": null,
   "metadata": {},
   "outputs": [],
   "source": [
    "import matplotlib.pyplot as plt\n",
    "import random\n",
    "import math\n",
    "from numpy import arange"
   ]
  },
  {
   "cell_type": "markdown",
   "metadata": {},
   "source": [
    "## 1. Výpočet $\\pi$\n",
    "\n",
    "Implementáciu začneme funkciou `calculate_pi`, ktorá vráti odhad hodnoty tejto konštanty na základe vstupných parametrov, kde `in_circle` vyjadruje počet bodov v zafarbenej časti, a `total` je celkový počet generovaných bodov. Funkcia má jednu návratovú hodnotu - desatinné číslo, ktoré vyjadruje odhad hodnoty $\\pi$."
   ]
  },
  {
   "cell_type": "code",
   "execution_count": null,
   "metadata": {},
   "outputs": [],
   "source": [
    "def calculate_pi(in_circle, total):\n",
    "    return 0"
   ]
  },
  {
   "cell_type": "markdown",
   "metadata": {},
   "source": [
    "## 2. Určenie počtu bodov v kruhu\n",
    "\n",
    "K aproximácii hodnoty $\\pi$ potrebujeme poznať aj počet bodov, ktoré sa nachádzajú v zafarbenej časti (v kruhu). Implementujte funkciu `is_in_circle`, ktorá vráti hodnotu `True` alebo `False` na základe toho, či sa bod na pozícii definovanej vstupnými parametrami `x` a `y` nachádza v kruhu. Pre jednoduchosť predpokladáme, že $r = 1$ a stred kruhu je na pozícii $[0, 0]$."
   ]
  },
  {
   "cell_type": "code",
   "execution_count": null,
   "metadata": {},
   "outputs": [],
   "source": [
    "def is_in_circle(x, y):\n",
    "    return False"
   ]
  },
  {
   "cell_type": "markdown",
   "metadata": {},
   "source": [
    "## 3. Celková simulácia\n",
    "\n",
    "V ďalšom kroku vytvoríme celú simuláciu, pričom ju implementujeme vo funkcii `throw_darts`. Funkcia vygeneruje náhodné body (ich počet je daný parametrom `num_darts`), a vráti odhadovanú hodnotu konštanty $\\pi$ pre danú simuláciu. Aby sme videli priebeh konvergencie, odhadované hodnoty budeme zaznamenávať po každom vygenerovanom bode. Práve preto funkcia už obsahuje dve pomocné premenné:\n",
    "\n",
    "* `in_circle` vyjadruje počet bodov, ktoré sa nachádzajú v zafarbenej oblasti;\n",
    "* `estimates` je zoznam, do ktorého pridáme odhadované hodnoty po jednotlivých iteráciach.\n",
    "\n",
    "Funkcia iteratívne vygeneruje `num_darts` bodov, pričom pre každý bod zistí, či daný bod je v kruhu alebo nie. Zároveň vypočíta odhadovanú hodnotu $\\pi$ a uloží ju do zoznamu `estimates`. Na konci vykonávania vráti finálny odhad. Keďže vykonávanie funkcie môže trvať dlhšie pri väčšom počte generovaných bodov, medzivýsledky vypisujte po 10000 iteráciach. Druhý parameter `show_plot` zatiaľ nepoužijeme."
   ]
  },
  {
   "cell_type": "code",
   "execution_count": null,
   "metadata": {},
   "outputs": [],
   "source": [
    "def throw_darts(num_darts, show_plot):\n",
    "    in_circle = 0\n",
    "    estimates = list()\n",
    "    \n",
    "    return 0"
   ]
  },
  {
   "cell_type": "markdown",
   "metadata": {},
   "source": [
    "## 4. Vizualizácia konvergencie\n",
    "\n",
    "V poslednom kroku vytvoríme funkciu `plot_estimates`, ktorá nám zobrazí konvergenciu odhadu k skutočnej hodnote $\\pi$. Funkcia berie jeden parameter `estimates`, ktorý je zoznam odhadov po jednotlivých iteráciach z funkcie `throw_darts`. Pre vizualizáciu použite knižnicu `matplotlib`, v grafe vizualizujte priebeh odhadu, aj skutočnú hodnotu $\\pi$, napríklad:\n",
    "\n",
    "![](sources/lab09/graph.png)\n",
    "\n",
    "Ak túto knižnicu ešte nemáte nainštalovanú (je súčasťou Anacondy), môžete ju doinštalovať príkazom `pip install matplotlib` v príkazovom riadku alebo cez grafické rozhranie IDE.\n",
    "\n",
    "Následne upravte funkciu `throw_darts`, aby automaticky zobrazila graf, ak hodnota `show_plot` bude `True`. Vo funkcii upravte aj výpočet medzivýsledkov podľa tohto parametra, odhad vypočítajte v každej iterácii len v prípade, že chceme vykresliť graf (výpočet po 10000 iteráciach ale ponechajte)."
   ]
  },
  {
   "cell_type": "code",
   "execution_count": null,
   "metadata": {},
   "outputs": [],
   "source": [
    "def plot_estimates(estimates):\n",
    "    pass"
   ]
  },
  {
   "cell_type": "markdown",
   "metadata": {},
   "source": [
    "## 5. Testovanie riešenia\n",
    "\n",
    "Vaše riešenie môžete otestovať pomocou hlavnej funkcie:"
   ]
  },
  {
   "cell_type": "code",
   "execution_count": null,
   "metadata": {},
   "outputs": [],
   "source": [
    "darts = 1000000\n",
    "pi_guess = throw_darts(darts, True)\n",
    "print(\"Estimated value of pi with {} darts is {}\".format(darts, pi_guess))"
   ]
  }
 ],
 "metadata": {
  "kernelspec": {
   "display_name": "Python 3 (ipykernel)",
   "language": "python",
   "name": "python3"
  },
  "language_info": {
   "codemirror_mode": {
    "name": "ipython",
    "version": 3
   },
   "file_extension": ".py",
   "mimetype": "text/x-python",
   "name": "python",
   "nbconvert_exporter": "python",
   "pygments_lexer": "ipython3",
   "version": "3.9.12"
  }
 },
 "nbformat": 4,
 "nbformat_minor": 2
}
