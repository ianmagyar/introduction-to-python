{
 "cells": [
  {
   "cell_type": "code",
   "execution_count": null,
   "id": "59174f60",
   "metadata": {},
   "outputs": [],
   "source": [
    "number = 10\n",
    "divide_by = 0\n",
    "\n",
    "try:\n",
    "    print(\"a\")\n",
    "    print(number / divide_by)\n",
    "    print(\"b\")\n",
    "except ZeroDivisionError:\n",
    "    print(\"You are trying to divide by zero\")\n",
    "# except NameError:\n",
    "#     print(\"You are using a non-existent variable\")\n",
    "# else:\n",
    "#     print(\"Everything went well\")\n",
    "# finally:\n",
    "#     print(\"I always get printed\")"
   ]
  },
  {
   "cell_type": "code",
   "execution_count": null,
   "id": "054c1339",
   "metadata": {},
   "outputs": [],
   "source": [
    "print(\"a\")\n",
    "print(number1 / divide_by)\n",
    "print(\"b\")"
   ]
  },
  {
   "cell_type": "code",
   "execution_count": null,
   "id": "62e439af",
   "metadata": {},
   "outputs": [],
   "source": [
    "number = 10\n",
    "divide_by = 0\n",
    "\n",
    "if divide_by == 0:\n",
    "    raise ZeroDivisionError(\"Chces delit nulou\")\n",
    "else:\n",
    "    print(number / divide_by)"
   ]
  },
  {
   "cell_type": "code",
   "execution_count": null,
   "id": "535d72fc",
   "metadata": {},
   "outputs": [],
   "source": [
    "def is_even(number):\n",
    "    return not number % 2"
   ]
  },
  {
   "cell_type": "code",
   "execution_count": null,
   "id": "916c4be4",
   "metadata": {},
   "outputs": [],
   "source": [
    "assert is_even(1) is False"
   ]
  },
  {
   "cell_type": "code",
   "execution_count": null,
   "id": "2c341063",
   "metadata": {},
   "outputs": [],
   "source": [
    "assert is_even(3578436518403759184368143609143890641937934865) is False"
   ]
  },
  {
   "cell_type": "code",
   "execution_count": null,
   "id": "d0d9025c",
   "metadata": {},
   "outputs": [],
   "source": [
    "assert is_even(0) is True"
   ]
  },
  {
   "cell_type": "code",
   "execution_count": null,
   "id": "c9def28a",
   "metadata": {},
   "outputs": [],
   "source": [
    "assert is_even(7) is False"
   ]
  },
  {
   "cell_type": "code",
   "execution_count": null,
   "id": "8bf1061d",
   "metadata": {},
   "outputs": [],
   "source": [
    "def divide_numbers(a, b):\n",
    "    if b == 0:\n",
    "        raise ZeroDivisionError(\"Cannot divide by 0\")\n",
    "    return a / b\n",
    "\n",
    "assert divide_numbers(7, 2) == 3.5\n",
    "assert divide_numbers(6, 2) == 3\n",
    "try:\n",
    "    divide_numbers(5, 0)\n",
    "except ZeroDivisionError:\n",
    "    pass\n",
    "else:\n",
    "    raise AssertionError(\"divide_numbers should raise ZeroDivisionError if divisor is 0\")"
   ]
  },
  {
   "cell_type": "code",
   "execution_count": null,
   "id": "56f424cd",
   "metadata": {},
   "outputs": [],
   "source": [
    "def is_palindrome():\n",
    "    original_list = list()\n",
    "    done = False\n",
    "    while not done:\n",
    "        elem = input(\"Enter element. Return when done. \")\n",
    "        if elem == '':\n",
    "            done = True\n",
    "        else:\n",
    "            original_list.append(elem)\n",
    "\n",
    "    test_list = original_list\n",
    "    test_list.reverse()\n",
    "    return test_list == original_list"
   ]
  },
  {
   "cell_type": "code",
   "execution_count": null,
   "id": "add2cb34",
   "metadata": {},
   "outputs": [],
   "source": [
    "is_palindrome()"
   ]
  },
  {
   "cell_type": "code",
   "execution_count": null,
   "id": "886e8e5e",
   "metadata": {},
   "outputs": [],
   "source": []
  }
 ],
 "metadata": {
  "kernelspec": {
   "display_name": "Python 3 (ipykernel)",
   "language": "python",
   "name": "python3"
  },
  "language_info": {
   "codemirror_mode": {
    "name": "ipython",
    "version": 3
   },
   "file_extension": ".py",
   "mimetype": "text/x-python",
   "name": "python",
   "nbconvert_exporter": "python",
   "pygments_lexer": "ipython3",
   "version": "3.9.12"
  }
 },
 "nbformat": 4,
 "nbformat_minor": 5
}
