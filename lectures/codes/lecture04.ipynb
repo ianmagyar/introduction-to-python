{
 "cells": [
  {
   "cell_type": "code",
   "execution_count": null,
   "id": "cf1ed7ae",
   "metadata": {},
   "outputs": [],
   "source": [
    "import numpy as np"
   ]
  },
  {
   "cell_type": "code",
   "execution_count": null,
   "id": "65fb8cfc",
   "metadata": {},
   "outputs": [],
   "source": [
    "my_array = np.array([2, 3, 4])\n",
    "print(my_array)"
   ]
  },
  {
   "cell_type": "code",
   "execution_count": null,
   "id": "f50c1dcb",
   "metadata": {},
   "outputs": [],
   "source": [
    "print(type(my_array))\n",
    "print(type(my_array[0]))\n",
    "print(my_array.dtype)\n",
    "\n",
    "num = int(my_array[0])\n",
    "print(type(num))"
   ]
  },
  {
   "cell_type": "code",
   "execution_count": null,
   "id": "e8fc0a3a",
   "metadata": {},
   "outputs": [],
   "source": [
    "my_array = np.array([[1, 2, 3, 4], [5, 6, 7, 8], [9, 10, 11, 12]])\n",
    "print(my_array)\n",
    "print(my_array.size)\n",
    "print(my_array.shape)"
   ]
  },
  {
   "cell_type": "code",
   "execution_count": null,
   "id": "72fd5d1e",
   "metadata": {},
   "outputs": [],
   "source": [
    "a1 = np.reshape(my_array, (1, 12))\n",
    "print(a1)\n",
    "a1 = np.reshape(my_array, (12,))\n",
    "print(a1)\n",
    "print(a1.size)\n",
    "print(a1.shape)"
   ]
  },
  {
   "cell_type": "code",
   "execution_count": null,
   "id": "5b197ad7",
   "metadata": {},
   "outputs": [],
   "source": [
    "print(my_array)\n",
    "a1 = np.reshape(my_array, (2, -1), order='C')\n",
    "print(a1)\n",
    "print(a1.size)\n",
    "print(a1.shape)\n",
    "a1 = np.reshape(my_array, (2, 6), order='F')\n",
    "print(a1)\n",
    "print(a1.size)\n",
    "print(a1.shape)"
   ]
  },
  {
   "cell_type": "code",
   "execution_count": null,
   "id": "b7faf8c0",
   "metadata": {},
   "outputs": [],
   "source": [
    "print(my_array)\n",
    "a2 = my_array.flatten()\n",
    "print(a2)"
   ]
  },
  {
   "cell_type": "code",
   "execution_count": null,
   "id": "c42c3076",
   "metadata": {},
   "outputs": [],
   "source": [
    "print(np.zeros((3, 5), dtype=np.int32))\n",
    "print(np.ones((3, 5), dtype=np.int32))\n",
    "print(np.full((3, 5), 5, dtype=np.int32))\n",
    "print(np.empty((3, 5)))"
   ]
  },
  {
   "cell_type": "code",
   "execution_count": null,
   "id": "18d6a2c7",
   "metadata": {},
   "outputs": [],
   "source": [
    "import math\n",
    "print(np.arange(0, 2, 0.1))"
   ]
  },
  {
   "cell_type": "code",
   "execution_count": null,
   "id": "163f1619",
   "metadata": {},
   "outputs": [],
   "source": [
    "print(np.linspace(0, 2, 21))"
   ]
  },
  {
   "cell_type": "code",
   "execution_count": null,
   "id": "5088fe71",
   "metadata": {},
   "outputs": [],
   "source": [
    "a1 = np.array([[1, 2, 3], [4, 5, 6]])\n",
    "a2 = np.array([[7, 8, 9], [10, 11, 12]])\n",
    "\n",
    "print(a1)\n",
    "print(a2)\n",
    "print(np.hstack((a1, a2)))\n",
    "print(np.vstack((a1, a2)))"
   ]
  },
  {
   "cell_type": "code",
   "execution_count": null,
   "id": "547fd36d",
   "metadata": {},
   "outputs": [],
   "source": [
    "print(a1)\n",
    "print(a1[0:, 1])"
   ]
  },
  {
   "cell_type": "code",
   "execution_count": null,
   "id": "ff6f7a45",
   "metadata": {},
   "outputs": [],
   "source": [
    "a = np.arange(12).reshape(3, 4)\n",
    "print(a)"
   ]
  },
  {
   "cell_type": "code",
   "execution_count": null,
   "id": "40abc9db",
   "metadata": {},
   "outputs": [],
   "source": [
    "i = np.array([[0, 1], [1, 2]])\n",
    "j = np.array([[2, 1], [3, 3]])"
   ]
  },
  {
   "cell_type": "code",
   "execution_count": null,
   "id": "04b964a2",
   "metadata": {},
   "outputs": [],
   "source": [
    "print(a[i, j])"
   ]
  },
  {
   "cell_type": "code",
   "execution_count": null,
   "id": "23dcae39",
   "metadata": {},
   "outputs": [],
   "source": [
    "a = np.arange(12).reshape(3, 4)\n",
    "print(a)\n",
    "b = a > 4\n",
    "print(b)\n",
    "a[b] = 0\n",
    "print(a)"
   ]
  },
  {
   "cell_type": "code",
   "execution_count": null,
   "id": "2b1c145d",
   "metadata": {},
   "outputs": [],
   "source": [
    "a1 = np.array([[1, 2, 3], [4, 5, 6]])\n",
    "a2 = np.array([[7, 8, 9], [10, 11, 12]])\n",
    "print(a1)\n",
    "print(a2)\n",
    "print(a1 + a2)\n",
    "print(a1 * 3)"
   ]
  },
  {
   "cell_type": "code",
   "execution_count": null,
   "id": "a4e42821",
   "metadata": {},
   "outputs": [],
   "source": [
    "a1 = np.array([[1, 8, 2], [7, 3, 6]])\n",
    "print(a1)\n",
    "print(np.min(a1, axis=1))"
   ]
  },
  {
   "cell_type": "code",
   "execution_count": null,
   "id": "f98f47e7",
   "metadata": {},
   "outputs": [],
   "source": [
    "a = np.arange(12).reshape(3, 4)\n",
    "b = a\n",
    "b[0, 0] = 100\n",
    "print(b)\n",
    "print(a)"
   ]
  },
  {
   "cell_type": "code",
   "execution_count": null,
   "id": "d5caf813",
   "metadata": {},
   "outputs": [],
   "source": [
    "a = np.arange(12).reshape(3, 4)\n",
    "b = a.view()\n",
    "b[0, 0] = 100\n",
    "print(b)\n",
    "print(a)"
   ]
  },
  {
   "cell_type": "code",
   "execution_count": null,
   "id": "4886e373",
   "metadata": {},
   "outputs": [],
   "source": [
    "a = np.arange(12).reshape(3, 4)\n",
    "b = a.copy()\n",
    "b[0, 0] = 100\n",
    "print(b)\n",
    "print(a)"
   ]
  },
  {
   "cell_type": "code",
   "execution_count": null,
   "id": "aaaa09da",
   "metadata": {},
   "outputs": [],
   "source": [
    "import pandas as pd"
   ]
  },
  {
   "cell_type": "code",
   "execution_count": null,
   "id": "038ca4a6",
   "metadata": {},
   "outputs": [],
   "source": [
    "s = pd.Series([1, 3, 5, np.nan, 6, 8])\n",
    "print(s)"
   ]
  },
  {
   "cell_type": "code",
   "execution_count": null,
   "id": "6737bb42",
   "metadata": {},
   "outputs": [],
   "source": [
    "dates = pd.date_range(\"20230101\", periods=6)\n",
    "print(dates)"
   ]
  },
  {
   "cell_type": "code",
   "execution_count": null,
   "id": "9fc3e71b",
   "metadata": {},
   "outputs": [],
   "source": [
    "df = pd.DataFrame(np.random.randn(6, 4), index=dates, columns=[\"C1\", \"C2\", \"C3\", \"C4\"])\n",
    "print(df)"
   ]
  },
  {
   "cell_type": "code",
   "execution_count": null,
   "id": "c10c73b3",
   "metadata": {},
   "outputs": [],
   "source": [
    "df2 = pd.DataFrame(\n",
    "    {\n",
    "        \"A\": 1.0,\n",
    "        \"B\": pd.Timestamp(\"20130102\"),\n",
    "        \"C\": pd.Series(1, index=list(range(4)), dtype=\"float32\"),\n",
    "        \"D\": np.array([3] * 4, dtype=\"int32\"),\n",
    "        \"E\": pd.Categorical([\"test\", \"train\", \"test\", \"train\"]),\n",
    "        \"F\": \"foo\",\n",
    "    }\n",
    ")\n",
    "print(df2)"
   ]
  },
  {
   "cell_type": "code",
   "execution_count": null,
   "id": "838c9a86",
   "metadata": {},
   "outputs": [],
   "source": [
    "print(df)"
   ]
  },
  {
   "cell_type": "code",
   "execution_count": null,
   "id": "785177b5",
   "metadata": {},
   "outputs": [],
   "source": [
    "print(df[\"C1\"])\n",
    "print(df.C1)"
   ]
  },
  {
   "cell_type": "code",
   "execution_count": null,
   "id": "5e60f536",
   "metadata": {},
   "outputs": [],
   "source": [
    "print(df[0:3])"
   ]
  },
  {
   "cell_type": "code",
   "execution_count": null,
   "id": "a9d8a7d6",
   "metadata": {},
   "outputs": [],
   "source": [
    "print(df[\"2023-01-01\":\"2023-01-04\"])"
   ]
  },
  {
   "cell_type": "code",
   "execution_count": null,
   "id": "ae18acba",
   "metadata": {},
   "outputs": [],
   "source": [
    "print(df.loc[\"2023-01-01\":\"2023-01-04\", [\"C2\", \"C4\"]])\n",
    "print(df.at[\"2023-01-01\", \"C2\"])"
   ]
  },
  {
   "cell_type": "code",
   "execution_count": null,
   "id": "e6cbee75",
   "metadata": {},
   "outputs": [],
   "source": [
    "print(df.iloc[0:4, [1, 3]])\n",
    "print(df.iat[0, 1])"
   ]
  },
  {
   "cell_type": "code",
   "execution_count": null,
   "id": "7f630537",
   "metadata": {},
   "outputs": [],
   "source": [
    "print(df)"
   ]
  },
  {
   "cell_type": "code",
   "execution_count": null,
   "id": "e92339fe",
   "metadata": {},
   "outputs": [],
   "source": [
    "print(df[df.C3 < 0])"
   ]
  },
  {
   "cell_type": "code",
   "execution_count": null,
   "id": "63b7b281",
   "metadata": {},
   "outputs": [],
   "source": [
    "df2.loc[3, \"E\"] = np.nan"
   ]
  },
  {
   "cell_type": "code",
   "execution_count": null,
   "id": "f02f3b23",
   "metadata": {},
   "outputs": [],
   "source": [
    "print(df2)"
   ]
  },
  {
   "cell_type": "code",
   "execution_count": null,
   "id": "6e65a420",
   "metadata": {},
   "outputs": [],
   "source": [
    "print(df2[df2[\"E\"].isin([\"test\", \"train\"])])"
   ]
  },
  {
   "cell_type": "code",
   "execution_count": null,
   "id": "b185f4bc",
   "metadata": {},
   "outputs": [],
   "source": [
    "df2[\"G\"] = 0"
   ]
  },
  {
   "cell_type": "code",
   "execution_count": null,
   "id": "db4198e7",
   "metadata": {},
   "outputs": [],
   "source": [
    "print(df2)"
   ]
  },
  {
   "cell_type": "code",
   "execution_count": null,
   "id": "0e4ccbde",
   "metadata": {},
   "outputs": [],
   "source": [
    "df2[\"H\"] = [0, 1, 2, 3]\n",
    "print(df2)"
   ]
  },
  {
   "cell_type": "code",
   "execution_count": null,
   "id": "7065186f",
   "metadata": {},
   "outputs": [],
   "source": [
    "df = pd.DataFrame(np.random.randn(6, 4), index=dates, columns=[\"C1\", \"C2\", \"C3\", \"C4\"])\n",
    "print(df)\n",
    "df[df < 0] = -df\n",
    "print(df)"
   ]
  },
  {
   "cell_type": "code",
   "execution_count": null,
   "id": "d995cd2e",
   "metadata": {},
   "outputs": [],
   "source": [
    "print(df.index)\n",
    "print(df.columns)"
   ]
  },
  {
   "cell_type": "code",
   "execution_count": null,
   "id": "87446a37",
   "metadata": {},
   "outputs": [],
   "source": [
    "print(df.to_numpy())"
   ]
  },
  {
   "cell_type": "code",
   "execution_count": null,
   "id": "5857ab0d",
   "metadata": {},
   "outputs": [],
   "source": [
    "a = df2.to_numpy()\n",
    "print(a.dtype)"
   ]
  },
  {
   "cell_type": "code",
   "execution_count": null,
   "id": "619c8dc5",
   "metadata": {},
   "outputs": [],
   "source": [
    "df.describe()"
   ]
  },
  {
   "cell_type": "code",
   "execution_count": null,
   "id": "7a4d1d52",
   "metadata": {},
   "outputs": [],
   "source": [
    "print(df)\n",
    "print(df.T)"
   ]
  },
  {
   "cell_type": "code",
   "execution_count": null,
   "id": "2d44f0be",
   "metadata": {},
   "outputs": [],
   "source": [
    "print(df)"
   ]
  },
  {
   "cell_type": "code",
   "execution_count": null,
   "id": "cf6b609f",
   "metadata": {},
   "outputs": [],
   "source": [
    "print(df.sort_values(by=\"C2\"))"
   ]
  },
  {
   "cell_type": "code",
   "execution_count": null,
   "id": "c681dba9",
   "metadata": {},
   "outputs": [],
   "source": [
    "print(df2)"
   ]
  },
  {
   "cell_type": "code",
   "execution_count": null,
   "id": "82cfcd1d",
   "metadata": {},
   "outputs": [],
   "source": [
    "print(pd.isna(df2))"
   ]
  },
  {
   "cell_type": "code",
   "execution_count": null,
   "id": "da04031d",
   "metadata": {},
   "outputs": [],
   "source": [
    "df2.dropna()"
   ]
  },
  {
   "cell_type": "code",
   "execution_count": null,
   "id": "6bf118ff",
   "metadata": {},
   "outputs": [],
   "source": [
    "print(df2)"
   ]
  },
  {
   "cell_type": "code",
   "execution_count": null,
   "id": "494f3140",
   "metadata": {},
   "outputs": [],
   "source": [
    "df2.fillna(value=\"train\")"
   ]
  },
  {
   "cell_type": "code",
   "execution_count": null,
   "id": "3c808bcb",
   "metadata": {},
   "outputs": [],
   "source": []
  }
 ],
 "metadata": {
  "kernelspec": {
   "display_name": "Python 3 (ipykernel)",
   "language": "python",
   "name": "python3"
  },
  "language_info": {
   "codemirror_mode": {
    "name": "ipython",
    "version": 3
   },
   "file_extension": ".py",
   "mimetype": "text/x-python",
   "name": "python",
   "nbconvert_exporter": "python",
   "pygments_lexer": "ipython3",
   "version": "3.12.7"
  }
 },
 "nbformat": 4,
 "nbformat_minor": 5
}
