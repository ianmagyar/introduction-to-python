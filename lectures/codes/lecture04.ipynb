{
 "cells": [
  {
   "cell_type": "code",
   "execution_count": 2,
   "id": "719df6a7",
   "metadata": {},
   "outputs": [
    {
     "ename": "ZeroDivisionError",
     "evalue": "division by zero",
     "output_type": "error",
     "traceback": [
      "\u001b[1;31m---------------------------------------------------------------------------\u001b[0m",
      "\u001b[1;31mZeroDivisionError\u001b[0m                         Traceback (most recent call last)",
      "Input \u001b[1;32mIn [2]\u001b[0m, in \u001b[0;36m<cell line: 3>\u001b[1;34m()\u001b[0m\n\u001b[0;32m      1\u001b[0m number \u001b[38;5;241m=\u001b[39m \u001b[38;5;241m10\u001b[39m\n\u001b[0;32m      2\u001b[0m divide_by \u001b[38;5;241m=\u001b[39m \u001b[38;5;241m0\u001b[39m\n\u001b[1;32m----> 3\u001b[0m \u001b[38;5;28mprint\u001b[39m(\u001b[43mnumber\u001b[49m\u001b[43m \u001b[49m\u001b[38;5;241;43m/\u001b[39;49m\u001b[43m \u001b[49m\u001b[43mdivide_by\u001b[49m)\n",
      "\u001b[1;31mZeroDivisionError\u001b[0m: division by zero"
     ]
    }
   ],
   "source": [
    "number = 10\n",
    "divide_by = 0\n",
    "print(number / divide_by)"
   ]
  },
  {
   "cell_type": "code",
   "execution_count": 17,
   "id": "59174f60",
   "metadata": {},
   "outputs": [
    {
     "name": "stdout",
     "output_type": "stream",
     "text": [
      "a\n",
      "Something went wrong\n",
      "I always get printed\n"
     ]
    }
   ],
   "source": [
    "number = 10\n",
    "divide_by = 0\n",
    "\n",
    "try:\n",
    "    print(\"a\")\n",
    "    print(number / divid_by)\n",
    "    print(\"b\")\n",
    "except ZeroDivisionError:\n",
    "    print(\"You are trying to divide by zero\")\n",
    "except Exception:\n",
    "    print(\"Something went wrong\")\n",
    "# except NameError:\n",
    "#     print(\"You are using a non-existent variable\")\n",
    "else:\n",
    "    print(\"Everything went well\")\n",
    "finally:\n",
    "    print(\"I always get printed\")"
   ]
  },
  {
   "cell_type": "code",
   "execution_count": 18,
   "id": "054c1339",
   "metadata": {},
   "outputs": [
    {
     "name": "stdout",
     "output_type": "stream",
     "text": [
      "a\n"
     ]
    },
    {
     "ename": "ZeroDivisionError",
     "evalue": "division by zero",
     "output_type": "error",
     "traceback": [
      "\u001b[1;31m---------------------------------------------------------------------------\u001b[0m",
      "\u001b[1;31mZeroDivisionError\u001b[0m                         Traceback (most recent call last)",
      "Input \u001b[1;32mIn [18]\u001b[0m, in \u001b[0;36m<cell line: 2>\u001b[1;34m()\u001b[0m\n\u001b[0;32m      1\u001b[0m \u001b[38;5;28mprint\u001b[39m(\u001b[38;5;124m\"\u001b[39m\u001b[38;5;124ma\u001b[39m\u001b[38;5;124m\"\u001b[39m)\n\u001b[1;32m----> 2\u001b[0m \u001b[38;5;28mprint\u001b[39m(\u001b[43mnumber\u001b[49m\u001b[43m \u001b[49m\u001b[38;5;241;43m/\u001b[39;49m\u001b[43m \u001b[49m\u001b[43mdivide_by\u001b[49m)\n\u001b[0;32m      3\u001b[0m \u001b[38;5;28mprint\u001b[39m(\u001b[38;5;124m\"\u001b[39m\u001b[38;5;124mb\u001b[39m\u001b[38;5;124m\"\u001b[39m)\n",
      "\u001b[1;31mZeroDivisionError\u001b[0m: division by zero"
     ]
    }
   ],
   "source": [
    "print(\"a\")\n",
    "print(number / divide_by)\n",
    "print(\"b\")"
   ]
  },
  {
   "cell_type": "code",
   "execution_count": 19,
   "id": "62e439af",
   "metadata": {},
   "outputs": [
    {
     "ename": "ZeroDivisionError",
     "evalue": "Chces delit nulou",
     "output_type": "error",
     "traceback": [
      "\u001b[1;31m---------------------------------------------------------------------------\u001b[0m",
      "\u001b[1;31mZeroDivisionError\u001b[0m                         Traceback (most recent call last)",
      "Input \u001b[1;32mIn [19]\u001b[0m, in \u001b[0;36m<cell line: 4>\u001b[1;34m()\u001b[0m\n\u001b[0;32m      2\u001b[0m divide_by \u001b[38;5;241m=\u001b[39m \u001b[38;5;241m0\u001b[39m\n\u001b[0;32m      4\u001b[0m \u001b[38;5;28;01mif\u001b[39;00m divide_by \u001b[38;5;241m==\u001b[39m \u001b[38;5;241m0\u001b[39m:\n\u001b[1;32m----> 5\u001b[0m     \u001b[38;5;28;01mraise\u001b[39;00m \u001b[38;5;167;01mZeroDivisionError\u001b[39;00m(\u001b[38;5;124m\"\u001b[39m\u001b[38;5;124mChces delit nulou\u001b[39m\u001b[38;5;124m\"\u001b[39m)\n\u001b[0;32m      6\u001b[0m \u001b[38;5;28;01melse\u001b[39;00m:\n\u001b[0;32m      7\u001b[0m     \u001b[38;5;28mprint\u001b[39m(number \u001b[38;5;241m/\u001b[39m divide_by)\n",
      "\u001b[1;31mZeroDivisionError\u001b[0m: Chces delit nulou"
     ]
    }
   ],
   "source": [
    "number = 10\n",
    "divide_by = 0\n",
    "\n",
    "if divide_by == 0:\n",
    "    raise ZeroDivisionError(\"Chces delit nulou\")\n",
    "else:\n",
    "    print(number / divide_by)"
   ]
  },
  {
   "cell_type": "code",
   "execution_count": 32,
   "id": "535d72fc",
   "metadata": {},
   "outputs": [],
   "source": [
    "def is_even(number):\n",
    "    if not isinstance(number, int):\n",
    "        return False\n",
    "    return not number % 2"
   ]
  },
  {
   "cell_type": "code",
   "execution_count": 33,
   "id": "916c4be4",
   "metadata": {},
   "outputs": [],
   "source": [
    "assert is_even(1) is False"
   ]
  },
  {
   "cell_type": "code",
   "execution_count": 34,
   "id": "2c341063",
   "metadata": {},
   "outputs": [],
   "source": [
    "assert is_even(3578436518403759184368143609143890641937934865) is False"
   ]
  },
  {
   "cell_type": "code",
   "execution_count": 35,
   "id": "d0d9025c",
   "metadata": {},
   "outputs": [],
   "source": [
    "assert is_even(0) is True"
   ]
  },
  {
   "cell_type": "code",
   "execution_count": 36,
   "id": "c9def28a",
   "metadata": {},
   "outputs": [],
   "source": [
    "assert is_even(7) is False"
   ]
  },
  {
   "cell_type": "code",
   "execution_count": 37,
   "id": "bc0d5107",
   "metadata": {},
   "outputs": [],
   "source": [
    "assert is_even(4.32423) is False"
   ]
  },
  {
   "cell_type": "code",
   "execution_count": 40,
   "id": "8bf1061d",
   "metadata": {},
   "outputs": [
    {
     "ename": "AssertionError",
     "evalue": "divide_numbers should raise ValueError if divisor is 0",
     "output_type": "error",
     "traceback": [
      "\u001b[1;31m---------------------------------------------------------------------------\u001b[0m",
      "\u001b[1;31mZeroDivisionError\u001b[0m                         Traceback (most recent call last)",
      "Input \u001b[1;32mIn [40]\u001b[0m, in \u001b[0;36m<cell line: 8>\u001b[1;34m()\u001b[0m\n\u001b[0;32m      8\u001b[0m \u001b[38;5;28;01mtry\u001b[39;00m:\n\u001b[1;32m----> 9\u001b[0m     \u001b[43mdivide_numbers\u001b[49m\u001b[43m(\u001b[49m\u001b[38;5;241;43m5\u001b[39;49m\u001b[43m,\u001b[49m\u001b[43m \u001b[49m\u001b[38;5;241;43m0\u001b[39;49m\u001b[43m)\u001b[49m\n\u001b[0;32m     10\u001b[0m \u001b[38;5;28;01mexcept\u001b[39;00m \u001b[38;5;167;01mValueError\u001b[39;00m:\n",
      "Input \u001b[1;32mIn [40]\u001b[0m, in \u001b[0;36mdivide_numbers\u001b[1;34m(a, b)\u001b[0m\n\u001b[0;32m      1\u001b[0m \u001b[38;5;28;01mdef\u001b[39;00m \u001b[38;5;21mdivide_numbers\u001b[39m(a, b):\n\u001b[0;32m      2\u001b[0m     \u001b[38;5;66;03m# if b == 0:\u001b[39;00m\n\u001b[0;32m      3\u001b[0m     \u001b[38;5;66;03m#     raise ValueError(\"Cannot divide by 0\")\u001b[39;00m\n\u001b[1;32m----> 4\u001b[0m     \u001b[38;5;28;01mreturn\u001b[39;00m \u001b[43ma\u001b[49m\u001b[43m \u001b[49m\u001b[38;5;241;43m/\u001b[39;49m\u001b[43m \u001b[49m\u001b[43mb\u001b[49m\n",
      "\u001b[1;31mZeroDivisionError\u001b[0m: division by zero",
      "\nDuring handling of the above exception, another exception occurred:\n",
      "\u001b[1;31mAssertionError\u001b[0m                            Traceback (most recent call last)",
      "Input \u001b[1;32mIn [40]\u001b[0m, in \u001b[0;36m<cell line: 8>\u001b[1;34m()\u001b[0m\n\u001b[0;32m     11\u001b[0m     \u001b[38;5;28;01mpass\u001b[39;00m\n\u001b[0;32m     12\u001b[0m \u001b[38;5;28;01mexcept\u001b[39;00m \u001b[38;5;167;01mException\u001b[39;00m:\n\u001b[1;32m---> 13\u001b[0m     \u001b[38;5;28;01mraise\u001b[39;00m \u001b[38;5;167;01mAssertionError\u001b[39;00m(\u001b[38;5;124m\"\u001b[39m\u001b[38;5;124mdivide_numbers should raise ValueError if divisor is 0\u001b[39m\u001b[38;5;124m\"\u001b[39m)\n\u001b[0;32m     14\u001b[0m \u001b[38;5;28;01melse\u001b[39;00m:\n\u001b[0;32m     15\u001b[0m     \u001b[38;5;28;01mraise\u001b[39;00m \u001b[38;5;167;01mAssertionError\u001b[39;00m(\u001b[38;5;124m\"\u001b[39m\u001b[38;5;124mdivide_numbers should raise ValueError if divisor is 0\u001b[39m\u001b[38;5;124m\"\u001b[39m)\n",
      "\u001b[1;31mAssertionError\u001b[0m: divide_numbers should raise ValueError if divisor is 0"
     ]
    }
   ],
   "source": [
    "def divide_numbers(a, b):\n",
    "    # if b == 0:\n",
    "    #     raise ValueError(\"Cannot divide by 0\")\n",
    "    return a / b\n",
    "\n",
    "assert divide_numbers(7, 2) == 3.5\n",
    "assert divide_numbers(6, 2) == 3\n",
    "try:\n",
    "    divide_numbers(5, 0)\n",
    "except ValueError:\n",
    "    pass\n",
    "except Exception:\n",
    "    raise AssertionError(\"divide_numbers should raise ValueError if divisor is 0\")\n",
    "else:\n",
    "    raise AssertionError(\"divide_numbers should raise ValueError if divisor is 0\")"
   ]
  },
  {
   "cell_type": "code",
   "execution_count": 51,
   "id": "56f424cd",
   "metadata": {},
   "outputs": [],
   "source": [
    "def is_palindrome():\n",
    "    original_list = list()\n",
    "    done = False\n",
    "    while not done:\n",
    "        elem = input(\"Enter element. Return when done. \")\n",
    "        if elem == '':\n",
    "            done = True\n",
    "        else:\n",
    "            original_list.append(elem)\n",
    "    \n",
    "    # print(original_list)\n",
    "\n",
    "    test_list = original_list.copy()\n",
    "    test_list.reverse()\n",
    "    # print(original_list)\n",
    "    # print(test_list)\n",
    "    return test_list == original_list"
   ]
  },
  {
   "cell_type": "code",
   "execution_count": 52,
   "id": "add2cb34",
   "metadata": {},
   "outputs": [
    {
     "name": "stdout",
     "output_type": "stream",
     "text": [
      "Enter element. Return when done. a\n",
      "Enter element. Return when done. b\n",
      "Enter element. Return when done. c\n",
      "Enter element. Return when done. b\n",
      "Enter element. Return when done. a\n",
      "Enter element. Return when done. \n"
     ]
    },
    {
     "data": {
      "text/plain": [
       "True"
      ]
     },
     "execution_count": 52,
     "metadata": {},
     "output_type": "execute_result"
    }
   ],
   "source": [
    "is_palindrome()"
   ]
  },
  {
   "cell_type": "code",
   "execution_count": null,
   "id": "886e8e5e",
   "metadata": {},
   "outputs": [],
   "source": []
  }
 ],
 "metadata": {
  "kernelspec": {
   "display_name": "Python 3 (ipykernel)",
   "language": "python",
   "name": "python3"
  },
  "language_info": {
   "codemirror_mode": {
    "name": "ipython",
    "version": 3
   },
   "file_extension": ".py",
   "mimetype": "text/x-python",
   "name": "python",
   "nbconvert_exporter": "python",
   "pygments_lexer": "ipython3",
   "version": "3.9.12"
  }
 },
 "nbformat": 4,
 "nbformat_minor": 5
}
