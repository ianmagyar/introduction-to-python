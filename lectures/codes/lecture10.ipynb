{
 "cells": [
  {
   "cell_type": "code",
   "execution_count": 8,
   "id": "cf1ed7ae",
   "metadata": {},
   "outputs": [],
   "source": [
    "import numpy as np"
   ]
  },
  {
   "cell_type": "code",
   "execution_count": 16,
   "id": "65fb8cfc",
   "metadata": {},
   "outputs": [
    {
     "name": "stdout",
     "output_type": "stream",
     "text": [
      "[2 3 4]\n"
     ]
    }
   ],
   "source": [
    "my_array = np.array([2, 3, 4])\n",
    "print(my_array)"
   ]
  },
  {
   "cell_type": "code",
   "execution_count": 19,
   "id": "f50c1dcb",
   "metadata": {},
   "outputs": [
    {
     "name": "stdout",
     "output_type": "stream",
     "text": [
      "<class 'numpy.ndarray'>\n",
      "<class 'numpy.int32'>\n",
      "int32\n",
      "<class 'int'>\n"
     ]
    }
   ],
   "source": [
    "print(type(my_array))\n",
    "print(type(my_array[0]))\n",
    "print(my_array.dtype)\n",
    "\n",
    "num = int(my_array[0])\n",
    "print(type(num))"
   ]
  },
  {
   "cell_type": "code",
   "execution_count": 29,
   "id": "e8fc0a3a",
   "metadata": {},
   "outputs": [
    {
     "name": "stdout",
     "output_type": "stream",
     "text": [
      "[[ 1  2  3  4]\n",
      " [ 5  6  7  8]\n",
      " [ 9 10 11 12]]\n",
      "12\n",
      "(3, 4)\n"
     ]
    }
   ],
   "source": [
    "my_array = np.array([[1, 2, 3, 4], [5, 6, 7, 8], [9, 10, 11, 12]])\n",
    "print(my_array)\n",
    "print(my_array.size)\n",
    "print(my_array.shape)"
   ]
  },
  {
   "cell_type": "code",
   "execution_count": 47,
   "id": "72fd5d1e",
   "metadata": {},
   "outputs": [
    {
     "name": "stdout",
     "output_type": "stream",
     "text": [
      "[[ 1  2  3  4  5  6  7  8  9 10 11 12]]\n",
      "[ 1  2  3  4  5  6  7  8  9 10 11 12]\n",
      "12\n",
      "(12,)\n"
     ]
    }
   ],
   "source": [
    "a1 = np.reshape(my_array, (1, 12))\n",
    "print(a1)\n",
    "a1 = np.reshape(my_array, (12,))\n",
    "print(a1)\n",
    "print(a1.size)\n",
    "print(a1.shape)"
   ]
  },
  {
   "cell_type": "code",
   "execution_count": 48,
   "id": "5b197ad7",
   "metadata": {},
   "outputs": [
    {
     "name": "stdout",
     "output_type": "stream",
     "text": [
      "[[ 1  2  3  4]\n",
      " [ 5  6  7  8]\n",
      " [ 9 10 11 12]]\n",
      "[[ 1  2  3  4  5  6]\n",
      " [ 7  8  9 10 11 12]]\n",
      "12\n",
      "(2, 6)\n",
      "[[ 1  9  6  3 11  8]\n",
      " [ 5  2 10  7  4 12]]\n",
      "12\n",
      "(2, 6)\n"
     ]
    }
   ],
   "source": [
    "print(my_array)\n",
    "a1 = np.reshape(my_array, (2, -1), order='C')\n",
    "print(a1)\n",
    "print(a1.size)\n",
    "print(a1.shape)\n",
    "a1 = np.reshape(my_array, (2, 6), order='F')\n",
    "print(a1)\n",
    "print(a1.size)\n",
    "print(a1.shape)"
   ]
  },
  {
   "cell_type": "code",
   "execution_count": 44,
   "id": "b7faf8c0",
   "metadata": {},
   "outputs": [
    {
     "name": "stdout",
     "output_type": "stream",
     "text": [
      "[[ 1  2  3  4]\n",
      " [ 5  6  7  8]\n",
      " [ 9 10 11 12]]\n",
      "[ 1  2  3  4  5  6  7  8  9 10 11 12]\n"
     ]
    }
   ],
   "source": [
    "print(my_array)\n",
    "a2 = my_array.flatten()\n",
    "print(a2)"
   ]
  },
  {
   "cell_type": "code",
   "execution_count": 57,
   "id": "c42c3076",
   "metadata": {},
   "outputs": [
    {
     "name": "stdout",
     "output_type": "stream",
     "text": [
      "[[0 0 0 0 0]\n",
      " [0 0 0 0 0]\n",
      " [0 0 0 0 0]]\n",
      "[[1 1 1 1 1]\n",
      " [1 1 1 1 1]\n",
      " [1 1 1 1 1]]\n",
      "[[5 5 5 5 5]\n",
      " [5 5 5 5 5]\n",
      " [5 5 5 5 5]]\n",
      "[[0. 0. 0. 0. 0.]\n",
      " [0. 0. 0. 0. 0.]\n",
      " [0. 0. 0. 0. 0.]]\n"
     ]
    }
   ],
   "source": [
    "print(np.zeros((3, 5), dtype=np.int32))\n",
    "print(np.ones((3, 5), dtype=np.int32))\n",
    "print(np.full((3, 5), 5, dtype=np.int32))\n",
    "print(np.empty((3, 5)))"
   ]
  },
  {
   "cell_type": "code",
   "execution_count": 59,
   "id": "18d6a2c7",
   "metadata": {},
   "outputs": [
    {
     "name": "stdout",
     "output_type": "stream",
     "text": [
      "[0.  0.1 0.2 0.3 0.4 0.5 0.6 0.7 0.8 0.9 1.  1.1 1.2 1.3 1.4 1.5 1.6 1.7\n",
      " 1.8 1.9]\n"
     ]
    }
   ],
   "source": [
    "import math\n",
    "print(np.arange(0, 2, 0.1))"
   ]
  },
  {
   "cell_type": "code",
   "execution_count": 61,
   "id": "163f1619",
   "metadata": {},
   "outputs": [
    {
     "name": "stdout",
     "output_type": "stream",
     "text": [
      "[0.  0.1 0.2 0.3 0.4 0.5 0.6 0.7 0.8 0.9 1.  1.1 1.2 1.3 1.4 1.5 1.6 1.7\n",
      " 1.8 1.9 2. ]\n"
     ]
    }
   ],
   "source": [
    "print(np.linspace(0, 2, 21))"
   ]
  },
  {
   "cell_type": "code",
   "execution_count": 66,
   "id": "5088fe71",
   "metadata": {},
   "outputs": [
    {
     "name": "stdout",
     "output_type": "stream",
     "text": [
      "[[1 2 3]\n",
      " [4 5 6]]\n",
      "[[ 7  8  9]\n",
      " [10 11 12]]\n",
      "[[ 1  2  3  7  8  9]\n",
      " [ 4  5  6 10 11 12]]\n",
      "[[ 1  2  3]\n",
      " [ 4  5  6]\n",
      " [ 7  8  9]\n",
      " [10 11 12]]\n"
     ]
    }
   ],
   "source": [
    "a1 = np.array([[1, 2, 3], [4, 5, 6]])\n",
    "a2 = np.array([[7, 8, 9], [10, 11, 12]])\n",
    "\n",
    "print(a1)\n",
    "print(a2)\n",
    "print(np.hstack((a1, a2)))\n",
    "print(np.vstack((a1, a2)))"
   ]
  },
  {
   "cell_type": "code",
   "execution_count": 70,
   "id": "547fd36d",
   "metadata": {},
   "outputs": [
    {
     "name": "stdout",
     "output_type": "stream",
     "text": [
      "[[1 2 3]\n",
      " [4 5 6]]\n",
      "[2 5]\n"
     ]
    }
   ],
   "source": [
    "print(a1)\n",
    "print(a1[0:, 1])"
   ]
  },
  {
   "cell_type": "code",
   "execution_count": 71,
   "id": "ff6f7a45",
   "metadata": {},
   "outputs": [
    {
     "name": "stdout",
     "output_type": "stream",
     "text": [
      "[[ 0  1  2  3]\n",
      " [ 4  5  6  7]\n",
      " [ 8  9 10 11]]\n"
     ]
    }
   ],
   "source": [
    "a = np.arange(12).reshape(3, 4)\n",
    "print(a)"
   ]
  },
  {
   "cell_type": "code",
   "execution_count": 72,
   "id": "40abc9db",
   "metadata": {},
   "outputs": [],
   "source": [
    "i = np.array([[0, 1], [1, 2]])\n",
    "j = np.array([[2, 1], [3, 3]])"
   ]
  },
  {
   "cell_type": "code",
   "execution_count": 74,
   "id": "04b964a2",
   "metadata": {},
   "outputs": [
    {
     "name": "stdout",
     "output_type": "stream",
     "text": [
      "[[ 2  5]\n",
      " [ 7 11]]\n"
     ]
    }
   ],
   "source": [
    "print(a[i, j])"
   ]
  },
  {
   "cell_type": "code",
   "execution_count": 82,
   "id": "23dcae39",
   "metadata": {},
   "outputs": [
    {
     "name": "stdout",
     "output_type": "stream",
     "text": [
      "[[ 0  1  2  3]\n",
      " [ 4  5  6  7]\n",
      " [ 8  9 10 11]]\n",
      "[[False False False False]\n",
      " [False  True  True  True]\n",
      " [ True  True  True  True]]\n",
      "[[0 1 2 3]\n",
      " [4 0 0 0]\n",
      " [0 0 0 0]]\n"
     ]
    }
   ],
   "source": [
    "a = np.arange(12).reshape(3, 4)\n",
    "print(a)\n",
    "b = a > 4\n",
    "print(b)\n",
    "a[b] = 0\n",
    "print(a)"
   ]
  },
  {
   "cell_type": "code",
   "execution_count": 85,
   "id": "2b1c145d",
   "metadata": {},
   "outputs": [
    {
     "name": "stdout",
     "output_type": "stream",
     "text": [
      "[[1 2 3]\n",
      " [4 5 6]]\n",
      "[[ 7  8  9]\n",
      " [10 11 12]]\n",
      "[[ 8 10 12]\n",
      " [14 16 18]]\n",
      "[[ 3  6  9]\n",
      " [12 15 18]]\n"
     ]
    }
   ],
   "source": [
    "a1 = np.array([[1, 2, 3], [4, 5, 6]])\n",
    "a2 = np.array([[7, 8, 9], [10, 11, 12]])\n",
    "print(a1)\n",
    "print(a2)\n",
    "print(a1 + a2)\n",
    "print(a1 * 3)"
   ]
  },
  {
   "cell_type": "code",
   "execution_count": 90,
   "id": "a4e42821",
   "metadata": {},
   "outputs": [
    {
     "name": "stdout",
     "output_type": "stream",
     "text": [
      "[[1 8 2]\n",
      " [7 3 6]]\n",
      "[1 3]\n"
     ]
    }
   ],
   "source": [
    "a1 = np.array([[1, 8, 2], [7, 3, 6]])\n",
    "print(a1)\n",
    "print(np.min(a1, axis=1))"
   ]
  },
  {
   "cell_type": "code",
   "execution_count": 91,
   "id": "f98f47e7",
   "metadata": {},
   "outputs": [
    {
     "name": "stdout",
     "output_type": "stream",
     "text": [
      "[[100   1   2   3]\n",
      " [  4   5   6   7]\n",
      " [  8   9  10  11]]\n",
      "[[100   1   2   3]\n",
      " [  4   5   6   7]\n",
      " [  8   9  10  11]]\n"
     ]
    }
   ],
   "source": [
    "a = np.arange(12).reshape(3, 4)\n",
    "b = a\n",
    "b[0, 0] = 100\n",
    "print(b)\n",
    "print(a)"
   ]
  },
  {
   "cell_type": "code",
   "execution_count": 92,
   "id": "d5caf813",
   "metadata": {},
   "outputs": [
    {
     "name": "stdout",
     "output_type": "stream",
     "text": [
      "[[100   1   2   3]\n",
      " [  4   5   6   7]\n",
      " [  8   9  10  11]]\n",
      "[[100   1   2   3]\n",
      " [  4   5   6   7]\n",
      " [  8   9  10  11]]\n"
     ]
    }
   ],
   "source": [
    "a = np.arange(12).reshape(3, 4)\n",
    "b = a.view()\n",
    "b[0, 0] = 100\n",
    "print(b)\n",
    "print(a)"
   ]
  },
  {
   "cell_type": "code",
   "execution_count": 93,
   "id": "4886e373",
   "metadata": {},
   "outputs": [
    {
     "name": "stdout",
     "output_type": "stream",
     "text": [
      "[[100   1   2   3]\n",
      " [  4   5   6   7]\n",
      " [  8   9  10  11]]\n",
      "[[ 0  1  2  3]\n",
      " [ 4  5  6  7]\n",
      " [ 8  9 10 11]]\n"
     ]
    }
   ],
   "source": [
    "a = np.arange(12).reshape(3, 4)\n",
    "b = a.copy()\n",
    "b[0, 0] = 100\n",
    "print(b)\n",
    "print(a)"
   ]
  },
  {
   "cell_type": "code",
   "execution_count": 94,
   "id": "aaaa09da",
   "metadata": {},
   "outputs": [],
   "source": [
    "import pandas as pd"
   ]
  },
  {
   "cell_type": "code",
   "execution_count": 95,
   "id": "038ca4a6",
   "metadata": {},
   "outputs": [
    {
     "name": "stdout",
     "output_type": "stream",
     "text": [
      "0    1.0\n",
      "1    3.0\n",
      "2    5.0\n",
      "3    NaN\n",
      "4    6.0\n",
      "5    8.0\n",
      "dtype: float64\n"
     ]
    }
   ],
   "source": [
    "s = pd.Series([1, 3, 5, np.nan, 6, 8])\n",
    "print(s)"
   ]
  },
  {
   "cell_type": "code",
   "execution_count": 96,
   "id": "6737bb42",
   "metadata": {},
   "outputs": [
    {
     "name": "stdout",
     "output_type": "stream",
     "text": [
      "DatetimeIndex(['2023-01-01', '2023-01-02', '2023-01-03', '2023-01-04',\n",
      "               '2023-01-05', '2023-01-06'],\n",
      "              dtype='datetime64[ns]', freq='D')\n"
     ]
    }
   ],
   "source": [
    "dates = pd.date_range(\"20230101\", periods=6)\n",
    "print(dates)"
   ]
  },
  {
   "cell_type": "code",
   "execution_count": 98,
   "id": "9fc3e71b",
   "metadata": {},
   "outputs": [
    {
     "name": "stdout",
     "output_type": "stream",
     "text": [
      "                  C1        C2        C3        C4\n",
      "2023-01-01 -0.436596  0.407192  0.088817  0.347263\n",
      "2023-01-02  0.633264  1.186989  0.934845  1.244085\n",
      "2023-01-03  0.905392  0.176422  0.945018 -0.821895\n",
      "2023-01-04  0.119293  0.083757 -1.178566  0.043998\n",
      "2023-01-05 -1.926825  0.552893  1.103002  2.670238\n",
      "2023-01-06  0.108019  1.055340 -0.786042 -1.564110\n"
     ]
    }
   ],
   "source": [
    "df = pd.DataFrame(np.random.randn(6, 4), index=dates, columns=[\"C1\", \"C2\", \"C3\", \"C4\"])\n",
    "print(df)"
   ]
  },
  {
   "cell_type": "code",
   "execution_count": 100,
   "id": "c10c73b3",
   "metadata": {},
   "outputs": [
    {
     "name": "stdout",
     "output_type": "stream",
     "text": [
      "     A          B    C  D      E    F\n",
      "0  1.0 2013-01-02  1.0  3   test  foo\n",
      "1  1.0 2013-01-02  1.0  3  train  foo\n",
      "2  1.0 2013-01-02  1.0  3   test  foo\n",
      "3  1.0 2013-01-02  1.0  3  train  foo\n"
     ]
    }
   ],
   "source": [
    "df2 = pd.DataFrame(\n",
    "    {\n",
    "        \"A\": 1.0,\n",
    "        \"B\": pd.Timestamp(\"20130102\"),\n",
    "        \"C\": pd.Series(1, index=list(range(4)), dtype=\"float32\"),\n",
    "        \"D\": np.array([3] * 4, dtype=\"int32\"),\n",
    "        \"E\": pd.Categorical([\"test\", \"train\", \"test\", \"train\"]),\n",
    "        \"F\": \"foo\",\n",
    "    }\n",
    ")\n",
    "print(df2)"
   ]
  },
  {
   "cell_type": "code",
   "execution_count": 101,
   "id": "838c9a86",
   "metadata": {},
   "outputs": [
    {
     "name": "stdout",
     "output_type": "stream",
     "text": [
      "                  C1        C2        C3        C4\n",
      "2023-01-01 -0.436596  0.407192  0.088817  0.347263\n",
      "2023-01-02  0.633264  1.186989  0.934845  1.244085\n",
      "2023-01-03  0.905392  0.176422  0.945018 -0.821895\n",
      "2023-01-04  0.119293  0.083757 -1.178566  0.043998\n",
      "2023-01-05 -1.926825  0.552893  1.103002  2.670238\n",
      "2023-01-06  0.108019  1.055340 -0.786042 -1.564110\n"
     ]
    }
   ],
   "source": [
    "print(df)"
   ]
  },
  {
   "cell_type": "code",
   "execution_count": 103,
   "id": "785177b5",
   "metadata": {},
   "outputs": [
    {
     "name": "stdout",
     "output_type": "stream",
     "text": [
      "2023-01-01   -0.436596\n",
      "2023-01-02    0.633264\n",
      "2023-01-03    0.905392\n",
      "2023-01-04    0.119293\n",
      "2023-01-05   -1.926825\n",
      "2023-01-06    0.108019\n",
      "Freq: D, Name: C1, dtype: float64\n",
      "2023-01-01   -0.436596\n",
      "2023-01-02    0.633264\n",
      "2023-01-03    0.905392\n",
      "2023-01-04    0.119293\n",
      "2023-01-05   -1.926825\n",
      "2023-01-06    0.108019\n",
      "Freq: D, Name: C1, dtype: float64\n"
     ]
    }
   ],
   "source": [
    "print(df[\"C1\"])\n",
    "print(df.C1)"
   ]
  },
  {
   "cell_type": "code",
   "execution_count": 104,
   "id": "5e60f536",
   "metadata": {},
   "outputs": [
    {
     "name": "stdout",
     "output_type": "stream",
     "text": [
      "                  C1        C2        C3        C4\n",
      "2023-01-01 -0.436596  0.407192  0.088817  0.347263\n",
      "2023-01-02  0.633264  1.186989  0.934845  1.244085\n",
      "2023-01-03  0.905392  0.176422  0.945018 -0.821895\n"
     ]
    }
   ],
   "source": [
    "print(df[0:3])"
   ]
  },
  {
   "cell_type": "code",
   "execution_count": 106,
   "id": "a9d8a7d6",
   "metadata": {},
   "outputs": [
    {
     "name": "stdout",
     "output_type": "stream",
     "text": [
      "                  C1        C2        C3        C4\n",
      "2023-01-01 -0.436596  0.407192  0.088817  0.347263\n",
      "2023-01-02  0.633264  1.186989  0.934845  1.244085\n",
      "2023-01-03  0.905392  0.176422  0.945018 -0.821895\n",
      "2023-01-04  0.119293  0.083757 -1.178566  0.043998\n"
     ]
    }
   ],
   "source": [
    "print(df[\"2023-01-01\":\"2023-01-04\"])"
   ]
  },
  {
   "cell_type": "code",
   "execution_count": 111,
   "id": "ae18acba",
   "metadata": {},
   "outputs": [
    {
     "name": "stdout",
     "output_type": "stream",
     "text": [
      "                  C2        C4\n",
      "2023-01-01  0.407192  0.347263\n",
      "2023-01-02  1.186989  1.244085\n",
      "2023-01-03  0.176422 -0.821895\n",
      "2023-01-04  0.083757  0.043998\n",
      "0.40719231068077416\n"
     ]
    }
   ],
   "source": [
    "print(df.loc[\"2023-01-01\":\"2023-01-04\", [\"C2\", \"C4\"]])\n",
    "print(df.at[\"2023-01-01\", \"C2\"])"
   ]
  },
  {
   "cell_type": "code",
   "execution_count": 114,
   "id": "e6cbee75",
   "metadata": {},
   "outputs": [
    {
     "name": "stdout",
     "output_type": "stream",
     "text": [
      "                  C2        C4\n",
      "2023-01-01  0.407192  0.347263\n",
      "2023-01-02  1.186989  1.244085\n",
      "2023-01-03  0.176422 -0.821895\n",
      "2023-01-04  0.083757  0.043998\n",
      "0.40719231068077416\n"
     ]
    }
   ],
   "source": [
    "print(df.iloc[0:4, [1, 3]])\n",
    "print(df.iat[0, 1])"
   ]
  },
  {
   "cell_type": "code",
   "execution_count": 115,
   "id": "7f630537",
   "metadata": {},
   "outputs": [
    {
     "name": "stdout",
     "output_type": "stream",
     "text": [
      "                  C1        C2        C3        C4\n",
      "2023-01-01 -0.436596  0.407192  0.088817  0.347263\n",
      "2023-01-02  0.633264  1.186989  0.934845  1.244085\n",
      "2023-01-03  0.905392  0.176422  0.945018 -0.821895\n",
      "2023-01-04  0.119293  0.083757 -1.178566  0.043998\n",
      "2023-01-05 -1.926825  0.552893  1.103002  2.670238\n",
      "2023-01-06  0.108019  1.055340 -0.786042 -1.564110\n"
     ]
    }
   ],
   "source": [
    "print(df)"
   ]
  },
  {
   "cell_type": "code",
   "execution_count": 116,
   "id": "e92339fe",
   "metadata": {},
   "outputs": [
    {
     "name": "stdout",
     "output_type": "stream",
     "text": [
      "                  C1        C2        C3        C4\n",
      "2023-01-04  0.119293  0.083757 -1.178566  0.043998\n",
      "2023-01-06  0.108019  1.055340 -0.786042 -1.564110\n"
     ]
    }
   ],
   "source": [
    "print(df[df.C3 < 0])"
   ]
  },
  {
   "cell_type": "code",
   "execution_count": 124,
   "id": "63b7b281",
   "metadata": {},
   "outputs": [],
   "source": [
    "df2.loc[3, \"E\"] = np.nan"
   ]
  },
  {
   "cell_type": "code",
   "execution_count": 125,
   "id": "f02f3b23",
   "metadata": {},
   "outputs": [
    {
     "name": "stdout",
     "output_type": "stream",
     "text": [
      "     A          B    C  D      E    F\n",
      "0  1.0 2013-01-02  1.0  3   test  foo\n",
      "1  1.0 2013-01-02  1.0  3  train  foo\n",
      "2  1.0 2013-01-02  1.0  3   test  foo\n",
      "3  1.0 2013-01-02  1.0  3    NaN  foo\n"
     ]
    }
   ],
   "source": [
    "print(df2)"
   ]
  },
  {
   "cell_type": "code",
   "execution_count": 126,
   "id": "6e65a420",
   "metadata": {},
   "outputs": [
    {
     "name": "stdout",
     "output_type": "stream",
     "text": [
      "     A          B    C  D      E    F\n",
      "0  1.0 2013-01-02  1.0  3   test  foo\n",
      "1  1.0 2013-01-02  1.0  3  train  foo\n",
      "2  1.0 2013-01-02  1.0  3   test  foo\n"
     ]
    }
   ],
   "source": [
    "print(df2[df2[\"E\"].isin([\"test\", \"train\"])])"
   ]
  },
  {
   "cell_type": "code",
   "execution_count": 127,
   "id": "b185f4bc",
   "metadata": {},
   "outputs": [],
   "source": [
    "df2[\"G\"] = 0"
   ]
  },
  {
   "cell_type": "code",
   "execution_count": 128,
   "id": "db4198e7",
   "metadata": {},
   "outputs": [
    {
     "name": "stdout",
     "output_type": "stream",
     "text": [
      "     A          B    C  D      E    F  G\n",
      "0  1.0 2013-01-02  1.0  3   test  foo  0\n",
      "1  1.0 2013-01-02  1.0  3  train  foo  0\n",
      "2  1.0 2013-01-02  1.0  3   test  foo  0\n",
      "3  1.0 2013-01-02  1.0  3    NaN  foo  0\n"
     ]
    }
   ],
   "source": [
    "print(df2)"
   ]
  },
  {
   "cell_type": "code",
   "execution_count": 129,
   "id": "0e4ccbde",
   "metadata": {},
   "outputs": [
    {
     "name": "stdout",
     "output_type": "stream",
     "text": [
      "     A          B    C  D      E    F  G  H\n",
      "0  1.0 2013-01-02  1.0  3   test  foo  0  0\n",
      "1  1.0 2013-01-02  1.0  3  train  foo  0  1\n",
      "2  1.0 2013-01-02  1.0  3   test  foo  0  2\n",
      "3  1.0 2013-01-02  1.0  3    NaN  foo  0  3\n"
     ]
    }
   ],
   "source": [
    "df2[\"H\"] = [0, 1, 2, 3]\n",
    "print(df2)"
   ]
  },
  {
   "cell_type": "code",
   "execution_count": 133,
   "id": "7065186f",
   "metadata": {},
   "outputs": [
    {
     "name": "stdout",
     "output_type": "stream",
     "text": [
      "                  C1        C2        C3        C4\n",
      "2023-01-01  0.027908 -0.370542  0.972551  0.472237\n",
      "2023-01-02 -0.762529 -0.788104 -1.720697  0.270809\n",
      "2023-01-03 -1.316477 -0.004753  0.490561  0.318505\n",
      "2023-01-04 -0.132700  1.046339  0.012821 -0.648445\n",
      "2023-01-05 -0.648799  0.199508  0.228221 -0.591488\n",
      "2023-01-06  0.192798 -0.626980 -0.886654  1.129173\n",
      "                  C1        C2        C3        C4\n",
      "2023-01-01  0.027908  0.370542  0.972551  0.472237\n",
      "2023-01-02  0.762529  0.788104  1.720697  0.270809\n",
      "2023-01-03  1.316477  0.004753  0.490561  0.318505\n",
      "2023-01-04  0.132700  1.046339  0.012821  0.648445\n",
      "2023-01-05  0.648799  0.199508  0.228221  0.591488\n",
      "2023-01-06  0.192798  0.626980  0.886654  1.129173\n"
     ]
    }
   ],
   "source": [
    "df = pd.DataFrame(np.random.randn(6, 4), index=dates, columns=[\"C1\", \"C2\", \"C3\", \"C4\"])\n",
    "print(df)\n",
    "df[df < 0] = -df\n",
    "print(df)"
   ]
  },
  {
   "cell_type": "code",
   "execution_count": 134,
   "id": "d995cd2e",
   "metadata": {},
   "outputs": [
    {
     "name": "stdout",
     "output_type": "stream",
     "text": [
      "DatetimeIndex(['2023-01-01', '2023-01-02', '2023-01-03', '2023-01-04',\n",
      "               '2023-01-05', '2023-01-06'],\n",
      "              dtype='datetime64[ns]', freq='D')\n",
      "Index(['C1', 'C2', 'C3', 'C4'], dtype='object')\n"
     ]
    }
   ],
   "source": [
    "print(df.index)\n",
    "print(df.columns)"
   ]
  },
  {
   "cell_type": "code",
   "execution_count": 135,
   "id": "87446a37",
   "metadata": {},
   "outputs": [
    {
     "name": "stdout",
     "output_type": "stream",
     "text": [
      "[[0.02790782 0.37054233 0.97255109 0.47223731]\n",
      " [0.7625287  0.78810427 1.72069714 0.27080873]\n",
      " [1.31647669 0.0047532  0.4905614  0.31850526]\n",
      " [0.13270007 1.04633895 0.01282055 0.64844524]\n",
      " [0.64879887 0.19950792 0.22822067 0.59148776]\n",
      " [0.19279777 0.6269798  0.88665375 1.12917293]]\n"
     ]
    }
   ],
   "source": [
    "print(df.to_numpy())"
   ]
  },
  {
   "cell_type": "code",
   "execution_count": 137,
   "id": "5857ab0d",
   "metadata": {},
   "outputs": [
    {
     "name": "stdout",
     "output_type": "stream",
     "text": [
      "object\n"
     ]
    }
   ],
   "source": [
    "a = df2.to_numpy()\n",
    "print(a.dtype)"
   ]
  },
  {
   "cell_type": "code",
   "execution_count": 138,
   "id": "619c8dc5",
   "metadata": {},
   "outputs": [
    {
     "data": {
      "text/html": [
       "<div>\n",
       "<style scoped>\n",
       "    .dataframe tbody tr th:only-of-type {\n",
       "        vertical-align: middle;\n",
       "    }\n",
       "\n",
       "    .dataframe tbody tr th {\n",
       "        vertical-align: top;\n",
       "    }\n",
       "\n",
       "    .dataframe thead th {\n",
       "        text-align: right;\n",
       "    }\n",
       "</style>\n",
       "<table border=\"1\" class=\"dataframe\">\n",
       "  <thead>\n",
       "    <tr style=\"text-align: right;\">\n",
       "      <th></th>\n",
       "      <th>C1</th>\n",
       "      <th>C2</th>\n",
       "      <th>C3</th>\n",
       "      <th>C4</th>\n",
       "    </tr>\n",
       "  </thead>\n",
       "  <tbody>\n",
       "    <tr>\n",
       "      <th>count</th>\n",
       "      <td>6.000000</td>\n",
       "      <td>6.000000</td>\n",
       "      <td>6.000000</td>\n",
       "      <td>6.000000</td>\n",
       "    </tr>\n",
       "    <tr>\n",
       "      <th>mean</th>\n",
       "      <td>0.513535</td>\n",
       "      <td>0.506038</td>\n",
       "      <td>0.718584</td>\n",
       "      <td>0.571776</td>\n",
       "    </tr>\n",
       "    <tr>\n",
       "      <th>std</th>\n",
       "      <td>0.491681</td>\n",
       "      <td>0.387226</td>\n",
       "      <td>0.614415</td>\n",
       "      <td>0.310353</td>\n",
       "    </tr>\n",
       "    <tr>\n",
       "      <th>min</th>\n",
       "      <td>0.027908</td>\n",
       "      <td>0.004753</td>\n",
       "      <td>0.012821</td>\n",
       "      <td>0.270809</td>\n",
       "    </tr>\n",
       "    <tr>\n",
       "      <th>25%</th>\n",
       "      <td>0.147724</td>\n",
       "      <td>0.242267</td>\n",
       "      <td>0.293806</td>\n",
       "      <td>0.356938</td>\n",
       "    </tr>\n",
       "    <tr>\n",
       "      <th>50%</th>\n",
       "      <td>0.420798</td>\n",
       "      <td>0.498761</td>\n",
       "      <td>0.688608</td>\n",
       "      <td>0.531863</td>\n",
       "    </tr>\n",
       "    <tr>\n",
       "      <th>75%</th>\n",
       "      <td>0.734096</td>\n",
       "      <td>0.747823</td>\n",
       "      <td>0.951077</td>\n",
       "      <td>0.634206</td>\n",
       "    </tr>\n",
       "    <tr>\n",
       "      <th>max</th>\n",
       "      <td>1.316477</td>\n",
       "      <td>1.046339</td>\n",
       "      <td>1.720697</td>\n",
       "      <td>1.129173</td>\n",
       "    </tr>\n",
       "  </tbody>\n",
       "</table>\n",
       "</div>"
      ],
      "text/plain": [
       "             C1        C2        C3        C4\n",
       "count  6.000000  6.000000  6.000000  6.000000\n",
       "mean   0.513535  0.506038  0.718584  0.571776\n",
       "std    0.491681  0.387226  0.614415  0.310353\n",
       "min    0.027908  0.004753  0.012821  0.270809\n",
       "25%    0.147724  0.242267  0.293806  0.356938\n",
       "50%    0.420798  0.498761  0.688608  0.531863\n",
       "75%    0.734096  0.747823  0.951077  0.634206\n",
       "max    1.316477  1.046339  1.720697  1.129173"
      ]
     },
     "execution_count": 138,
     "metadata": {},
     "output_type": "execute_result"
    }
   ],
   "source": [
    "df.describe()"
   ]
  },
  {
   "cell_type": "code",
   "execution_count": 147,
   "id": "7a4d1d52",
   "metadata": {},
   "outputs": [
    {
     "name": "stdout",
     "output_type": "stream",
     "text": [
      "                  C1        C2        C3        C4\n",
      "2023-01-01  0.027908  0.370542  0.972551  0.472237\n",
      "2023-01-02  0.762529  0.788104  1.720697  0.270809\n",
      "2023-01-03  1.316477  0.004753  0.490561  0.318505\n",
      "2023-01-04  0.132700  1.046339  0.012821  0.648445\n",
      "2023-01-05  0.648799  0.199508  0.228221  0.591488\n",
      "2023-01-06  0.192798  0.626980  0.886654  1.129173\n",
      "    2023-01-01  2023-01-02  2023-01-03  2023-01-04  2023-01-05  2023-01-06\n",
      "C1    0.027908    0.762529    1.316477    0.132700    0.648799    0.192798\n",
      "C2    0.370542    0.788104    0.004753    1.046339    0.199508    0.626980\n",
      "C3    0.972551    1.720697    0.490561    0.012821    0.228221    0.886654\n",
      "C4    0.472237    0.270809    0.318505    0.648445    0.591488    1.129173\n"
     ]
    }
   ],
   "source": [
    "print(df)\n",
    "print(df.T)"
   ]
  },
  {
   "cell_type": "code",
   "execution_count": 140,
   "id": "2d44f0be",
   "metadata": {},
   "outputs": [
    {
     "name": "stdout",
     "output_type": "stream",
     "text": [
      "                  C1        C2        C3        C4\n",
      "2023-01-01  0.027908  0.370542  0.972551  0.472237\n",
      "2023-01-02  0.762529  0.788104  1.720697  0.270809\n",
      "2023-01-03  1.316477  0.004753  0.490561  0.318505\n",
      "2023-01-04  0.132700  1.046339  0.012821  0.648445\n",
      "2023-01-05  0.648799  0.199508  0.228221  0.591488\n",
      "2023-01-06  0.192798  0.626980  0.886654  1.129173\n"
     ]
    }
   ],
   "source": [
    "print(df)"
   ]
  },
  {
   "cell_type": "code",
   "execution_count": 141,
   "id": "cf6b609f",
   "metadata": {},
   "outputs": [
    {
     "name": "stdout",
     "output_type": "stream",
     "text": [
      "                  C1        C2        C3        C4\n",
      "2023-01-03  1.316477  0.004753  0.490561  0.318505\n",
      "2023-01-05  0.648799  0.199508  0.228221  0.591488\n",
      "2023-01-01  0.027908  0.370542  0.972551  0.472237\n",
      "2023-01-06  0.192798  0.626980  0.886654  1.129173\n",
      "2023-01-02  0.762529  0.788104  1.720697  0.270809\n",
      "2023-01-04  0.132700  1.046339  0.012821  0.648445\n"
     ]
    }
   ],
   "source": [
    "print(df.sort_values(by=\"C2\"))"
   ]
  },
  {
   "cell_type": "code",
   "execution_count": 142,
   "id": "c681dba9",
   "metadata": {},
   "outputs": [
    {
     "name": "stdout",
     "output_type": "stream",
     "text": [
      "     A          B    C  D      E    F  G  H\n",
      "0  1.0 2013-01-02  1.0  3   test  foo  0  0\n",
      "1  1.0 2013-01-02  1.0  3  train  foo  0  1\n",
      "2  1.0 2013-01-02  1.0  3   test  foo  0  2\n",
      "3  1.0 2013-01-02  1.0  3    NaN  foo  0  3\n"
     ]
    }
   ],
   "source": [
    "print(df2)"
   ]
  },
  {
   "cell_type": "code",
   "execution_count": 143,
   "id": "82cfcd1d",
   "metadata": {},
   "outputs": [
    {
     "name": "stdout",
     "output_type": "stream",
     "text": [
      "       A      B      C      D      E      F      G      H\n",
      "0  False  False  False  False  False  False  False  False\n",
      "1  False  False  False  False  False  False  False  False\n",
      "2  False  False  False  False  False  False  False  False\n",
      "3  False  False  False  False   True  False  False  False\n"
     ]
    }
   ],
   "source": [
    "print(pd.isna(df2))"
   ]
  },
  {
   "cell_type": "code",
   "execution_count": 144,
   "id": "da04031d",
   "metadata": {},
   "outputs": [
    {
     "data": {
      "text/html": [
       "<div>\n",
       "<style scoped>\n",
       "    .dataframe tbody tr th:only-of-type {\n",
       "        vertical-align: middle;\n",
       "    }\n",
       "\n",
       "    .dataframe tbody tr th {\n",
       "        vertical-align: top;\n",
       "    }\n",
       "\n",
       "    .dataframe thead th {\n",
       "        text-align: right;\n",
       "    }\n",
       "</style>\n",
       "<table border=\"1\" class=\"dataframe\">\n",
       "  <thead>\n",
       "    <tr style=\"text-align: right;\">\n",
       "      <th></th>\n",
       "      <th>A</th>\n",
       "      <th>B</th>\n",
       "      <th>C</th>\n",
       "      <th>D</th>\n",
       "      <th>E</th>\n",
       "      <th>F</th>\n",
       "      <th>G</th>\n",
       "      <th>H</th>\n",
       "    </tr>\n",
       "  </thead>\n",
       "  <tbody>\n",
       "    <tr>\n",
       "      <th>0</th>\n",
       "      <td>1.0</td>\n",
       "      <td>2013-01-02</td>\n",
       "      <td>1.0</td>\n",
       "      <td>3</td>\n",
       "      <td>test</td>\n",
       "      <td>foo</td>\n",
       "      <td>0</td>\n",
       "      <td>0</td>\n",
       "    </tr>\n",
       "    <tr>\n",
       "      <th>1</th>\n",
       "      <td>1.0</td>\n",
       "      <td>2013-01-02</td>\n",
       "      <td>1.0</td>\n",
       "      <td>3</td>\n",
       "      <td>train</td>\n",
       "      <td>foo</td>\n",
       "      <td>0</td>\n",
       "      <td>1</td>\n",
       "    </tr>\n",
       "    <tr>\n",
       "      <th>2</th>\n",
       "      <td>1.0</td>\n",
       "      <td>2013-01-02</td>\n",
       "      <td>1.0</td>\n",
       "      <td>3</td>\n",
       "      <td>test</td>\n",
       "      <td>foo</td>\n",
       "      <td>0</td>\n",
       "      <td>2</td>\n",
       "    </tr>\n",
       "  </tbody>\n",
       "</table>\n",
       "</div>"
      ],
      "text/plain": [
       "     A          B    C  D      E    F  G  H\n",
       "0  1.0 2013-01-02  1.0  3   test  foo  0  0\n",
       "1  1.0 2013-01-02  1.0  3  train  foo  0  1\n",
       "2  1.0 2013-01-02  1.0  3   test  foo  0  2"
      ]
     },
     "execution_count": 144,
     "metadata": {},
     "output_type": "execute_result"
    }
   ],
   "source": [
    "df2.dropna()"
   ]
  },
  {
   "cell_type": "code",
   "execution_count": 145,
   "id": "6bf118ff",
   "metadata": {},
   "outputs": [
    {
     "name": "stdout",
     "output_type": "stream",
     "text": [
      "     A          B    C  D      E    F  G  H\n",
      "0  1.0 2013-01-02  1.0  3   test  foo  0  0\n",
      "1  1.0 2013-01-02  1.0  3  train  foo  0  1\n",
      "2  1.0 2013-01-02  1.0  3   test  foo  0  2\n",
      "3  1.0 2013-01-02  1.0  3    NaN  foo  0  3\n"
     ]
    }
   ],
   "source": [
    "print(df2)"
   ]
  },
  {
   "cell_type": "code",
   "execution_count": 146,
   "id": "494f3140",
   "metadata": {},
   "outputs": [
    {
     "data": {
      "text/html": [
       "<div>\n",
       "<style scoped>\n",
       "    .dataframe tbody tr th:only-of-type {\n",
       "        vertical-align: middle;\n",
       "    }\n",
       "\n",
       "    .dataframe tbody tr th {\n",
       "        vertical-align: top;\n",
       "    }\n",
       "\n",
       "    .dataframe thead th {\n",
       "        text-align: right;\n",
       "    }\n",
       "</style>\n",
       "<table border=\"1\" class=\"dataframe\">\n",
       "  <thead>\n",
       "    <tr style=\"text-align: right;\">\n",
       "      <th></th>\n",
       "      <th>A</th>\n",
       "      <th>B</th>\n",
       "      <th>C</th>\n",
       "      <th>D</th>\n",
       "      <th>E</th>\n",
       "      <th>F</th>\n",
       "      <th>G</th>\n",
       "      <th>H</th>\n",
       "    </tr>\n",
       "  </thead>\n",
       "  <tbody>\n",
       "    <tr>\n",
       "      <th>0</th>\n",
       "      <td>1.0</td>\n",
       "      <td>2013-01-02</td>\n",
       "      <td>1.0</td>\n",
       "      <td>3</td>\n",
       "      <td>test</td>\n",
       "      <td>foo</td>\n",
       "      <td>0</td>\n",
       "      <td>0</td>\n",
       "    </tr>\n",
       "    <tr>\n",
       "      <th>1</th>\n",
       "      <td>1.0</td>\n",
       "      <td>2013-01-02</td>\n",
       "      <td>1.0</td>\n",
       "      <td>3</td>\n",
       "      <td>train</td>\n",
       "      <td>foo</td>\n",
       "      <td>0</td>\n",
       "      <td>1</td>\n",
       "    </tr>\n",
       "    <tr>\n",
       "      <th>2</th>\n",
       "      <td>1.0</td>\n",
       "      <td>2013-01-02</td>\n",
       "      <td>1.0</td>\n",
       "      <td>3</td>\n",
       "      <td>test</td>\n",
       "      <td>foo</td>\n",
       "      <td>0</td>\n",
       "      <td>2</td>\n",
       "    </tr>\n",
       "    <tr>\n",
       "      <th>3</th>\n",
       "      <td>1.0</td>\n",
       "      <td>2013-01-02</td>\n",
       "      <td>1.0</td>\n",
       "      <td>3</td>\n",
       "      <td>train</td>\n",
       "      <td>foo</td>\n",
       "      <td>0</td>\n",
       "      <td>3</td>\n",
       "    </tr>\n",
       "  </tbody>\n",
       "</table>\n",
       "</div>"
      ],
      "text/plain": [
       "     A          B    C  D      E    F  G  H\n",
       "0  1.0 2013-01-02  1.0  3   test  foo  0  0\n",
       "1  1.0 2013-01-02  1.0  3  train  foo  0  1\n",
       "2  1.0 2013-01-02  1.0  3   test  foo  0  2\n",
       "3  1.0 2013-01-02  1.0  3  train  foo  0  3"
      ]
     },
     "execution_count": 146,
     "metadata": {},
     "output_type": "execute_result"
    }
   ],
   "source": [
    "df2.fillna(value=\"train\")"
   ]
  },
  {
   "cell_type": "code",
   "execution_count": null,
   "id": "3c808bcb",
   "metadata": {},
   "outputs": [],
   "source": []
  }
 ],
 "metadata": {
  "kernelspec": {
   "display_name": "Python 3 (ipykernel)",
   "language": "python",
   "name": "python3"
  },
  "language_info": {
   "codemirror_mode": {
    "name": "ipython",
    "version": 3
   },
   "file_extension": ".py",
   "mimetype": "text/x-python",
   "name": "python",
   "nbconvert_exporter": "python",
   "pygments_lexer": "ipython3",
   "version": "3.9.12"
  }
 },
 "nbformat": 4,
 "nbformat_minor": 5
}
