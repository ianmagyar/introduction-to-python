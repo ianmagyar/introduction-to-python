{
 "cells": [
  {
   "cell_type": "code",
   "execution_count": null,
   "id": "9340cc0f",
   "metadata": {},
   "outputs": [],
   "source": [
    "def square(number, print_result=False):\n",
    "    \"\"\"\n",
    "    Returns the square of a number.\n",
    "    \n",
    "    Parameters:\n",
    "    number - an integer or float\n",
    "    \n",
    "    Returns:\n",
    "    an integer or float representing the square\n",
    "    \"\"\"\n",
    "    result = number ** 2\n",
    "    if print_result:\n",
    "        print(\"The result is:\", result)\n",
    "    return result"
   ]
  },
  {
   "cell_type": "code",
   "execution_count": null,
   "id": "3aab4341",
   "metadata": {},
   "outputs": [],
   "source": [
    "square(3, True)"
   ]
  },
  {
   "cell_type": "code",
   "execution_count": null,
   "id": "549a7a23",
   "metadata": {},
   "outputs": [],
   "source": [
    "# square(\"abc\")"
   ]
  },
  {
   "cell_type": "code",
   "execution_count": null,
   "id": "547880e0",
   "metadata": {},
   "outputs": [],
   "source": [
    "square(True, 3)"
   ]
  },
  {
   "cell_type": "code",
   "execution_count": null,
   "id": "9a670d22",
   "metadata": {},
   "outputs": [],
   "source": [
    "square(print_result=True, number=3)"
   ]
  },
  {
   "cell_type": "code",
   "execution_count": null,
   "id": "08fd650a",
   "metadata": {},
   "outputs": [],
   "source": [
    "square()"
   ]
  },
  {
   "cell_type": "code",
   "execution_count": null,
   "id": "bfe481d5",
   "metadata": {},
   "outputs": [],
   "source": [
    "def cube(number:int) -> int:\n",
    "    if not isinstance(number, int):\n",
    "        return -1\n",
    "    result = number ** 3\n",
    "    return result"
   ]
  },
  {
   "cell_type": "code",
   "execution_count": null,
   "id": "9f74b15e",
   "metadata": {},
   "outputs": [],
   "source": [
    "cube(-1)"
   ]
  },
  {
   "cell_type": "code",
   "execution_count": null,
   "id": "d68f2b56",
   "metadata": {},
   "outputs": [],
   "source": [
    "cube(3.4)"
   ]
  },
  {
   "cell_type": "code",
   "execution_count": null,
   "id": "d0b97817",
   "metadata": {},
   "outputs": [],
   "source": [
    "def square(number, print_result=False):\n",
    "    global a  # global variable - do not use\n",
    "    a += 1\n",
    "    result = number ** 2\n",
    "    if print_result:\n",
    "        print(\"The result is:\", result)\n",
    "    return result"
   ]
  },
  {
   "cell_type": "code",
   "execution_count": null,
   "id": "7f7d4fdd",
   "metadata": {},
   "outputs": [],
   "source": [
    "a = 5\n",
    "print(square(a))\n",
    "# print(result)\n",
    "print(a)"
   ]
  },
  {
   "cell_type": "code",
   "execution_count": null,
   "id": "cbe5d192",
   "metadata": {},
   "outputs": [],
   "source": [
    "def no_return_value():\n",
    "    pass"
   ]
  },
  {
   "cell_type": "code",
   "execution_count": null,
   "id": "14b5ee0f",
   "metadata": {},
   "outputs": [],
   "source": [
    "print(no_return_value())"
   ]
  },
  {
   "cell_type": "code",
   "execution_count": null,
   "id": "0821e237",
   "metadata": {},
   "outputs": [],
   "source": [
    "def multiple_return_values():\n",
    "    return 1, 2, 3"
   ]
  },
  {
   "cell_type": "code",
   "execution_count": null,
   "id": "1923c3b8",
   "metadata": {},
   "outputs": [],
   "source": [
    "print(multiple_return_values())"
   ]
  },
  {
   "cell_type": "code",
   "execution_count": null,
   "id": "5709cc4d",
   "metadata": {},
   "outputs": [],
   "source": [
    "a, b, c = multiple_return_values()"
   ]
  },
  {
   "cell_type": "code",
   "execution_count": null,
   "id": "5fe9d0fd",
   "metadata": {},
   "outputs": [],
   "source": [
    "print(a)\n",
    "print(b)\n",
    "print(c)"
   ]
  },
  {
   "cell_type": "code",
   "execution_count": null,
   "id": "33c9324a",
   "metadata": {},
   "outputs": [],
   "source": [
    "ret_value = multiple_return_values()\n",
    "print(ret_value)"
   ]
  },
  {
   "cell_type": "code",
   "execution_count": null,
   "id": "cd60173d",
   "metadata": {},
   "outputs": [],
   "source": [
    "print(ret_value[0])"
   ]
  },
  {
   "cell_type": "code",
   "execution_count": null,
   "id": "e8bf968c",
   "metadata": {},
   "outputs": [],
   "source": [
    "a, b, _ = multiple_return_values()  # if you don't want to use the last value\n",
    "print(_)"
   ]
  },
  {
   "cell_type": "code",
   "execution_count": null,
   "id": "05b7bf11",
   "metadata": {},
   "outputs": [],
   "source": [
    "x = 5\n",
    "eval(\"x * x\")"
   ]
  },
  {
   "cell_type": "code",
   "execution_count": null,
   "id": "59308aa7",
   "metadata": {},
   "outputs": [],
   "source": [
    "number = int(input(\"Please enter an integer: \"))\n",
    "expr = input(\"Please enter an expression using number: \")\n",
    "print(eval(expr))"
   ]
  },
  {
   "cell_type": "code",
   "execution_count": null,
   "id": "edd69c18",
   "metadata": {},
   "outputs": [],
   "source": [
    "def square(number: int) -> int:\n",
    "    \"\"\"\n",
    "    Takes an integer as argument and returns its square.\n",
    "    \"\"\"\n",
    "    return number ** 2\n",
    "\n",
    "\n",
    "def cube(number: int) -> int:\n",
    "    return number ** 3\n",
    "\n",
    "\n",
    "func = input(\"Enter a function (square/cube): \")\n",
    "\n",
    "for number in range(1, 11):\n",
    "    print(eval(func)(number))"
   ]
  },
  {
   "cell_type": "code",
   "execution_count": null,
   "id": "1cae419d",
   "metadata": {},
   "outputs": [],
   "source": [
    "myfile = open(\"test.txt\", \"w\")"
   ]
  },
  {
   "cell_type": "code",
   "execution_count": null,
   "id": "01b697bd",
   "metadata": {},
   "outputs": [],
   "source": [
    "myfile.write(\"blablabla\\n\")"
   ]
  },
  {
   "cell_type": "code",
   "execution_count": null,
   "id": "e2a4038e",
   "metadata": {},
   "outputs": [],
   "source": [
    "myfile.flush()"
   ]
  },
  {
   "cell_type": "code",
   "execution_count": null,
   "id": "5fd9e4b5",
   "metadata": {},
   "outputs": [],
   "source": [
    "myfile.write(\"druhy riadok\\n\")\n",
    "myfile.close()"
   ]
  },
  {
   "cell_type": "code",
   "execution_count": null,
   "id": "604092bf",
   "metadata": {},
   "outputs": [],
   "source": [
    "readfile = open(\"test.txt\", \"r\")\n",
    "print(readfile.readlines())"
   ]
  },
  {
   "cell_type": "code",
   "execution_count": null,
   "id": "6bc0abe2",
   "metadata": {},
   "outputs": [],
   "source": [
    "readfile.close()"
   ]
  },
  {
   "cell_type": "code",
   "execution_count": null,
   "id": "e12effa3",
   "metadata": {},
   "outputs": [],
   "source": [
    "def is_palindrome(sequence):\n",
    "    if len(sequence) == 0:\n",
    "        return True\n",
    "    if len(sequence) == 1:\n",
    "        return True\n",
    "    return sequence[0] == sequence[-1] and is_palindrome(sequence[1:-1])"
   ]
  },
  {
   "cell_type": "code",
   "execution_count": null,
   "id": "e3224174",
   "metadata": {},
   "outputs": [],
   "source": [
    "print(is_palindrome(\"1001001\"))\n",
    "print(is_palindrome(\"123456\"))\n",
    "print(is_palindrome(\"123321\"))\n",
    "print(is_palindrome(\"1234221\"))"
   ]
  },
  {
   "cell_type": "code",
   "execution_count": null,
   "id": "2f443405",
   "metadata": {},
   "outputs": [],
   "source": [
    "def fibonacci(n):\n",
    "    if n == 1:\n",
    "        return 0\n",
    "    if n == 2:\n",
    "        return 1\n",
    "    return fibonacci(n - 2) + fibonacci(n - 1)"
   ]
  },
  {
   "cell_type": "code",
   "execution_count": null,
   "id": "00bb3960",
   "metadata": {},
   "outputs": [],
   "source": [
    "print(fibonacci(1))\n",
    "print(fibonacci(2))\n",
    "print(fibonacci(3))\n",
    "print(fibonacci(7))"
   ]
  },
  {
   "cell_type": "code",
   "execution_count": null,
   "id": "4d8ac605",
   "metadata": {},
   "outputs": [],
   "source": [
    "print(fibonacci(20))"
   ]
  },
  {
   "cell_type": "code",
   "execution_count": null,
   "id": "a64b8a14",
   "metadata": {},
   "outputs": [],
   "source": [
    "print(fibonacci(25))"
   ]
  },
  {
   "cell_type": "code",
   "execution_count": null,
   "id": "b8bc0015",
   "metadata": {},
   "outputs": [],
   "source": [
    "print(fibonacci(50))"
   ]
  },
  {
   "cell_type": "code",
   "execution_count": null,
   "id": "a068bb2b",
   "metadata": {},
   "outputs": [],
   "source": [
    "def barnyard(heads, legs):\n",
    "    for chicken in range(0, heads + 1):\n",
    "        rabbits = heads - chicken\n",
    "        if 2 * chicken + 4 * rabbits == legs:\n",
    "            return chicken, rabbits"
   ]
  },
  {
   "cell_type": "code",
   "execution_count": null,
   "id": "d40c9ff7",
   "metadata": {},
   "outputs": [],
   "source": [
    "print(barnyard(48, 128))"
   ]
  },
  {
   "cell_type": "code",
   "execution_count": null,
   "id": "2b0cbbc8",
   "metadata": {},
   "outputs": [],
   "source": [
    "def fib():\n",
    "    a, b = 0, 1\n",
    "    while True:\n",
    "        yield a\n",
    "        a, b = b, a + b"
   ]
  },
  {
   "cell_type": "code",
   "execution_count": null,
   "id": "01feb4dc",
   "metadata": {},
   "outputs": [],
   "source": [
    "gen = fib()\n",
    "print(gen)"
   ]
  },
  {
   "cell_type": "code",
   "execution_count": null,
   "id": "c820025c",
   "metadata": {},
   "outputs": [],
   "source": [
    "for _ in range(100):\n",
    "    print(next(gen))"
   ]
  },
  {
   "cell_type": "code",
   "execution_count": null,
   "id": "6ac7fa52",
   "metadata": {},
   "outputs": [],
   "source": [
    "my_list = [1, 5, 4, 6, 8, 11, 3, 12]\n",
    "new_list = list(filter(lambda x: (x % 2 == 0), my_list))\n",
    "print(new_list)"
   ]
  },
  {
   "cell_type": "code",
   "execution_count": null,
   "id": "44e25ffc",
   "metadata": {},
   "outputs": [],
   "source": [
    "my_list = [\"id0\", \"id3\", \"id30\", \"id24\", \"id52\"]\n",
    "print(sorted(my_list))\n",
    "print(sorted(my_list, key=lambda x: int(x[2:])))"
   ]
  },
  {
   "cell_type": "code",
   "execution_count": null,
   "id": "011f49ad",
   "metadata": {},
   "outputs": [],
   "source": [
    "my_list = [\n",
    "    {\n",
    "        \"name\": \"A B\",\n",
    "        \"age\": 24\n",
    "    },\n",
    "    {\n",
    "        \"name\": \"D A\",\n",
    "        \"age\": 32\n",
    "    },\n",
    "    {\n",
    "        \"name\": \"C H\",\n",
    "        \"age\": 17\n",
    "    },\n",
    "    {\n",
    "        \"name\": \"A G\",\n",
    "        \"age\": 23\n",
    "    }\n",
    "]\n",
    "\n",
    "print(sorted(my_list, key=lambda x: x[\"name\"].split()[1]))\n",
    "print(sorted(my_list, key=lambda x: x[\"age\"]))"
   ]
  },
  {
   "cell_type": "code",
   "execution_count": null,
   "id": "124727dc",
   "metadata": {},
   "outputs": [],
   "source": []
  }
 ],
 "metadata": {
  "kernelspec": {
   "display_name": "Python 3 (ipykernel)",
   "language": "python",
   "name": "python3"
  },
  "language_info": {
   "codemirror_mode": {
    "name": "ipython",
    "version": 3
   },
   "file_extension": ".py",
   "mimetype": "text/x-python",
   "name": "python",
   "nbconvert_exporter": "python",
   "pygments_lexer": "ipython3",
   "version": "3.9.12"
  }
 },
 "nbformat": 4,
 "nbformat_minor": 5
}
