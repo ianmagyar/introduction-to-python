{
 "cells": [
  {
   "cell_type": "code",
   "execution_count": 1,
   "id": "17ab2604",
   "metadata": {},
   "outputs": [
    {
     "name": "stdout",
     "output_type": "stream",
     "text": [
      "Hello World!\n"
     ]
    }
   ],
   "source": [
    "s1 = \"Hello World!\"\n",
    "print(s1)"
   ]
  },
  {
   "cell_type": "code",
   "execution_count": 2,
   "id": "9f9114d2",
   "metadata": {},
   "outputs": [
    {
     "name": "stdout",
     "output_type": "stream",
     "text": [
      "Hello World!\n"
     ]
    }
   ],
   "source": [
    "s2 = 'Hello World!'\n",
    "print(s2)"
   ]
  },
  {
   "cell_type": "code",
   "execution_count": 3,
   "id": "9aaabd82",
   "metadata": {},
   "outputs": [
    {
     "name": "stdout",
     "output_type": "stream",
     "text": [
      "Hello World!\n"
     ]
    }
   ],
   "source": [
    "s_multi = \"\"\"Hello \\\n",
    "World!\"\"\"\n",
    "print(s_multi)"
   ]
  },
  {
   "cell_type": "code",
   "execution_count": 4,
   "id": "ec2d96d9",
   "metadata": {},
   "outputs": [
    {
     "name": "stdout",
     "output_type": "stream",
     "text": [
      "5\n"
     ]
    }
   ],
   "source": [
    "print(str(5))"
   ]
  },
  {
   "cell_type": "code",
   "execution_count": 5,
   "id": "ed0881ec",
   "metadata": {},
   "outputs": [
    {
     "name": "stdout",
     "output_type": "stream",
     "text": [
      "Hello\n",
      "Hello World!\n"
     ]
    }
   ],
   "source": [
    "g = \"Hello\"\n",
    "h = g\n",
    "g += \" World!\"\n",
    "print(h)\n",
    "print(g)"
   ]
  },
  {
   "cell_type": "code",
   "execution_count": 6,
   "id": "2bbfd7b9",
   "metadata": {},
   "outputs": [
    {
     "name": "stdout",
     "output_type": "stream",
     "text": [
      "b'\\xe5\\xad\\x97'\n",
      "字\n"
     ]
    }
   ],
   "source": [
    "nonlat = '字'\n",
    "b = nonlat.encode()\n",
    "print(b)\n",
    "print(b.decode())"
   ]
  },
  {
   "cell_type": "code",
   "execution_count": 7,
   "id": "929fb3f1",
   "metadata": {},
   "outputs": [
    {
     "name": "stdout",
     "output_type": "stream",
     "text": [
      "Hello\n",
      "Hello World!\n"
     ]
    }
   ],
   "source": [
    "add = \"Hello\"\n",
    "print(add)\n",
    "add += \" World!\"\n",
    "print(add)"
   ]
  },
  {
   "cell_type": "code",
   "execution_count": 8,
   "id": "06bd89a1",
   "metadata": {},
   "outputs": [
    {
     "name": "stdout",
     "output_type": "stream",
     "text": [
      "Hello World!\n",
      "Hello World!\n"
     ]
    }
   ],
   "source": [
    "concat1 = \"Hello\" + \" World!\"\n",
    "print(concat1)\n",
    "concat2 = \"Hello\" \" World!\"\n",
    "print(concat2)"
   ]
  },
  {
   "cell_type": "code",
   "execution_count": 9,
   "id": "d0183d65",
   "metadata": {},
   "outputs": [
    {
     "name": "stdout",
     "output_type": "stream",
     "text": [
      "Hello World!\n"
     ]
    }
   ],
   "source": [
    "joined = ' '.join([\"Hello\", \"World!\"])\n",
    "print(joined)"
   ]
  },
  {
   "cell_type": "code",
   "execution_count": 10,
   "id": "0b72ac9a",
   "metadata": {},
   "outputs": [
    {
     "name": "stdout",
     "output_type": "stream",
     "text": [
      "Hello,World!,bla,bla\n"
     ]
    }
   ],
   "source": [
    "joined = ','.join([\"Hello\", \"World!\", \"bla\", \"bla\"])\n",
    "print(joined)"
   ]
  },
  {
   "cell_type": "code",
   "execution_count": 11,
   "id": "763c03e7",
   "metadata": {},
   "outputs": [
    {
     "name": "stdout",
     "output_type": "stream",
     "text": [
      "test[0] H\n",
      "test[-1] !\n"
     ]
    }
   ],
   "source": [
    "test = \"Hello World!\"\n",
    "print(\"test[0]\", test[0])\n",
    "print(\"test[-1]\", test[-1])"
   ]
  },
  {
   "cell_type": "code",
   "execution_count": 12,
   "id": "7ea4fb86",
   "metadata": {},
   "outputs": [
    {
     "name": "stdout",
     "output_type": "stream",
     "text": [
      "test[2:7] llo W\n",
      "test[:7] Hello W\n",
      "test[2:] llo World!\n",
      "test[2:-3] llo Wor\n",
      "test[:] Hello World!\n",
      "test[2:7:2] loW\n"
     ]
    }
   ],
   "source": [
    "print(\"test[2:7]\", test[2:7])\n",
    "print(\"test[:7]\", test[:7])\n",
    "print(\"test[2:]\", test[2:])\n",
    "print(\"test[2:-3]\", test[2:-3])\n",
    "print(\"test[:]\", test[:])\n",
    "print(\"test[2:7:2]\", test[2:7:2])"
   ]
  },
  {
   "cell_type": "code",
   "execution_count": 13,
   "id": "7bbc45e1",
   "metadata": {},
   "outputs": [
    {
     "name": "stdout",
     "output_type": "stream",
     "text": [
      "len(test) 12\n"
     ]
    }
   ],
   "source": [
    "print(\"len(test)\", len(test))"
   ]
  },
  {
   "cell_type": "code",
   "execution_count": 14,
   "id": "85a90319",
   "metadata": {},
   "outputs": [
    {
     "name": "stdout",
     "output_type": "stream",
     "text": [
      "9\n",
      "9\n"
     ]
    }
   ],
   "source": [
    "print(test.find(\"l\", 5, 10))\n",
    "print(test.rfind(\"l\"))"
   ]
  },
  {
   "cell_type": "code",
   "execution_count": 15,
   "id": "39a9c75c",
   "metadata": {},
   "outputs": [
    {
     "ename": "ValueError",
     "evalue": "substring not found",
     "output_type": "error",
     "traceback": [
      "\u001b[1;31m---------------------------------------------------------------------------\u001b[0m",
      "\u001b[1;31mValueError\u001b[0m                                Traceback (most recent call last)",
      "Input \u001b[1;32mIn [15]\u001b[0m, in \u001b[0;36m<cell line: 1>\u001b[1;34m()\u001b[0m\n\u001b[1;32m----> 1\u001b[0m \u001b[38;5;28mprint\u001b[39m(\u001b[43mtest\u001b[49m\u001b[38;5;241;43m.\u001b[39;49m\u001b[43mindex\u001b[49m\u001b[43m(\u001b[49m\u001b[38;5;124;43m\"\u001b[39;49m\u001b[38;5;124;43ma\u001b[39;49m\u001b[38;5;124;43m\"\u001b[39;49m\u001b[43m)\u001b[49m)\n\u001b[0;32m      2\u001b[0m \u001b[38;5;28mprint\u001b[39m(test\u001b[38;5;241m.\u001b[39mrindex(\u001b[38;5;124m\"\u001b[39m\u001b[38;5;124ma\u001b[39m\u001b[38;5;124m\"\u001b[39m))\n",
      "\u001b[1;31mValueError\u001b[0m: substring not found"
     ]
    }
   ],
   "source": [
    "print(test.index(\"a\"))\n",
    "print(test.rindex(\"a\"))"
   ]
  },
  {
   "cell_type": "code",
   "execution_count": 16,
   "id": "19f161f8",
   "metadata": {},
   "outputs": [
    {
     "name": "stdout",
     "output_type": "stream",
     "text": [
      "1\n"
     ]
    }
   ],
   "source": [
    "print(test.count(\"l\", 3, 9))"
   ]
  },
  {
   "cell_type": "code",
   "execution_count": 17,
   "id": "37d662b7",
   "metadata": {},
   "outputs": [
    {
     "name": "stdout",
     "output_type": "stream",
     "text": [
      "['H', 'o World!']\n",
      "('Hello', ' ', 'World!')\n"
     ]
    }
   ],
   "source": [
    "print(test.split(\"ell\"))\n",
    "print(test.partition(\" \"))"
   ]
  },
  {
   "cell_type": "code",
   "execution_count": 18,
   "id": "4069e5bb",
   "metadata": {},
   "outputs": [
    {
     "name": "stdout",
     "output_type": "stream",
     "text": [
      "Hello World!\n",
      "HeLLo WorLd!\n",
      "Hello World!\n"
     ]
    }
   ],
   "source": [
    "print(test)\n",
    "print(test.replace(\"l\", \"L\"))\n",
    "print(test)"
   ]
  },
  {
   "cell_type": "code",
   "execution_count": 19,
   "id": "924d99b3",
   "metadata": {},
   "outputs": [
    {
     "name": "stdout",
     "output_type": "stream",
     "text": [
      "HeLLo worLd!\n",
      "HeLLo worLd\n"
     ]
    }
   ],
   "source": [
    "table = test.maketrans({\"l\": \"L\", \"W\": \"w\"})\n",
    "print(test.translate(table))\n",
    "\n",
    "table = test.maketrans(\"lW\", \"Lw\", \"!\")\n",
    "print(test.translate(table))"
   ]
  },
  {
   "cell_type": "code",
   "execution_count": 20,
   "id": "41232607",
   "metadata": {},
   "outputs": [
    {
     "name": "stdout",
     "output_type": "stream",
     "text": [
      "The lord of the rings\n",
      "The Lord Of The Rings\n",
      "THE LORD OF THE RINGS\n",
      "the lord of the rings\n",
      "the lord of the rings\n"
     ]
    }
   ],
   "source": [
    "long_title = \"the lord of the Rings\"\n",
    "print(long_title.capitalize())\n",
    "print(long_title.title())\n",
    "print(long_title.upper())\n",
    "print(long_title.lower())\n",
    "print(long_title.casefold())"
   ]
  },
  {
   "cell_type": "code",
   "execution_count": 21,
   "id": "f585d7df",
   "metadata": {},
   "outputs": [
    {
     "name": "stdout",
     "output_type": "stream",
     "text": [
      "the lord of the Rings\n",
      "True\n",
      "True\n"
     ]
    }
   ],
   "source": [
    "print(long_title)\n",
    "print(long_title.endswith(\"gs\"))\n",
    "print(long_title.startswith((\"The\", \"the\")))"
   ]
  },
  {
   "cell_type": "code",
   "execution_count": 22,
   "id": "a0e6887a",
   "metadata": {},
   "outputs": [
    {
     "name": "stdout",
     "output_type": "stream",
     "text": [
      "Test string\n",
      "Test string\n",
      "Test string\n",
      "Hey Jude\n",
      "List head: 1\n"
     ]
    }
   ],
   "source": [
    "print(\"Test {}\".format(\"string\"))\n",
    "print(\"{} {}\".format(\"Test\", \"string\"))\n",
    "print(\"Test {0}\".format(\"string\"))\n",
    "print(\"Hey {name}\".format(name=\"Jude\"))\n",
    "\n",
    "mylist = [1, 2, 3, 4, 5]\n",
    "print(\"List head: {lst[0]}\".format(lst=mylist))"
   ]
  },
  {
   "cell_type": "code",
   "execution_count": 23,
   "id": "17bdee71",
   "metadata": {},
   "outputs": [
    {
     "name": "stdout",
     "output_type": "stream",
     "text": [
      "Test Kitzbühel\n",
      "Test 'Kitzbühel'\n",
      "Test 'Kitzb\\xfchel'\n"
     ]
    }
   ],
   "source": [
    "print(\"Test {!s}\".format(\"Kitzbühel\"))\n",
    "print(\"Test {!r}\".format(\"Kitzbühel\"))\n",
    "print(\"Test {!a}\".format(\"Kitzbühel\"))"
   ]
  },
  {
   "cell_type": "code",
   "execution_count": 24,
   "id": "63e5cf18",
   "metadata": {},
   "outputs": [
    {
     "name": "stdout",
     "output_type": "stream",
     "text": [
      "left aligned                  \n",
      "                 right aligned\n",
      "        center aligned        \n",
      "----center with fill char-----\n"
     ]
    }
   ],
   "source": [
    "print(\"{:<30}\".format('left aligned'))\n",
    "print(\"{:>30}\".format('right aligned'))\n",
    "print(\"{:^30}\".format('center aligned'))\n",
    "print(\"{:-^30}\".format('center with fill char'))"
   ]
  },
  {
   "cell_type": "code",
   "execution_count": 25,
   "id": "bba35ec8",
   "metadata": {},
   "outputs": [
    {
     "name": "stdout",
     "output_type": "stream",
     "text": [
      "Show always: +19.090000; -19.090000\n",
      "Show space for positives:  19.090000; -19.090000\n",
      "Show only minus: 19.090000; -19.090000\n",
      "Show only minus: 19.090000; -19.090000\n"
     ]
    }
   ],
   "source": [
    "print(\"Show always: {:+f}; {:+f}\".format(19.09, -19.09))\n",
    "print(\"Show space for positives: {: f}; {: f}\".format(19.09, -19.09))\n",
    "print(\"Show only minus: {:-f}; {:-f}\".format(19.09, -19.09))\n",
    "print(\"Show only minus: {:f}; {:f}\".format(19.09, -19.09))"
   ]
  },
  {
   "cell_type": "code",
   "execution_count": 26,
   "id": "b931e23f",
   "metadata": {},
   "outputs": [
    {
     "name": "stdout",
     "output_type": "stream",
     "text": [
      "int: 42, hex: 2a, oct: 52, bin: 101010\n",
      "Add separator: 21,081,968\n",
      "Round float numbers: 19.95\n",
      "Percentage: 10.638%\n"
     ]
    }
   ],
   "source": [
    "print(\"int: {0:d}, hex: {0:x}, oct: {0:o}, bin: {0:b}\".format(42))\n",
    "print(\"Add separator: {:,}\".format(21081968))\n",
    "print(\"Round float numbers: {0:.2f}\".format(19.9499999999999))\n",
    "print(\"Percentage: {:.3%}\".format(5/47))"
   ]
  },
  {
   "cell_type": "code",
   "execution_count": 27,
   "id": "338a7ed2",
   "metadata": {},
   "outputs": [
    {
     "name": "stdout",
     "output_type": "stream",
     "text": [
      "Roman is 33 years old\n"
     ]
    }
   ],
   "source": [
    "person_dict = {\n",
    "    \"name\": \"Roman\",\n",
    "    \"age\": 33\n",
    "}\n",
    "print(\"{name} is {age} years old\".format(**person_dict))"
   ]
  },
  {
   "cell_type": "code",
   "execution_count": 28,
   "id": "df2eba3a",
   "metadata": {},
   "outputs": [
    {
     "ename": "TypeError",
     "evalue": "'str' object does not support item assignment",
     "output_type": "error",
     "traceback": [
      "\u001b[1;31m---------------------------------------------------------------------------\u001b[0m",
      "\u001b[1;31mTypeError\u001b[0m                                 Traceback (most recent call last)",
      "Input \u001b[1;32mIn [28]\u001b[0m, in \u001b[0;36m<cell line: 2>\u001b[1;34m()\u001b[0m\n\u001b[0;32m      1\u001b[0m test \u001b[38;5;241m=\u001b[39m \u001b[38;5;124m\"\u001b[39m\u001b[38;5;124mHello\u001b[39m\u001b[38;5;124m\"\u001b[39m\n\u001b[1;32m----> 2\u001b[0m test[\u001b[38;5;241m0\u001b[39m] \u001b[38;5;241m=\u001b[39m \u001b[38;5;124m\"\u001b[39m\u001b[38;5;124mh\u001b[39m\u001b[38;5;124m\"\u001b[39m\n",
      "\u001b[1;31mTypeError\u001b[0m: 'str' object does not support item assignment"
     ]
    }
   ],
   "source": [
    "test = \"Hello\"\n",
    "test[0] = \"h\""
   ]
  },
  {
   "cell_type": "code",
   "execution_count": 29,
   "id": "e3cbff56",
   "metadata": {},
   "outputs": [
    {
     "name": "stdout",
     "output_type": "stream",
     "text": [
      "[1, 2, 3]\n",
      "[]\n",
      "[]\n"
     ]
    }
   ],
   "source": [
    "lst = [1, 2, 3]\n",
    "print(lst)\n",
    "lst = []\n",
    "print(lst)\n",
    "lst = list()\n",
    "print(lst)"
   ]
  },
  {
   "cell_type": "code",
   "execution_count": 30,
   "id": "2421fae4",
   "metadata": {},
   "outputs": [
    {
     "name": "stdout",
     "output_type": "stream",
     "text": [
      "[1, 2, 3]\n",
      "['a', 2, 3]\n",
      "['a', 'b', 'c']\n"
     ]
    }
   ],
   "source": [
    "lst = [1, 2, 3]\n",
    "print(lst)\n",
    "lst[0] = \"a\"\n",
    "print(lst)\n",
    "lst[1:3] = [\"b\", \"c\"]\n",
    "print(lst)"
   ]
  },
  {
   "cell_type": "code",
   "execution_count": 31,
   "id": "a4cb7bf2",
   "metadata": {},
   "outputs": [
    {
     "name": "stdout",
     "output_type": "stream",
     "text": [
      "b\n"
     ]
    }
   ],
   "source": [
    "lst = [\"abc\", 'b']\n",
    "print(lst[0][1])"
   ]
  },
  {
   "cell_type": "code",
   "execution_count": 32,
   "id": "49e30952",
   "metadata": {},
   "outputs": [
    {
     "name": "stdout",
     "output_type": "stream",
     "text": [
      "a\n",
      "b\n",
      "c\n"
     ]
    }
   ],
   "source": [
    "lst = ['a', 'b', 'c']\n",
    "for element in lst:\n",
    "    print(element)"
   ]
  },
  {
   "cell_type": "code",
   "execution_count": 33,
   "id": "51ed8903",
   "metadata": {},
   "outputs": [
    {
     "name": "stdout",
     "output_type": "stream",
     "text": [
      "1 a\n",
      "2 b\n",
      "3 c\n"
     ]
    }
   ],
   "source": [
    "for idx, element in enumerate(lst, start=1):\n",
    "    print(idx, element)"
   ]
  },
  {
   "cell_type": "code",
   "execution_count": 34,
   "id": "7d423b58",
   "metadata": {},
   "outputs": [
    {
     "name": "stdout",
     "output_type": "stream",
     "text": [
      "1 a\n",
      "2 b\n",
      "3 c\n",
      "4 d\n",
      "5 e\n"
     ]
    }
   ],
   "source": [
    "lst1 = [1, 2, 3, 4, 5]\n",
    "lst2 = ['a', 'b', 'c', 'd', 'e']\n",
    "\n",
    "for num, let in zip(lst1, lst2):\n",
    "    print(num, let)"
   ]
  },
  {
   "cell_type": "code",
   "execution_count": 35,
   "id": "5cf2d66b",
   "metadata": {},
   "outputs": [
    {
     "name": "stdout",
     "output_type": "stream",
     "text": [
      "3 in lst1: True\n",
      "33 in lst1: False\n",
      "3 not in lst1: False\n",
      "33 not in lst1: True\n",
      "not 3 in lst1: False\n",
      "not 33 in lst1: True\n"
     ]
    }
   ],
   "source": [
    "print(\"3 in lst1:\", 3 in lst1)\n",
    "print(\"33 in lst1:\", 33 in lst1)\n",
    "print(\"3 not in lst1:\", 3 not in lst1)\n",
    "print(\"33 not in lst1:\", 33 not in lst1)\n",
    "print(\"not 3 in lst1:\", not 3 in lst1)\n",
    "print(\"not 33 in lst1:\", not 33 in lst1)"
   ]
  },
  {
   "cell_type": "code",
   "execution_count": 36,
   "id": "993a0a4b",
   "metadata": {},
   "outputs": [
    {
     "name": "stdout",
     "output_type": "stream",
     "text": [
      "'a' in lst1 + lst2: True\n"
     ]
    }
   ],
   "source": [
    "print(\"'a' in lst1 + lst2:\", 'a' in lst1 + lst2)"
   ]
  },
  {
   "cell_type": "code",
   "execution_count": 37,
   "id": "9f340964",
   "metadata": {},
   "outputs": [
    {
     "name": "stdout",
     "output_type": "stream",
     "text": [
      "3\n"
     ]
    }
   ],
   "source": [
    "print(lst1.index(4))"
   ]
  },
  {
   "cell_type": "code",
   "execution_count": 38,
   "id": "70cfda37",
   "metadata": {},
   "outputs": [
    {
     "name": "stdout",
     "output_type": "stream",
     "text": [
      "5\n"
     ]
    }
   ],
   "source": [
    "print(len(lst1))"
   ]
  },
  {
   "cell_type": "code",
   "execution_count": 39,
   "id": "1c34d998",
   "metadata": {},
   "outputs": [
    {
     "name": "stdout",
     "output_type": "stream",
     "text": [
      "None\n",
      "[5, 4, 3, 2, 1]\n"
     ]
    }
   ],
   "source": [
    "print(lst1.reverse())\n",
    "print(lst1)"
   ]
  },
  {
   "cell_type": "code",
   "execution_count": 40,
   "id": "c783be5b",
   "metadata": {},
   "outputs": [
    {
     "name": "stdout",
     "output_type": "stream",
     "text": [
      "[5, 4, 3, 2, 1]\n",
      "[5, 4, 3, 2, 1, 0]\n"
     ]
    }
   ],
   "source": [
    "print(lst1)\n",
    "lst1.append(0)\n",
    "print(lst1)"
   ]
  },
  {
   "cell_type": "code",
   "execution_count": 41,
   "id": "db4f5c30",
   "metadata": {},
   "outputs": [
    {
     "name": "stdout",
     "output_type": "stream",
     "text": [
      "[5, 4, 3, 2, 1, 0]\n",
      "[5, 4, 4, 3, 2, 1, 0]\n",
      "[5, 4, 6, 4, 3, 2, 1, 0]\n"
     ]
    }
   ],
   "source": [
    "print(lst1)\n",
    "lst1.insert(2, 4)\n",
    "print(lst1)\n",
    "lst1.insert(2, 6)\n",
    "print(lst1)"
   ]
  },
  {
   "cell_type": "code",
   "execution_count": 42,
   "id": "3d48cec7",
   "metadata": {},
   "outputs": [
    {
     "name": "stdout",
     "output_type": "stream",
     "text": [
      "[5, 4, 6, 4, 3, 2, 1, 0, 'a', 'b', 'c', 'd', 'e']\n"
     ]
    }
   ],
   "source": [
    "mega_list = lst1 + lst2\n",
    "print(mega_list)"
   ]
  },
  {
   "cell_type": "code",
   "execution_count": 43,
   "id": "8a1f1d86",
   "metadata": {},
   "outputs": [
    {
     "name": "stdout",
     "output_type": "stream",
     "text": [
      "[5, 4, 6, 4, 3, 2, 1, 0, 'a', 'b', 'c', 'd', 'e']\n",
      "[5, 4, 6, 4, 3, 2, 1, 0, 'a', 'b', 'c', 'd', 'e', 'f', 'g', 'h']\n"
     ]
    }
   ],
   "source": [
    "print(mega_list)\n",
    "mega_list.extend(['f', 'g', 'h'])\n",
    "print(mega_list)"
   ]
  },
  {
   "cell_type": "code",
   "execution_count": 44,
   "id": "6f58dda0",
   "metadata": {},
   "outputs": [
    {
     "name": "stdout",
     "output_type": "stream",
     "text": [
      "[5, 4, 6, 4, 3, 2, 1, 0, 'a', 'b', 'c', 'd', 'e', 'f', 'g', 'h']\n",
      "[5, 6, 4, 3, 2, 1, 0, 'a', 'b', 'c', 'd', 'e', 'f', 'g', 'h']\n"
     ]
    }
   ],
   "source": [
    "print(mega_list)\n",
    "mega_list.remove(4)\n",
    "print(mega_list)"
   ]
  },
  {
   "cell_type": "code",
   "execution_count": 45,
   "id": "6c8866d1",
   "metadata": {},
   "outputs": [
    {
     "name": "stdout",
     "output_type": "stream",
     "text": [
      "[5, 6, 4, 3, 2, 1, 0, 'a', 'b', 'c', 'd', 'e', 'f', 'g', 'h']\n",
      "[5, 6, 4, 3, 1, 0, 'a', 'b', 'c', 'd', 'e', 'f', 'g', 'h']\n"
     ]
    }
   ],
   "source": [
    "print(mega_list)\n",
    "mega_list.pop(4)\n",
    "print(mega_list)"
   ]
  },
  {
   "cell_type": "code",
   "execution_count": 46,
   "id": "567ad9af",
   "metadata": {},
   "outputs": [
    {
     "name": "stdout",
     "output_type": "stream",
     "text": [
      "[5, 6, 4, 3, 1, 0, 'a', 'b', 'c', 'd', 'e', 'f', 'g', 'h']\n",
      "[5, 6, 4, 3, 1, 0, 'b', 'c', 'd', 'e', 'f', 'g', 'h']\n"
     ]
    }
   ],
   "source": [
    "print(mega_list)\n",
    "del mega_list[6]\n",
    "print(mega_list)"
   ]
  },
  {
   "cell_type": "code",
   "execution_count": 47,
   "id": "28df550a",
   "metadata": {},
   "outputs": [
    {
     "name": "stdout",
     "output_type": "stream",
     "text": [
      "[5, 6, 4, 3, 1, 0, 'b', 'c', 'd', 'e', 'f', 'g', 'h']\n",
      "[]\n"
     ]
    }
   ],
   "source": [
    "print(mega_list)\n",
    "mega_list.clear()\n",
    "print(mega_list)"
   ]
  },
  {
   "cell_type": "code",
   "execution_count": 48,
   "id": "43b7c180",
   "metadata": {},
   "outputs": [
    {
     "name": "stdout",
     "output_type": "stream",
     "text": [
      "[5, 4, 6, 4, 3, 2, 1, 0]\n",
      "[]\n"
     ]
    }
   ],
   "source": [
    "print(lst1)\n",
    "del lst1[:]\n",
    "print(lst1)"
   ]
  },
  {
   "cell_type": "code",
   "execution_count": 49,
   "id": "df56c383",
   "metadata": {},
   "outputs": [
    {
     "ename": "NameError",
     "evalue": "name 'lst1' is not defined",
     "output_type": "error",
     "traceback": [
      "\u001b[1;31m---------------------------------------------------------------------------\u001b[0m",
      "\u001b[1;31mNameError\u001b[0m                                 Traceback (most recent call last)",
      "Input \u001b[1;32mIn [49]\u001b[0m, in \u001b[0;36m<cell line: 2>\u001b[1;34m()\u001b[0m\n\u001b[0;32m      1\u001b[0m \u001b[38;5;28;01mdel\u001b[39;00m lst1\n\u001b[1;32m----> 2\u001b[0m \u001b[38;5;28mprint\u001b[39m(\u001b[43mlst1\u001b[49m)\n",
      "\u001b[1;31mNameError\u001b[0m: name 'lst1' is not defined"
     ]
    }
   ],
   "source": [
    "del lst1\n",
    "print(lst1)"
   ]
  },
  {
   "cell_type": "code",
   "execution_count": 50,
   "id": "89c02de6",
   "metadata": {},
   "outputs": [
    {
     "name": "stdout",
     "output_type": "stream",
     "text": [
      "[8, 2, 9, 4, 3, 7, 5.4, 2.1, 0.3, 9, 0.5, 63]\n",
      "[0.3, 0.5, 2, 2.1, 3, 4, 5.4, 7, 8, 9, 9, 63]\n"
     ]
    }
   ],
   "source": [
    "unsorted = [8, 2, 9, 4, 3, 7, 5.4, 2.1, 0.3, 9, 0.5, 63]\n",
    "print(unsorted)\n",
    "unsorted.sort()\n",
    "print(unsorted)"
   ]
  },
  {
   "cell_type": "code",
   "execution_count": 51,
   "id": "957ecd5c",
   "metadata": {},
   "outputs": [
    {
     "name": "stdout",
     "output_type": "stream",
     "text": [
      "x=6, y=5\n"
     ]
    }
   ],
   "source": [
    "x = 5\n",
    "y = x\n",
    "x = 6\n",
    "\n",
    "print(\"x={}, y={}\".format(x, y))"
   ]
  },
  {
   "cell_type": "code",
   "execution_count": 52,
   "id": "98bb253e",
   "metadata": {},
   "outputs": [
    {
     "name": "stdout",
     "output_type": "stream",
     "text": [
      "lst1: ['a', 'b', 'c', 'd']\n",
      "lst2: ['a', 'b', 'c', 'd']\n"
     ]
    }
   ],
   "source": [
    "lst1 = ['a', 'b', 'c']\n",
    "lst2 = lst1\n",
    "lst1.append('d')\n",
    "\n",
    "print(\"lst1:\", lst1)\n",
    "print(\"lst2:\", lst2)"
   ]
  },
  {
   "cell_type": "code",
   "execution_count": 53,
   "id": "e8d285ca",
   "metadata": {},
   "outputs": [
    {
     "name": "stdout",
     "output_type": "stream",
     "text": [
      "lst1: [1, 2, 3]\n",
      "lst2: ['a', 'b', 'c']\n"
     ]
    }
   ],
   "source": [
    "lst1 = ['a', 'b', 'c']\n",
    "lst2 = lst1\n",
    "lst1 = [1, 2, 3]\n",
    "\n",
    "print(\"lst1:\", lst1)\n",
    "print(\"lst2:\", lst2)"
   ]
  },
  {
   "cell_type": "code",
   "execution_count": 54,
   "id": "b1b1b6a0",
   "metadata": {},
   "outputs": [
    {
     "name": "stdout",
     "output_type": "stream",
     "text": [
      "lst1: ['a', 'b', 'c', 'd']\n",
      "lst2: ['a', 'b', 'c']\n"
     ]
    }
   ],
   "source": [
    "lst1 = ['a', 'b', 'c']\n",
    "lst2 = lst1.copy()\n",
    "lst1.append('d')\n",
    "\n",
    "print(\"lst1:\", lst1)\n",
    "print(\"lst2:\", lst2)"
   ]
  },
  {
   "cell_type": "code",
   "execution_count": 55,
   "id": "902e940d",
   "metadata": {},
   "outputs": [
    {
     "name": "stdout",
     "output_type": "stream",
     "text": [
      "[1, 8, 27, 64, 125, 216, 343, 512, 729, 1000]\n"
     ]
    }
   ],
   "source": [
    "lst = []\n",
    "for num in range(1, 11):\n",
    "    lst.append(num ** 3)\n",
    "\n",
    "print(lst)"
   ]
  },
  {
   "cell_type": "code",
   "execution_count": 56,
   "id": "be2d51e9",
   "metadata": {},
   "outputs": [
    {
     "name": "stdout",
     "output_type": "stream",
     "text": [
      "[1, 8, 27, 64, 125, 216, 343, 512, 729, 1000]\n"
     ]
    }
   ],
   "source": [
    "lst = [num ** 3 for num in range(1, 11)]\n",
    "print(lst)"
   ]
  },
  {
   "cell_type": "code",
   "execution_count": 57,
   "id": "f64dc97f",
   "metadata": {},
   "outputs": [
    {
     "name": "stdout",
     "output_type": "stream",
     "text": [
      "24\n"
     ]
    }
   ],
   "source": [
    "number = 214683\n",
    "digit_sum = sum([int(digit) for digit in str(number)])\n",
    "print(digit_sum)"
   ]
  },
  {
   "cell_type": "code",
   "execution_count": 58,
   "id": "4e7daf2b",
   "metadata": {},
   "outputs": [
    {
     "name": "stdout",
     "output_type": "stream",
     "text": [
      "[0, 2, 4, 6, 8, 10, 12, 14, 16, 18, 20, 22, 24, 26, 28, 30, 32, 34, 36, 38, 40, 42, 44, 46, 48, 50, 52, 54, 56, 58, 60, 62, 64, 66, 68, 70, 72, 74, 76, 78, 80, 82, 84, 86, 88, 90, 92, 94, 96, 98, 100]\n"
     ]
    }
   ],
   "source": [
    "lst = [num for num in range(101) if num % 2 == 0]\n",
    "print(lst)"
   ]
  },
  {
   "cell_type": "code",
   "execution_count": 59,
   "id": "a66ab067",
   "metadata": {},
   "outputs": [
    {
     "name": "stdout",
     "output_type": "stream",
     "text": [
      "['A', 'A', 'O', 'O', 'O', 'E', 'I', 'I', 'E', 'O', 'I', 'E']\n"
     ]
    }
   ],
   "source": [
    "lst = [str.upper(c) for c in \"Always look on the bright side of life\"\n",
    "       if str.lower(c) in ['a', 'e', 'i', 'o', 'u']]\n",
    "print(lst)"
   ]
  },
  {
   "cell_type": "code",
   "execution_count": 60,
   "id": "9cbf11b9",
   "metadata": {},
   "outputs": [
    {
     "name": "stdout",
     "output_type": "stream",
     "text": [
      "[[1, 4], [2, 5], [3, 6]]\n"
     ]
    }
   ],
   "source": [
    "matrix = [\n",
    "    [1, 2, 3],\n",
    "    [4, 5, 6]\n",
    "]\n",
    "\n",
    "i_matrix = [[row[i] for row in matrix]\n",
    "            for i in range(len(matrix[0]))]\n",
    "print(i_matrix)"
   ]
  },
  {
   "cell_type": "code",
   "execution_count": 61,
   "id": "0ce36498",
   "metadata": {},
   "outputs": [
    {
     "name": "stdout",
     "output_type": "stream",
     "text": [
      "(1, 2, 3)\n"
     ]
    }
   ],
   "source": [
    "sample_tuple = (1, 2, 3)\n",
    "print(sample_tuple)"
   ]
  },
  {
   "cell_type": "code",
   "execution_count": 62,
   "id": "db4edfc3",
   "metadata": {},
   "outputs": [
    {
     "name": "stdout",
     "output_type": "stream",
     "text": [
      "1\n",
      "<class 'int'>\n"
     ]
    }
   ],
   "source": [
    "sample_tuple = 1\n",
    "print(sample_tuple)\n",
    "print(type(sample_tuple))"
   ]
  },
  {
   "cell_type": "code",
   "execution_count": 63,
   "id": "dcecf022",
   "metadata": {},
   "outputs": [
    {
     "name": "stdout",
     "output_type": "stream",
     "text": [
      "(1,)\n",
      "<class 'tuple'>\n"
     ]
    }
   ],
   "source": [
    "sample_tuple = 1,\n",
    "print(sample_tuple)\n",
    "print(type(sample_tuple))"
   ]
  },
  {
   "cell_type": "code",
   "execution_count": 64,
   "id": "eee13812",
   "metadata": {},
   "outputs": [
    {
     "name": "stdout",
     "output_type": "stream",
     "text": [
      "()\n"
     ]
    }
   ],
   "source": [
    "empty_tuple = tuple()\n",
    "print(empty_tuple)"
   ]
  },
  {
   "cell_type": "code",
   "execution_count": 65,
   "id": "9f10e197",
   "metadata": {},
   "outputs": [
    {
     "name": "stdout",
     "output_type": "stream",
     "text": [
      "{}\n"
     ]
    }
   ],
   "source": [
    "my_dict = {}\n",
    "print(my_dict)"
   ]
  },
  {
   "cell_type": "code",
   "execution_count": 66,
   "id": "d7e476b6",
   "metadata": {},
   "outputs": [
    {
     "name": "stdout",
     "output_type": "stream",
     "text": [
      "{'one': 1, 'two': -2}\n"
     ]
    }
   ],
   "source": [
    "my_dict = {\n",
    "    \"one\": 1,\n",
    "    \"two\": -2\n",
    "}\n",
    "print(my_dict)"
   ]
  },
  {
   "cell_type": "code",
   "execution_count": 67,
   "id": "2b8d8570",
   "metadata": {},
   "outputs": [
    {
     "name": "stdout",
     "output_type": "stream",
     "text": [
      "{'one': 1, 'two': -2, 'three': 3}\n"
     ]
    }
   ],
   "source": [
    "my_dict[\"three\"] = 3\n",
    "print(my_dict)"
   ]
  },
  {
   "cell_type": "code",
   "execution_count": 68,
   "id": "e6c2b6db",
   "metadata": {},
   "outputs": [
    {
     "name": "stdout",
     "output_type": "stream",
     "text": [
      "{'one': 1, 'two': 2, 'three': 3}\n"
     ]
    }
   ],
   "source": [
    "my_dict[\"two\"] = 2\n",
    "print(my_dict)"
   ]
  },
  {
   "cell_type": "code",
   "execution_count": 69,
   "id": "c2806e7b",
   "metadata": {},
   "outputs": [
    {
     "name": "stdout",
     "output_type": "stream",
     "text": [
      "True\n"
     ]
    }
   ],
   "source": [
    "print(\"one\" in my_dict)"
   ]
  },
  {
   "cell_type": "code",
   "execution_count": 70,
   "id": "16a23a7b",
   "metadata": {},
   "outputs": [
    {
     "name": "stdout",
     "output_type": "stream",
     "text": [
      "1\n"
     ]
    }
   ],
   "source": [
    "print(my_dict[\"one\"])"
   ]
  },
  {
   "cell_type": "code",
   "execution_count": 71,
   "id": "23f438a0",
   "metadata": {},
   "outputs": [
    {
     "ename": "KeyError",
     "evalue": "'zero'",
     "output_type": "error",
     "traceback": [
      "\u001b[1;31m---------------------------------------------------------------------------\u001b[0m",
      "\u001b[1;31mKeyError\u001b[0m                                  Traceback (most recent call last)",
      "Input \u001b[1;32mIn [71]\u001b[0m, in \u001b[0;36m<cell line: 1>\u001b[1;34m()\u001b[0m\n\u001b[1;32m----> 1\u001b[0m \u001b[38;5;28mprint\u001b[39m(\u001b[43mmy_dict\u001b[49m\u001b[43m[\u001b[49m\u001b[38;5;124;43m\"\u001b[39;49m\u001b[38;5;124;43mzero\u001b[39;49m\u001b[38;5;124;43m\"\u001b[39;49m\u001b[43m]\u001b[49m)\n",
      "\u001b[1;31mKeyError\u001b[0m: 'zero'"
     ]
    }
   ],
   "source": [
    "print(my_dict[\"zero\"])"
   ]
  },
  {
   "cell_type": "code",
   "execution_count": 72,
   "id": "b8120041",
   "metadata": {},
   "outputs": [
    {
     "name": "stdout",
     "output_type": "stream",
     "text": [
      "None\n",
      "-1\n"
     ]
    }
   ],
   "source": [
    "print(my_dict.get(\"zero\"))\n",
    "print(my_dict.get(\"zero\", -1))"
   ]
  },
  {
   "cell_type": "code",
   "execution_count": 73,
   "id": "fdca2d7c",
   "metadata": {},
   "outputs": [
    {
     "name": "stdout",
     "output_type": "stream",
     "text": [
      "{'AB': ['KE', 'Ba', 'BB']}\n"
     ]
    }
   ],
   "source": [
    "dct = {\n",
    "    \"AB\": [\"KE\", \"Ba\"]\n",
    "}\n",
    "dct[\"AB\"].append(\"BB\")\n",
    "print(dct)"
   ]
  },
  {
   "cell_type": "code",
   "execution_count": 74,
   "id": "f22346e1",
   "metadata": {},
   "outputs": [
    {
     "name": "stdout",
     "output_type": "stream",
     "text": [
      "one\n",
      "two\n",
      "three\n"
     ]
    }
   ],
   "source": [
    "for x in my_dict:\n",
    "    print(x)"
   ]
  },
  {
   "cell_type": "code",
   "execution_count": 75,
   "id": "48d51fa7",
   "metadata": {},
   "outputs": [
    {
     "name": "stdout",
     "output_type": "stream",
     "text": [
      "one\n",
      "two\n",
      "three\n"
     ]
    }
   ],
   "source": [
    "for key in my_dict.keys():\n",
    "    print(key)"
   ]
  },
  {
   "cell_type": "code",
   "execution_count": 76,
   "id": "c37e630b",
   "metadata": {},
   "outputs": [
    {
     "name": "stdout",
     "output_type": "stream",
     "text": [
      "1\n",
      "2\n",
      "3\n"
     ]
    }
   ],
   "source": [
    "for val in my_dict.values():\n",
    "    print(val)"
   ]
  },
  {
   "cell_type": "code",
   "execution_count": 77,
   "id": "3b1a775f",
   "metadata": {},
   "outputs": [
    {
     "name": "stdout",
     "output_type": "stream",
     "text": [
      "one 1\n",
      "two 2\n",
      "three 3\n"
     ]
    }
   ],
   "source": [
    "for key, val in my_dict.items():\n",
    "    print(key, val)"
   ]
  },
  {
   "cell_type": "code",
   "execution_count": 78,
   "id": "38d876fe",
   "metadata": {},
   "outputs": [
    {
     "name": "stdout",
     "output_type": "stream",
     "text": [
      "{'one': 1, 'two': 2, 'three': 3}\n",
      "{'one': 1, 'three': 3}\n"
     ]
    }
   ],
   "source": [
    "print(my_dict)\n",
    "del my_dict[\"two\"]\n",
    "print(my_dict)"
   ]
  },
  {
   "cell_type": "code",
   "execution_count": 79,
   "id": "40518684",
   "metadata": {},
   "outputs": [
    {
     "name": "stdout",
     "output_type": "stream",
     "text": [
      "{'one': 1, 'three': 3, 'four': 4, 'five': 5}\n",
      "3\n",
      "{'one': 1, 'four': 4, 'five': 5}\n"
     ]
    }
   ],
   "source": [
    "my_dict[\"four\"] = 4\n",
    "my_dict[\"five\"] = 5\n",
    "print(my_dict)\n",
    "print(my_dict.pop(\"three\"))\n",
    "print(my_dict)"
   ]
  },
  {
   "cell_type": "code",
   "execution_count": 80,
   "id": "9edbdaa4",
   "metadata": {},
   "outputs": [
    {
     "name": "stdout",
     "output_type": "stream",
     "text": [
      "{'one': 1, 'four': 4, 'five': 5}\n",
      "-1\n",
      "{'one': 1, 'four': 4, 'five': 5}\n"
     ]
    }
   ],
   "source": [
    "print(my_dict)\n",
    "print(my_dict.pop(\"three\", -1))\n",
    "print(my_dict)"
   ]
  },
  {
   "cell_type": "code",
   "execution_count": 81,
   "id": "486201fc",
   "metadata": {},
   "outputs": [
    {
     "name": "stdout",
     "output_type": "stream",
     "text": [
      "{'one': 1, 'four': 4, 'five': 5}\n",
      "{'one': 1, 'four': 4}\n"
     ]
    }
   ],
   "source": [
    "print(my_dict)\n",
    "my_dict.popitem()\n",
    "print(my_dict)"
   ]
  },
  {
   "cell_type": "code",
   "execution_count": 82,
   "id": "058bb3fc",
   "metadata": {},
   "outputs": [
    {
     "name": "stdout",
     "output_type": "stream",
     "text": [
      "{'one': 1, 'four': 4}\n",
      "{}\n"
     ]
    }
   ],
   "source": [
    "print(my_dict)\n",
    "my_dict.clear()\n",
    "print(my_dict)"
   ]
  },
  {
   "cell_type": "code",
   "execution_count": 83,
   "id": "89576d32",
   "metadata": {},
   "outputs": [
    {
     "ename": "NameError",
     "evalue": "name 'my_dict' is not defined",
     "output_type": "error",
     "traceback": [
      "\u001b[1;31m---------------------------------------------------------------------------\u001b[0m",
      "\u001b[1;31mNameError\u001b[0m                                 Traceback (most recent call last)",
      "Input \u001b[1;32mIn [83]\u001b[0m, in \u001b[0;36m<cell line: 2>\u001b[1;34m()\u001b[0m\n\u001b[0;32m      1\u001b[0m \u001b[38;5;28;01mdel\u001b[39;00m my_dict\n\u001b[1;32m----> 2\u001b[0m \u001b[38;5;28mprint\u001b[39m(\u001b[43mmy_dict\u001b[49m)\n",
      "\u001b[1;31mNameError\u001b[0m: name 'my_dict' is not defined"
     ]
    }
   ],
   "source": [
    "del my_dict\n",
    "print(my_dict)"
   ]
  }
 ],
 "metadata": {
  "kernelspec": {
   "display_name": "Python 3 (ipykernel)",
   "language": "python",
   "name": "python3"
  },
  "language_info": {
   "codemirror_mode": {
    "name": "ipython",
    "version": 3
   },
   "file_extension": ".py",
   "mimetype": "text/x-python",
   "name": "python",
   "nbconvert_exporter": "python",
   "pygments_lexer": "ipython3",
   "version": "3.9.12"
  }
 },
 "nbformat": 4,
 "nbformat_minor": 5
}
