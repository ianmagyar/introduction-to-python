{
 "cells": [
  {
   "cell_type": "code",
   "execution_count": null,
   "id": "17ab2604",
   "metadata": {},
   "outputs": [],
   "source": [
    "s1 = \"Hello World!\"\n",
    "print(s1)"
   ]
  },
  {
   "cell_type": "code",
   "execution_count": null,
   "id": "9f9114d2",
   "metadata": {},
   "outputs": [],
   "source": [
    "s2 = 'Hello World!'\n",
    "print(s2)"
   ]
  },
  {
   "cell_type": "code",
   "execution_count": null,
   "id": "9aaabd82",
   "metadata": {},
   "outputs": [],
   "source": [
    "s_multi = \"\"\"Hello \\\n",
    "World!\"\"\"\n",
    "print(s_multi)"
   ]
  },
  {
   "cell_type": "code",
   "execution_count": null,
   "id": "e779cdef-25b5-4928-ab10-304bf8796048",
   "metadata": {},
   "outputs": [],
   "source": [
    "s_multi2 = (\"Hello\"\n",
    "            \" World\")\n",
    "print(s_multi2)"
   ]
  },
  {
   "cell_type": "code",
   "execution_count": null,
   "id": "ec2d96d9",
   "metadata": {},
   "outputs": [],
   "source": [
    "print(str(5))"
   ]
  },
  {
   "cell_type": "code",
   "execution_count": null,
   "id": "ed0881ec",
   "metadata": {},
   "outputs": [],
   "source": [
    "g = \"Hello\"\n",
    "h = g\n",
    "g += \" World!\"\n",
    "print(h)\n",
    "print(g)"
   ]
  },
  {
   "cell_type": "code",
   "execution_count": null,
   "id": "2bbfd7b9",
   "metadata": {},
   "outputs": [],
   "source": [
    "nonlat = '字'\n",
    "b = nonlat.encode()\n",
    "print(b)\n",
    "print(b.decode())"
   ]
  },
  {
   "cell_type": "code",
   "execution_count": null,
   "id": "929fb3f1",
   "metadata": {},
   "outputs": [],
   "source": [
    "add = \"Hello\"\n",
    "print(add)\n",
    "add += \" World!\"\n",
    "print(add)"
   ]
  },
  {
   "cell_type": "code",
   "execution_count": null,
   "id": "06bd89a1",
   "metadata": {},
   "outputs": [],
   "source": [
    "concat1 = \"Hello\" + \" World!\"\n",
    "print(concat1)\n",
    "concat2 = \"Hello\" \" World!\"\n",
    "print(concat2)"
   ]
  },
  {
   "cell_type": "code",
   "execution_count": null,
   "id": "d0183d65",
   "metadata": {},
   "outputs": [],
   "source": [
    "joined = ','.join([\"Hello\", \"World!\", \"bla\", \"bla\"])\n",
    "print(joined)"
   ]
  },
  {
   "cell_type": "code",
   "execution_count": null,
   "id": "763c03e7",
   "metadata": {},
   "outputs": [],
   "source": [
    "test = \"Hello World!\"\n",
    "print(test[0])\n",
    "print(test[-1])"
   ]
  },
  {
   "cell_type": "code",
   "execution_count": null,
   "id": "7ea4fb86",
   "metadata": {},
   "outputs": [],
   "source": [
    "print(test[2:7])\n",
    "print(test[:7])\n",
    "print(test[2:])\n",
    "print(test[2:-3])\n",
    "print(test[:])\n",
    "print(test[2:7:2])"
   ]
  },
  {
   "cell_type": "code",
   "execution_count": null,
   "id": "7bbc45e1",
   "metadata": {},
   "outputs": [],
   "source": [
    "print(len(test))"
   ]
  },
  {
   "cell_type": "code",
   "execution_count": null,
   "id": "85a90319",
   "metadata": {},
   "outputs": [],
   "source": [
    "print(test.find(\"l\", 5, 10))\n",
    "print(test.rfind(\"l\"))"
   ]
  },
  {
   "cell_type": "code",
   "execution_count": null,
   "id": "39a9c75c",
   "metadata": {},
   "outputs": [],
   "source": [
    "print(test.index(\"a\"))\n",
    "print(test.rindex(\"a\"))"
   ]
  },
  {
   "cell_type": "code",
   "execution_count": null,
   "id": "19f161f8",
   "metadata": {},
   "outputs": [],
   "source": [
    "print(test.count(\"l\", 3, 9))"
   ]
  },
  {
   "cell_type": "code",
   "execution_count": null,
   "id": "37d662b7",
   "metadata": {},
   "outputs": [],
   "source": [
    "print(test.split(\"ell\"))\n",
    "print(test.partition(\" \"))"
   ]
  },
  {
   "cell_type": "code",
   "execution_count": null,
   "id": "4069e5bb",
   "metadata": {},
   "outputs": [],
   "source": [
    "print(test)\n",
    "print(test.replace(\"l\", \"L\"))\n",
    "print(test)"
   ]
  },
  {
   "cell_type": "code",
   "execution_count": null,
   "id": "924d99b3",
   "metadata": {},
   "outputs": [],
   "source": [
    "table = test.maketrans({\"l\": \"L\", \"W\": \"w\"})\n",
    "print(test.translate(table))\n",
    "\n",
    "table = test.maketrans(\"lW\", \"Lw\", \"!\")\n",
    "print(test.translate(table))"
   ]
  },
  {
   "cell_type": "code",
   "execution_count": null,
   "id": "41232607",
   "metadata": {},
   "outputs": [],
   "source": [
    "long_title = \"the lord of the Rings\"\n",
    "print(long_title.capitalize())\n",
    "print(long_title.title())\n",
    "print(long_title.upper())\n",
    "print(long_title.lower())\n",
    "print(long_title.casefold())"
   ]
  },
  {
   "cell_type": "code",
   "execution_count": null,
   "id": "f585d7df",
   "metadata": {},
   "outputs": [],
   "source": [
    "print(long_title)\n",
    "print(long_title.endswith(\"gs\"))\n",
    "print(long_title.startswith((\"The\", \"the\")))"
   ]
  },
  {
   "cell_type": "code",
   "execution_count": null,
   "id": "a0e6887a",
   "metadata": {},
   "outputs": [],
   "source": [
    "print(\"Test {}\".format(\"string\"))\n",
    "print(\"{} {}\".format(\"Test\", \"string\"))\n",
    "print(\"Test {0}\".format(\"string\"))\n",
    "print(\"Hey {name}\".format(name=\"Jude\"))\n",
    "\n",
    "mylist = [1, 2, 3, 4, 5]\n",
    "print(\"List head: {lst[0]}\".format(lst=mylist))"
   ]
  },
  {
   "cell_type": "code",
   "execution_count": null,
   "id": "17bdee71",
   "metadata": {},
   "outputs": [],
   "source": [
    "print(\"Test {!s}\".format(\"Kitzbühel\"))\n",
    "print(\"Test {!r}\".format(\"Kitzbühel\"))\n",
    "print(\"Test {!a}\".format(\"Kitzbühel\"))"
   ]
  },
  {
   "cell_type": "code",
   "execution_count": null,
   "id": "63e5cf18",
   "metadata": {},
   "outputs": [],
   "source": [
    "print(\"{:<30}\".format('left aligned'))\n",
    "print(\"{:>30}\".format('right aligned'))\n",
    "print(\"{:^30}\".format('center aligned'))\n",
    "print(\"{:-^30}\".format('center with fill char'))"
   ]
  },
  {
   "cell_type": "code",
   "execution_count": null,
   "id": "bba35ec8",
   "metadata": {},
   "outputs": [],
   "source": [
    "print(\"Show always: {:+f}; {:+f}\".format(19.09, -19.09))\n",
    "print(\"Show space for positives: {: f}; {: f}\".format(19.09, -19.09))\n",
    "print(\"Show only minus: {:-f}; {:-f}\".format(19.09, -19.09))\n",
    "print(\"Show only minus: {:f}; {:f}\".format(19.09, -19.09))"
   ]
  },
  {
   "cell_type": "code",
   "execution_count": null,
   "id": "b931e23f",
   "metadata": {},
   "outputs": [],
   "source": [
    "print(\"int: {0:d}, hex: {0:x}, oct: {0:o}, bin: {0:b}\".format(42))\n",
    "print(\"Add separator: {:,}\".format(21081968))\n",
    "print(\"Round float numbers: {0:.2f}\".format(19.9499999999999))\n",
    "print(\"Percentage: {:.3%}\".format(5/47))"
   ]
  },
  {
   "cell_type": "code",
   "execution_count": null,
   "id": "338a7ed2",
   "metadata": {},
   "outputs": [],
   "source": [
    "person_dict = {\n",
    "    \"name\": \"Roman\",\n",
    "    \"age\": 32\n",
    "}\n",
    "print(\"{name} is {age} years old\".format(**person_dict))"
   ]
  },
  {
   "cell_type": "code",
   "execution_count": null,
   "id": "df2eba3a",
   "metadata": {},
   "outputs": [],
   "source": [
    "test = \"Hello\"\n",
    "test[0] = \"h\""
   ]
  },
  {
   "cell_type": "code",
   "execution_count": null,
   "id": "e3cbff56",
   "metadata": {},
   "outputs": [],
   "source": [
    "lst = [1, 2, 3]\n",
    "print(lst)\n",
    "lst = []\n",
    "print(lst)\n",
    "lst = list()\n",
    "print(lst)"
   ]
  },
  {
   "cell_type": "code",
   "execution_count": null,
   "id": "2421fae4",
   "metadata": {},
   "outputs": [],
   "source": [
    "lst = [1, 2, 3]\n",
    "print(lst)\n",
    "lst[0] = \"a\"\n",
    "print(lst)\n",
    "lst[1:3] = [\"b\", \"c\"]\n",
    "print(lst)"
   ]
  },
  {
   "cell_type": "code",
   "execution_count": null,
   "id": "a4cb7bf2",
   "metadata": {},
   "outputs": [],
   "source": [
    "lst = [\"abc\", 'b']\n",
    "print(lst[0][1])"
   ]
  },
  {
   "cell_type": "code",
   "execution_count": null,
   "id": "49e30952",
   "metadata": {},
   "outputs": [],
   "source": [
    "lst = ['a', 'b', 'c']\n",
    "for element in lst:\n",
    "    print(element)"
   ]
  },
  {
   "cell_type": "code",
   "execution_count": null,
   "id": "51ed8903",
   "metadata": {},
   "outputs": [],
   "source": [
    "for idx, element in enumerate(lst, start=1):\n",
    "    print(idx, element)"
   ]
  },
  {
   "cell_type": "code",
   "execution_count": null,
   "id": "7d423b58",
   "metadata": {},
   "outputs": [],
   "source": [
    "lst1 = [1, 2, 3, 4, 5]\n",
    "lst2 = ['a', 'b', 'c', 'd', 'e']\n",
    "\n",
    "for num, let in zip(lst1, lst2):\n",
    "    print(num, let)"
   ]
  },
  {
   "cell_type": "code",
   "execution_count": null,
   "id": "5cf2d66b",
   "metadata": {},
   "outputs": [],
   "source": [
    "print(3 in lst1)\n",
    "print(33 in lst1)\n",
    "print(3 not in lst1)\n",
    "print(33 not in lst1)\n",
    "print(not 3 in lst1)\n",
    "print(not 33 in lst1)"
   ]
  },
  {
   "cell_type": "code",
   "execution_count": null,
   "id": "993a0a4b",
   "metadata": {},
   "outputs": [],
   "source": [
    "print('a' in lst1 + lst2)"
   ]
  },
  {
   "cell_type": "code",
   "execution_count": null,
   "id": "9f340964",
   "metadata": {},
   "outputs": [],
   "source": [
    "print(lst1.index(4))"
   ]
  },
  {
   "cell_type": "code",
   "execution_count": null,
   "id": "70cfda37",
   "metadata": {},
   "outputs": [],
   "source": [
    "print(len(lst1))"
   ]
  },
  {
   "cell_type": "code",
   "execution_count": null,
   "id": "1c34d998",
   "metadata": {},
   "outputs": [],
   "source": [
    "print(lst1.reverse())\n",
    "print(lst1)"
   ]
  },
  {
   "cell_type": "code",
   "execution_count": null,
   "id": "c783be5b",
   "metadata": {},
   "outputs": [],
   "source": [
    "print(lst1)\n",
    "lst1.append(0)\n",
    "print(lst1)"
   ]
  },
  {
   "cell_type": "code",
   "execution_count": null,
   "id": "db4f5c30",
   "metadata": {},
   "outputs": [],
   "source": [
    "print(lst1)\n",
    "lst1.insert(2, 4)\n",
    "print(lst1)\n",
    "lst1.insert(2, 6)\n",
    "print(lst1)"
   ]
  },
  {
   "cell_type": "code",
   "execution_count": null,
   "id": "3d48cec7",
   "metadata": {},
   "outputs": [],
   "source": [
    "mega_list = lst1 + lst2\n",
    "print(mega_list)"
   ]
  },
  {
   "cell_type": "code",
   "execution_count": null,
   "id": "8a1f1d86",
   "metadata": {},
   "outputs": [],
   "source": [
    "print(mega_list)\n",
    "mega_list.extend(['f', 'g', 'h'])\n",
    "print(mega_list)"
   ]
  },
  {
   "cell_type": "code",
   "execution_count": null,
   "id": "6f58dda0",
   "metadata": {},
   "outputs": [],
   "source": [
    "print(mega_list)\n",
    "mega_list.remove(4)\n",
    "print(mega_list)"
   ]
  },
  {
   "cell_type": "code",
   "execution_count": null,
   "id": "6c8866d1",
   "metadata": {},
   "outputs": [],
   "source": [
    "print(mega_list)\n",
    "mega_list.pop(4)\n",
    "print(mega_list)"
   ]
  },
  {
   "cell_type": "code",
   "execution_count": null,
   "id": "567ad9af",
   "metadata": {},
   "outputs": [],
   "source": [
    "print(mega_list)\n",
    "del mega_list[6]\n",
    "print(mega_list)"
   ]
  },
  {
   "cell_type": "code",
   "execution_count": null,
   "id": "28df550a",
   "metadata": {},
   "outputs": [],
   "source": [
    "print(mega_list)\n",
    "mega_list.clear()\n",
    "print(mega_list)"
   ]
  },
  {
   "cell_type": "code",
   "execution_count": null,
   "id": "43b7c180",
   "metadata": {},
   "outputs": [],
   "source": [
    "print(lst1)\n",
    "del lst1[:]\n",
    "print(lst1)"
   ]
  },
  {
   "cell_type": "code",
   "execution_count": null,
   "id": "df56c383",
   "metadata": {},
   "outputs": [],
   "source": [
    "del lst1\n",
    "print(lst1)"
   ]
  },
  {
   "cell_type": "code",
   "execution_count": null,
   "id": "89c02de6",
   "metadata": {},
   "outputs": [],
   "source": [
    "unsorted = [8, 2, 9, 4, 3, 7, 5.4, 2.1, 0.3, 9, 0.5, 63]\n",
    "print(unsorted)\n",
    "unsorted.sort()\n",
    "print(unsorted)"
   ]
  },
  {
   "cell_type": "code",
   "execution_count": null,
   "id": "957ecd5c",
   "metadata": {},
   "outputs": [],
   "source": [
    "x = 5\n",
    "y = x\n",
    "x = 6\n",
    "\n",
    "print(\"x={}, y={}\".format(x, y))"
   ]
  },
  {
   "cell_type": "code",
   "execution_count": null,
   "id": "98bb253e",
   "metadata": {},
   "outputs": [],
   "source": [
    "lst1 = ['a', 'b', 'c']\n",
    "lst2 = lst1\n",
    "lst1.append('d')\n",
    "\n",
    "print(lst1)\n",
    "print(lst2)"
   ]
  },
  {
   "cell_type": "code",
   "execution_count": null,
   "id": "e8d285ca",
   "metadata": {},
   "outputs": [],
   "source": [
    "lst1 = ['a', 'b', 'c']\n",
    "lst2 = lst1\n",
    "lst1 = [1, 2, 3]\n",
    "\n",
    "print(lst1)\n",
    "print(lst2)"
   ]
  },
  {
   "cell_type": "code",
   "execution_count": null,
   "id": "b1b1b6a0",
   "metadata": {},
   "outputs": [],
   "source": [
    "lst1 = ['a', 'b', 'c']\n",
    "lst2 = lst1.copy()\n",
    "lst1.append('d')\n",
    "\n",
    "print(lst1)\n",
    "print(lst2)"
   ]
  },
  {
   "cell_type": "code",
   "execution_count": null,
   "id": "902e940d",
   "metadata": {},
   "outputs": [],
   "source": [
    "lst = []\n",
    "for num in range(1, 11):\n",
    "    lst.append(num ** 3)\n",
    "\n",
    "print(lst)"
   ]
  },
  {
   "cell_type": "code",
   "execution_count": null,
   "id": "be2d51e9",
   "metadata": {},
   "outputs": [],
   "source": [
    "lst = [num ** 3 for num in range(1, 11)]\n",
    "print(lst)"
   ]
  },
  {
   "cell_type": "code",
   "execution_count": null,
   "id": "4e7daf2b",
   "metadata": {},
   "outputs": [],
   "source": [
    "lst = [num for num in range(101) if num % 2 == 0]\n",
    "print(lst)"
   ]
  },
  {
   "cell_type": "code",
   "execution_count": null,
   "id": "a66ab067",
   "metadata": {},
   "outputs": [],
   "source": [
    "lst = [str.upper(c) for c in \"Always look on the bright side of life\"\n",
    "       if str.lower(c) in ['a', 'e', 'i', 'o', 'u']]\n",
    "print(lst)"
   ]
  },
  {
   "cell_type": "code",
   "execution_count": null,
   "id": "9cbf11b9",
   "metadata": {},
   "outputs": [],
   "source": [
    "matrix = [\n",
    "    [1, 2, 3],\n",
    "    [4, 5, 6]\n",
    "]\n",
    "\n",
    "i_matrix = [[row[i] for row in matrix]\n",
    "            for i in range(len(matrix[0]))]\n",
    "print(i_matrix)"
   ]
  },
  {
   "cell_type": "code",
   "execution_count": null,
   "id": "0ce36498",
   "metadata": {},
   "outputs": [],
   "source": [
    "sample_tuple = (1, 2, 3)\n",
    "print(sample_tuple)"
   ]
  },
  {
   "cell_type": "code",
   "execution_count": null,
   "id": "db4edfc3",
   "metadata": {},
   "outputs": [],
   "source": [
    "sample_tuple = 1\n",
    "print(sample_tuple)\n",
    "print(type(sample_tuple))"
   ]
  },
  {
   "cell_type": "code",
   "execution_count": null,
   "id": "dcecf022",
   "metadata": {},
   "outputs": [],
   "source": [
    "sample_tuple = 1,\n",
    "print(sample_tuple)\n",
    "print(type(sample_tuple))"
   ]
  },
  {
   "cell_type": "code",
   "execution_count": null,
   "id": "eee13812",
   "metadata": {},
   "outputs": [],
   "source": [
    "empty_tuple = tuple()\n",
    "print(empty_tuple)"
   ]
  },
  {
   "cell_type": "code",
   "execution_count": null,
   "id": "9f10e197",
   "metadata": {},
   "outputs": [],
   "source": [
    "my_dict = {}\n",
    "print(my_dict)"
   ]
  },
  {
   "cell_type": "code",
   "execution_count": null,
   "id": "d7e476b6",
   "metadata": {},
   "outputs": [],
   "source": [
    "my_dict = {\n",
    "    \"one\": 1,\n",
    "    \"two\": -2\n",
    "}\n",
    "print(my_dict)"
   ]
  },
  {
   "cell_type": "code",
   "execution_count": null,
   "id": "2b8d8570",
   "metadata": {},
   "outputs": [],
   "source": [
    "my_dict[\"three\"] = 3\n",
    "print(my_dict)"
   ]
  },
  {
   "cell_type": "code",
   "execution_count": null,
   "id": "e6c2b6db",
   "metadata": {},
   "outputs": [],
   "source": [
    "my_dict[\"two\"] = 2\n",
    "print(my_dict)"
   ]
  },
  {
   "cell_type": "code",
   "execution_count": null,
   "id": "c2806e7b",
   "metadata": {},
   "outputs": [],
   "source": [
    "print(\"one\" in my_dict)"
   ]
  },
  {
   "cell_type": "code",
   "execution_count": null,
   "id": "16a23a7b",
   "metadata": {},
   "outputs": [],
   "source": [
    "print(my_dict[\"one\"])"
   ]
  },
  {
   "cell_type": "code",
   "execution_count": null,
   "id": "23f438a0",
   "metadata": {},
   "outputs": [],
   "source": [
    "print(my_dict[\"zero\"])"
   ]
  },
  {
   "cell_type": "code",
   "execution_count": null,
   "id": "b8120041",
   "metadata": {},
   "outputs": [],
   "source": [
    "print(my_dict.get(\"zero\"))\n",
    "print(my_dict.get(\"zero\", -1))"
   ]
  },
  {
   "cell_type": "code",
   "execution_count": null,
   "id": "fdca2d7c",
   "metadata": {},
   "outputs": [],
   "source": [
    "dct = {\n",
    "    \"AB\": [\"KE\", \"Ba\"]\n",
    "}\n",
    "dct[\"AB\"].append(\"BB\")\n",
    "print(dct)"
   ]
  },
  {
   "cell_type": "code",
   "execution_count": null,
   "id": "f22346e1",
   "metadata": {},
   "outputs": [],
   "source": [
    "for x in my_dict:\n",
    "    print(x)"
   ]
  },
  {
   "cell_type": "code",
   "execution_count": null,
   "id": "48d51fa7",
   "metadata": {},
   "outputs": [],
   "source": [
    "for key in my_dict.keys():\n",
    "    print(key)"
   ]
  },
  {
   "cell_type": "code",
   "execution_count": null,
   "id": "c37e630b",
   "metadata": {},
   "outputs": [],
   "source": [
    "for val in my_dict.values():\n",
    "    print(val)"
   ]
  },
  {
   "cell_type": "code",
   "execution_count": null,
   "id": "3b1a775f",
   "metadata": {},
   "outputs": [],
   "source": [
    "for key, val in my_dict.items():\n",
    "    print(key, val)"
   ]
  },
  {
   "cell_type": "code",
   "execution_count": null,
   "id": "38d876fe",
   "metadata": {},
   "outputs": [],
   "source": [
    "print(my_dict)\n",
    "del my_dict[\"two\"]\n",
    "print(my_dict)"
   ]
  },
  {
   "cell_type": "code",
   "execution_count": null,
   "id": "40518684",
   "metadata": {},
   "outputs": [],
   "source": [
    "my_dict[\"four\"] = 4\n",
    "my_dict[\"five\"] = 5\n",
    "print(my_dict)\n",
    "print(my_dict.pop(\"three\"))\n",
    "print(my_dict)"
   ]
  },
  {
   "cell_type": "code",
   "execution_count": null,
   "id": "9edbdaa4",
   "metadata": {},
   "outputs": [],
   "source": [
    "print(my_dict)\n",
    "print(my_dict.pop(\"three\", -1))\n",
    "print(my_dict)"
   ]
  },
  {
   "cell_type": "code",
   "execution_count": null,
   "id": "486201fc",
   "metadata": {},
   "outputs": [],
   "source": [
    "print(my_dict)\n",
    "my_dict.popitem()\n",
    "print(my_dict)"
   ]
  },
  {
   "cell_type": "code",
   "execution_count": null,
   "id": "058bb3fc",
   "metadata": {},
   "outputs": [],
   "source": [
    "print(my_dict)\n",
    "my_dict.clear()\n",
    "print(my_dict)"
   ]
  },
  {
   "cell_type": "code",
   "execution_count": null,
   "id": "89576d32",
   "metadata": {},
   "outputs": [],
   "source": [
    "del my_dict\n",
    "print(my_dict)"
   ]
  },
  {
   "cell_type": "code",
   "execution_count": null,
   "id": "3f5eb75c",
   "metadata": {},
   "outputs": [],
   "source": []
  }
 ],
 "metadata": {
  "kernelspec": {
   "display_name": "Python 3 (ipykernel)",
   "language": "python",
   "name": "python3"
  },
  "language_info": {
   "codemirror_mode": {
    "name": "ipython",
    "version": 3
   },
   "file_extension": ".py",
   "mimetype": "text/x-python",
   "name": "python",
   "nbconvert_exporter": "python",
   "pygments_lexer": "ipython3",
   "version": "3.12.7"
  }
 },
 "nbformat": 4,
 "nbformat_minor": 5
}
