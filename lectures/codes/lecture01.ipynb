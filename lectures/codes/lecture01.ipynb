{
 "cells": [
  {
   "cell_type": "markdown",
   "id": "9d6ee19a",
   "metadata": {},
   "source": [
    "# 1. Premenné a ich typy"
   ]
  },
  {
   "cell_type": "code",
   "execution_count": null,
   "id": "79cc9171",
   "metadata": {},
   "outputs": [],
   "source": [
    "number = 5"
   ]
  },
  {
   "cell_type": "code",
   "execution_count": null,
   "id": "8c7da64c",
   "metadata": {},
   "outputs": [],
   "source": [
    "print(number)"
   ]
  },
  {
   "cell_type": "code",
   "execution_count": null,
   "id": "6d3c0a59",
   "metadata": {},
   "outputs": [],
   "source": [
    "type(number)"
   ]
  },
  {
   "cell_type": "code",
   "execution_count": null,
   "id": "ed26cfe5",
   "metadata": {},
   "outputs": [],
   "source": [
    "type(number) == int"
   ]
  },
  {
   "cell_type": "code",
   "execution_count": null,
   "id": "e6f3b5b4",
   "metadata": {},
   "outputs": [],
   "source": [
    "isinstance(number, int)"
   ]
  },
  {
   "cell_type": "code",
   "execution_count": null,
   "id": "61295195",
   "metadata": {},
   "outputs": [],
   "source": [
    "number = 4.3"
   ]
  },
  {
   "cell_type": "code",
   "execution_count": null,
   "id": "4e9362b0",
   "metadata": {},
   "outputs": [],
   "source": [
    "type(number)"
   ]
  },
  {
   "cell_type": "code",
   "execution_count": null,
   "id": "6ae041f7",
   "metadata": {},
   "outputs": [],
   "source": [
    "number = \"abc\"\n",
    "type(number)"
   ]
  },
  {
   "cell_type": "code",
   "execution_count": null,
   "id": "fd763fe0",
   "metadata": {},
   "outputs": [],
   "source": [
    "number = 'abc'\n",
    "type(number)"
   ]
  },
  {
   "cell_type": "markdown",
   "id": "9bab92a2",
   "metadata": {},
   "source": [
    "# 2. Operátory"
   ]
  },
  {
   "cell_type": "markdown",
   "id": "c4902b83",
   "metadata": {},
   "source": [
    "## 2.1. Sčítavanie"
   ]
  },
  {
   "cell_type": "code",
   "execution_count": null,
   "id": "c0d917e9",
   "metadata": {},
   "outputs": [],
   "source": [
    "3 + 4"
   ]
  },
  {
   "cell_type": "code",
   "execution_count": null,
   "id": "e6cf550b",
   "metadata": {},
   "outputs": [],
   "source": [
    "4 + 2.3"
   ]
  },
  {
   "cell_type": "code",
   "execution_count": null,
   "id": "3a241924",
   "metadata": {},
   "outputs": [],
   "source": [
    "\"abc\" + \"def\""
   ]
  },
  {
   "cell_type": "code",
   "execution_count": null,
   "id": "ba9cf549",
   "metadata": {},
   "outputs": [],
   "source": [
    "[0, 1, 2] + [3, 4, 5]"
   ]
  },
  {
   "cell_type": "code",
   "execution_count": null,
   "id": "ee43b18e",
   "metadata": {},
   "outputs": [],
   "source": [
    "(1, \"ab\") + (4.2, True)"
   ]
  },
  {
   "cell_type": "code",
   "execution_count": null,
   "id": "50ad93bd",
   "metadata": {},
   "outputs": [],
   "source": [
    "print(\"True + True =\", True + True)\n",
    "print(\"True + False =\", True + False)\n",
    "print(\"False + False =\", False + False)"
   ]
  },
  {
   "cell_type": "markdown",
   "id": "af2be992",
   "metadata": {},
   "source": [
    "## 2.2. Odčítavanie"
   ]
  },
  {
   "cell_type": "code",
   "execution_count": null,
   "id": "71b9c57e",
   "metadata": {},
   "outputs": [],
   "source": [
    "8 - 3"
   ]
  },
  {
   "cell_type": "code",
   "execution_count": null,
   "id": "770cfb34",
   "metadata": {},
   "outputs": [],
   "source": [
    "8.2 - 1.7"
   ]
  },
  {
   "cell_type": "code",
   "execution_count": null,
   "id": "b25bfffb",
   "metadata": {},
   "outputs": [],
   "source": [
    "print(\"True - True =\", True - True)\n",
    "print(\"True - False =\", True - False)\n",
    "print(\"False - False =\", False - False)\n",
    "print(\"False - True =\", False - True)"
   ]
  },
  {
   "cell_type": "markdown",
   "id": "3e90b1a0",
   "metadata": {},
   "source": [
    "## 2.3. Násobenie"
   ]
  },
  {
   "cell_type": "code",
   "execution_count": null,
   "id": "92e57d9b",
   "metadata": {},
   "outputs": [],
   "source": [
    "3 * 3"
   ]
  },
  {
   "cell_type": "code",
   "execution_count": null,
   "id": "48ae4971",
   "metadata": {},
   "outputs": [],
   "source": [
    "13 * \"ab\""
   ]
  },
  {
   "cell_type": "code",
   "execution_count": null,
   "id": "76484992",
   "metadata": {},
   "outputs": [],
   "source": [
    "3 * [1, 2]"
   ]
  },
  {
   "cell_type": "code",
   "execution_count": null,
   "id": "4555c372",
   "metadata": {},
   "outputs": [],
   "source": [
    "3 * (1, \"abc\")"
   ]
  },
  {
   "cell_type": "code",
   "execution_count": null,
   "id": "2a5e141e",
   "metadata": {},
   "outputs": [],
   "source": [
    "print(\"3 * True =\", 3 * True)\n",
    "print(\"3 * False =\", 3 * False)"
   ]
  },
  {
   "cell_type": "markdown",
   "id": "aa5cbc38",
   "metadata": {},
   "source": [
    "## 2.4. Delenie"
   ]
  },
  {
   "cell_type": "code",
   "execution_count": null,
   "id": "c946056b",
   "metadata": {},
   "outputs": [],
   "source": [
    "8 / 2"
   ]
  },
  {
   "cell_type": "code",
   "execution_count": null,
   "id": "ce74f8d8",
   "metadata": {},
   "outputs": [],
   "source": [
    "7 // 3"
   ]
  },
  {
   "cell_type": "code",
   "execution_count": null,
   "id": "80c6db8c",
   "metadata": {},
   "outputs": [],
   "source": [
    "7 % 2"
   ]
  },
  {
   "cell_type": "code",
   "execution_count": null,
   "id": "288a9bb2",
   "metadata": {},
   "outputs": [],
   "source": [
    "8 / True"
   ]
  },
  {
   "cell_type": "code",
   "execution_count": null,
   "id": "f4420a00",
   "metadata": {},
   "outputs": [],
   "source": [
    "8 / False"
   ]
  },
  {
   "cell_type": "markdown",
   "id": "0eed31ef",
   "metadata": {},
   "source": [
    "## 2.5. Umocňovanie"
   ]
  },
  {
   "cell_type": "code",
   "execution_count": null,
   "id": "574d2992",
   "metadata": {},
   "outputs": [],
   "source": [
    "2 ** 7"
   ]
  },
  {
   "cell_type": "code",
   "execution_count": null,
   "id": "e862afe4",
   "metadata": {},
   "outputs": [],
   "source": [
    "3.5 ** 2.1"
   ]
  },
  {
   "cell_type": "code",
   "execution_count": null,
   "id": "475ad382",
   "metadata": {},
   "outputs": [],
   "source": [
    "print(\"7 ** True =\", 7 ** True)\n",
    "print(\"7 ** False =\", 7 ** False)"
   ]
  },
  {
   "cell_type": "markdown",
   "id": "ffa42822",
   "metadata": {},
   "source": [
    "## 2.6. Priraďovanie"
   ]
  },
  {
   "cell_type": "code",
   "execution_count": null,
   "id": "50a422e7",
   "metadata": {},
   "outputs": [],
   "source": [
    "x = 5"
   ]
  },
  {
   "cell_type": "code",
   "execution_count": null,
   "id": "55e228bf",
   "metadata": {},
   "outputs": [],
   "source": [
    "# multiple variable definition\n",
    "a, b, c = 0, 2, 3\n",
    "print(a)\n",
    "print(b)\n",
    "print(c)"
   ]
  },
  {
   "cell_type": "code",
   "execution_count": null,
   "id": "45529225",
   "metadata": {},
   "outputs": [],
   "source": [
    "# swapping values\n",
    "a, b = 0, 1\n",
    "print(\"a={}, b={}\".format(a, b))\n",
    "\n",
    "a, b = b, a\n",
    "print(\"a={}, b={}\".format(a, b))"
   ]
  },
  {
   "cell_type": "code",
   "execution_count": null,
   "id": "fe1c8735",
   "metadata": {},
   "outputs": [],
   "source": [
    "(y := 5)"
   ]
  },
  {
   "cell_type": "code",
   "execution_count": null,
   "id": "23253e6d",
   "metadata": {},
   "outputs": [],
   "source": [
    "def f():\n",
    "    return 5\n",
    "\n",
    "def g():\n",
    "    return None\n",
    "\n",
    "def process(x):\n",
    "    print(\"process called with\", x)\n",
    "\n",
    "if (x:=f()):\n",
    "    process(x)\n",
    "\n",
    "if (x:=g()):\n",
    "    process(x)"
   ]
  },
  {
   "cell_type": "code",
   "execution_count": null,
   "id": "b6cc2fcf",
   "metadata": {},
   "outputs": [],
   "source": [
    "def fun():\n",
    "    return 3\n",
    "\n",
    "print([fun(), fun()**2, fun()**3])\n",
    "print([y:=fun(), y**2, y**3])"
   ]
  },
  {
   "cell_type": "markdown",
   "id": "b657dd37",
   "metadata": {},
   "source": [
    "## 2.7. Porovnávanie"
   ]
  },
  {
   "cell_type": "code",
   "execution_count": null,
   "id": "6b46e279",
   "metadata": {},
   "outputs": [],
   "source": [
    "7 / 2 == 3.5"
   ]
  },
  {
   "cell_type": "code",
   "execution_count": null,
   "id": "8cbf132a",
   "metadata": {},
   "outputs": [],
   "source": [
    "0.1 + 0.1 + 0.1 == 0.3"
   ]
  },
  {
   "cell_type": "code",
   "execution_count": null,
   "id": "542f6e30",
   "metadata": {},
   "outputs": [],
   "source": [
    "0.1 + 0.1 + 0.1"
   ]
  },
  {
   "cell_type": "code",
   "execution_count": null,
   "id": "d3353b8c",
   "metadata": {},
   "outputs": [],
   "source": [
    "abs(0.1 + 0.1 + 0.1 - 0.3) < 1e-10"
   ]
  },
  {
   "cell_type": "code",
   "execution_count": null,
   "id": "df3c9eb4",
   "metadata": {},
   "outputs": [],
   "source": [
    "x = -4\n",
    "3 < x < 6"
   ]
  },
  {
   "cell_type": "code",
   "execution_count": null,
   "id": "6c278423",
   "metadata": {},
   "outputs": [],
   "source": [
    "lst = [1, 2, 3]\n",
    "x = -5\n",
    "\n",
    "def foo():\n",
    "    lst.append(4)\n",
    "    return 6\n",
    "\n",
    "print(3 < x < (y:= foo()))\n",
    "print(lst)"
   ]
  },
  {
   "cell_type": "code",
   "execution_count": null,
   "id": "6fd34d8b",
   "metadata": {},
   "outputs": [],
   "source": [
    "print(None == None)\n",
    "print(None is None)"
   ]
  },
  {
   "cell_type": "code",
   "execution_count": null,
   "id": "21afcec4",
   "metadata": {},
   "outputs": [],
   "source": [
    "import numpy as np\n",
    "\n",
    "print(np.NaN == np.NaN)\n",
    "print(np.NaN is np.NaN)"
   ]
  },
  {
   "cell_type": "code",
   "execution_count": null,
   "id": "5085a760",
   "metadata": {},
   "outputs": [],
   "source": [
    "[] == None"
   ]
  },
  {
   "cell_type": "code",
   "execution_count": null,
   "id": "832a9e50",
   "metadata": {},
   "outputs": [],
   "source": [
    "if []:\n",
    "    print(\"abc\")"
   ]
  },
  {
   "cell_type": "markdown",
   "id": "5da1395a",
   "metadata": {},
   "source": [
    "## 2.8. Príslušnosť"
   ]
  },
  {
   "cell_type": "code",
   "execution_count": null,
   "id": "c603aee7",
   "metadata": {},
   "outputs": [],
   "source": [
    "3 in [1, 2, 3, 4, 5]"
   ]
  },
  {
   "cell_type": "markdown",
   "id": "766acc07",
   "metadata": {},
   "source": [
    "# 3. Vetvenie"
   ]
  },
  {
   "cell_type": "code",
   "execution_count": null,
   "id": "63b5e424",
   "metadata": {},
   "outputs": [],
   "source": [
    "number = 5\n",
    "\n",
    "if number % 3 == 1:\n",
    "    print(\"Remainder is 1\")\n",
    "    print(\"body 1\")\n",
    "elif number % 3 == 2:\n",
    "    print(\"Remainder is 2\")\n",
    "    print(\"body 2\")\n",
    "else:\n",
    "    print(\"Remainder is 0\")\n",
    "    print(\"body 3\")\n",
    "print(\"printed always\")"
   ]
  },
  {
   "cell_type": "markdown",
   "id": "1cc69de9",
   "metadata": {},
   "source": [
    "# 4. Iterácie"
   ]
  },
  {
   "cell_type": "code",
   "execution_count": null,
   "id": "08dc448a",
   "metadata": {},
   "outputs": [],
   "source": [
    "x = 1278645384313843513843159864131564646452346746467641534687435764365468964767465467878646\n",
    "digit_sum = x\n",
    "\n",
    "while digit_sum > 9:\n",
    "    digit_sum = 0\n",
    "    while x > 0:\n",
    "        digit_sum += x % 10\n",
    "        x //= 10\n",
    "    \n",
    "    print(\"\\t\", digit_sum)\n",
    "    x = digit_sum\n",
    "\n",
    "print(\"FINAL:\", digit_sum)"
   ]
  },
  {
   "cell_type": "code",
   "execution_count": null,
   "id": "aa769d01",
   "metadata": {},
   "outputs": [],
   "source": [
    "for num in range(10):\n",
    "    print(num)"
   ]
  },
  {
   "cell_type": "code",
   "execution_count": null,
   "id": "b865df00",
   "metadata": {},
   "outputs": [],
   "source": [
    "for num in range(1, 10):\n",
    "    print(num)"
   ]
  },
  {
   "cell_type": "code",
   "execution_count": null,
   "id": "19b1860d",
   "metadata": {},
   "outputs": [],
   "source": [
    "for num in range(1, 10, 2):\n",
    "    print(num)"
   ]
  },
  {
   "cell_type": "code",
   "execution_count": null,
   "id": "f4c234d3",
   "metadata": {},
   "outputs": [],
   "source": [
    "for _ in range(5):\n",
    "    print(\"print this 5 times\")"
   ]
  },
  {
   "cell_type": "code",
   "execution_count": null,
   "id": "01e77513",
   "metadata": {},
   "outputs": [],
   "source": [
    "for elem in (1, 3.4, \"abc\", True):\n",
    "    print(elem)"
   ]
  },
  {
   "cell_type": "code",
   "execution_count": null,
   "id": "dcd9c35c",
   "metadata": {},
   "outputs": [],
   "source": [
    "for elem in [1, 8, 7, 3, 5, 9, 2]:\n",
    "    print(elem)"
   ]
  },
  {
   "cell_type": "code",
   "execution_count": null,
   "id": "5939bd3c",
   "metadata": {},
   "outputs": [],
   "source": [
    "for elem in \"abcdefghij\":\n",
    "    print(elem)"
   ]
  }
 ],
 "metadata": {
  "kernelspec": {
   "display_name": "Python 3 (ipykernel)",
   "language": "python",
   "name": "python3"
  },
  "language_info": {
   "codemirror_mode": {
    "name": "ipython",
    "version": 3
   },
   "file_extension": ".py",
   "mimetype": "text/x-python",
   "name": "python",
   "nbconvert_exporter": "python",
   "pygments_lexer": "ipython3",
   "version": "3.9.12"
  }
 },
 "nbformat": 4,
 "nbformat_minor": 5
}
