{
 "cells": [
  {
   "cell_type": "markdown",
   "id": "9d6ee19a",
   "metadata": {},
   "source": [
    "# 1. Premenné a ich typy"
   ]
  },
  {
   "cell_type": "code",
   "execution_count": 1,
   "id": "79cc9171",
   "metadata": {},
   "outputs": [],
   "source": [
    "number = 5"
   ]
  },
  {
   "cell_type": "code",
   "execution_count": 2,
   "id": "8c7da64c",
   "metadata": {},
   "outputs": [
    {
     "name": "stdout",
     "output_type": "stream",
     "text": [
      "5\n"
     ]
    }
   ],
   "source": [
    "print(number)"
   ]
  },
  {
   "cell_type": "code",
   "execution_count": 3,
   "id": "6d3c0a59",
   "metadata": {},
   "outputs": [
    {
     "data": {
      "text/plain": [
       "int"
      ]
     },
     "execution_count": 3,
     "metadata": {},
     "output_type": "execute_result"
    }
   ],
   "source": [
    "type(number)"
   ]
  },
  {
   "cell_type": "code",
   "execution_count": 4,
   "id": "ed26cfe5",
   "metadata": {},
   "outputs": [
    {
     "data": {
      "text/plain": [
       "True"
      ]
     },
     "execution_count": 4,
     "metadata": {},
     "output_type": "execute_result"
    }
   ],
   "source": [
    "type(number) == int"
   ]
  },
  {
   "cell_type": "code",
   "execution_count": 5,
   "id": "e6f3b5b4",
   "metadata": {},
   "outputs": [
    {
     "data": {
      "text/plain": [
       "True"
      ]
     },
     "execution_count": 5,
     "metadata": {},
     "output_type": "execute_result"
    }
   ],
   "source": [
    "isinstance(number, int)"
   ]
  },
  {
   "cell_type": "code",
   "execution_count": 6,
   "id": "61295195",
   "metadata": {},
   "outputs": [],
   "source": [
    "number = 4.3"
   ]
  },
  {
   "cell_type": "code",
   "execution_count": 7,
   "id": "4e9362b0",
   "metadata": {},
   "outputs": [
    {
     "data": {
      "text/plain": [
       "float"
      ]
     },
     "execution_count": 7,
     "metadata": {},
     "output_type": "execute_result"
    }
   ],
   "source": [
    "type(number)"
   ]
  },
  {
   "cell_type": "code",
   "execution_count": 8,
   "id": "6ae041f7",
   "metadata": {},
   "outputs": [
    {
     "data": {
      "text/plain": [
       "str"
      ]
     },
     "execution_count": 8,
     "metadata": {},
     "output_type": "execute_result"
    }
   ],
   "source": [
    "number = \"abc\"\n",
    "type(number)"
   ]
  },
  {
   "cell_type": "code",
   "execution_count": 9,
   "id": "fd763fe0",
   "metadata": {},
   "outputs": [
    {
     "data": {
      "text/plain": [
       "str"
      ]
     },
     "execution_count": 9,
     "metadata": {},
     "output_type": "execute_result"
    }
   ],
   "source": [
    "number = 'abc'\n",
    "type(number)"
   ]
  },
  {
   "cell_type": "markdown",
   "id": "9bab92a2",
   "metadata": {},
   "source": [
    "# 2. Operátory"
   ]
  },
  {
   "cell_type": "markdown",
   "id": "c4902b83",
   "metadata": {},
   "source": [
    "## 2.1. Sčítavanie"
   ]
  },
  {
   "cell_type": "code",
   "execution_count": 10,
   "id": "c0d917e9",
   "metadata": {},
   "outputs": [
    {
     "data": {
      "text/plain": [
       "7"
      ]
     },
     "execution_count": 10,
     "metadata": {},
     "output_type": "execute_result"
    }
   ],
   "source": [
    "3 + 4"
   ]
  },
  {
   "cell_type": "code",
   "execution_count": 11,
   "id": "e6cf550b",
   "metadata": {},
   "outputs": [
    {
     "data": {
      "text/plain": [
       "6.3"
      ]
     },
     "execution_count": 11,
     "metadata": {},
     "output_type": "execute_result"
    }
   ],
   "source": [
    "4 + 2.3"
   ]
  },
  {
   "cell_type": "code",
   "execution_count": 12,
   "id": "3a241924",
   "metadata": {},
   "outputs": [
    {
     "data": {
      "text/plain": [
       "'abcdef'"
      ]
     },
     "execution_count": 12,
     "metadata": {},
     "output_type": "execute_result"
    }
   ],
   "source": [
    "\"abc\" + \"def\""
   ]
  },
  {
   "cell_type": "code",
   "execution_count": 13,
   "id": "ba9cf549",
   "metadata": {},
   "outputs": [
    {
     "data": {
      "text/plain": [
       "[0, 1, 2, 3, 4, 5]"
      ]
     },
     "execution_count": 13,
     "metadata": {},
     "output_type": "execute_result"
    }
   ],
   "source": [
    "[0, 1, 2] + [3, 4, 5]"
   ]
  },
  {
   "cell_type": "code",
   "execution_count": 14,
   "id": "ee43b18e",
   "metadata": {},
   "outputs": [
    {
     "data": {
      "text/plain": [
       "(1, 'ab', 4.2, True)"
      ]
     },
     "execution_count": 14,
     "metadata": {},
     "output_type": "execute_result"
    }
   ],
   "source": [
    "(1, \"ab\") + (4.2, True)"
   ]
  },
  {
   "cell_type": "code",
   "execution_count": 15,
   "id": "50ad93bd",
   "metadata": {},
   "outputs": [
    {
     "name": "stdout",
     "output_type": "stream",
     "text": [
      "True + True = 2\n",
      "True + False = 1\n",
      "False + False = 0\n"
     ]
    }
   ],
   "source": [
    "print(\"True + True =\", True + True)\n",
    "print(\"True + False =\", True + False)\n",
    "print(\"False + False =\", False + False)"
   ]
  },
  {
   "cell_type": "markdown",
   "id": "af2be992",
   "metadata": {},
   "source": [
    "## 2.2. Odčítavanie"
   ]
  },
  {
   "cell_type": "code",
   "execution_count": 16,
   "id": "71b9c57e",
   "metadata": {},
   "outputs": [
    {
     "data": {
      "text/plain": [
       "5"
      ]
     },
     "execution_count": 16,
     "metadata": {},
     "output_type": "execute_result"
    }
   ],
   "source": [
    "8 - 3"
   ]
  },
  {
   "cell_type": "code",
   "execution_count": 17,
   "id": "770cfb34",
   "metadata": {},
   "outputs": [
    {
     "data": {
      "text/plain": [
       "6.499999999999999"
      ]
     },
     "execution_count": 17,
     "metadata": {},
     "output_type": "execute_result"
    }
   ],
   "source": [
    "8.2 - 1.7"
   ]
  },
  {
   "cell_type": "code",
   "execution_count": 18,
   "id": "b25bfffb",
   "metadata": {},
   "outputs": [
    {
     "name": "stdout",
     "output_type": "stream",
     "text": [
      "True - True = 0\n",
      "True - False = 1\n",
      "False - False = 0\n",
      "False - True = -1\n"
     ]
    }
   ],
   "source": [
    "print(\"True - True =\", True - True)\n",
    "print(\"True - False =\", True - False)\n",
    "print(\"False - False =\", False - False)\n",
    "print(\"False - True =\", False - True)"
   ]
  },
  {
   "cell_type": "markdown",
   "id": "3e90b1a0",
   "metadata": {},
   "source": [
    "## 2.3. Násobenie"
   ]
  },
  {
   "cell_type": "code",
   "execution_count": 19,
   "id": "92e57d9b",
   "metadata": {},
   "outputs": [
    {
     "data": {
      "text/plain": [
       "9"
      ]
     },
     "execution_count": 19,
     "metadata": {},
     "output_type": "execute_result"
    }
   ],
   "source": [
    "3 * 3"
   ]
  },
  {
   "cell_type": "code",
   "execution_count": 20,
   "id": "48ae4971",
   "metadata": {},
   "outputs": [
    {
     "data": {
      "text/plain": [
       "'ababababababababababababab'"
      ]
     },
     "execution_count": 20,
     "metadata": {},
     "output_type": "execute_result"
    }
   ],
   "source": [
    "13 * \"ab\""
   ]
  },
  {
   "cell_type": "code",
   "execution_count": 21,
   "id": "76484992",
   "metadata": {},
   "outputs": [
    {
     "data": {
      "text/plain": [
       "[1, 2, 1, 2, 1, 2]"
      ]
     },
     "execution_count": 21,
     "metadata": {},
     "output_type": "execute_result"
    }
   ],
   "source": [
    "3 * [1, 2]"
   ]
  },
  {
   "cell_type": "code",
   "execution_count": 22,
   "id": "4555c372",
   "metadata": {},
   "outputs": [
    {
     "data": {
      "text/plain": [
       "(1, 'abc', 1, 'abc', 1, 'abc')"
      ]
     },
     "execution_count": 22,
     "metadata": {},
     "output_type": "execute_result"
    }
   ],
   "source": [
    "3 * (1, \"abc\")"
   ]
  },
  {
   "cell_type": "code",
   "execution_count": 23,
   "id": "2a5e141e",
   "metadata": {},
   "outputs": [
    {
     "name": "stdout",
     "output_type": "stream",
     "text": [
      "3 * True = 3\n",
      "3 * False = 0\n"
     ]
    }
   ],
   "source": [
    "print(\"3 * True =\", 3 * True)\n",
    "print(\"3 * False =\", 3 * False)"
   ]
  },
  {
   "cell_type": "markdown",
   "id": "aa5cbc38",
   "metadata": {},
   "source": [
    "## 2.4. Delenie"
   ]
  },
  {
   "cell_type": "code",
   "execution_count": 24,
   "id": "c946056b",
   "metadata": {},
   "outputs": [
    {
     "data": {
      "text/plain": [
       "4.0"
      ]
     },
     "execution_count": 24,
     "metadata": {},
     "output_type": "execute_result"
    }
   ],
   "source": [
    "8 / 2"
   ]
  },
  {
   "cell_type": "code",
   "execution_count": 25,
   "id": "ce74f8d8",
   "metadata": {},
   "outputs": [
    {
     "data": {
      "text/plain": [
       "2"
      ]
     },
     "execution_count": 25,
     "metadata": {},
     "output_type": "execute_result"
    }
   ],
   "source": [
    "7 // 3"
   ]
  },
  {
   "cell_type": "code",
   "execution_count": 26,
   "id": "80c6db8c",
   "metadata": {},
   "outputs": [
    {
     "data": {
      "text/plain": [
       "1"
      ]
     },
     "execution_count": 26,
     "metadata": {},
     "output_type": "execute_result"
    }
   ],
   "source": [
    "7 % 2"
   ]
  },
  {
   "cell_type": "code",
   "execution_count": 27,
   "id": "288a9bb2",
   "metadata": {},
   "outputs": [
    {
     "data": {
      "text/plain": [
       "8.0"
      ]
     },
     "execution_count": 27,
     "metadata": {},
     "output_type": "execute_result"
    }
   ],
   "source": [
    "8 / True"
   ]
  },
  {
   "cell_type": "code",
   "execution_count": 28,
   "id": "f4420a00",
   "metadata": {},
   "outputs": [
    {
     "ename": "ZeroDivisionError",
     "evalue": "division by zero",
     "output_type": "error",
     "traceback": [
      "\u001b[1;31m---------------------------------------------------------------------------\u001b[0m",
      "\u001b[1;31mZeroDivisionError\u001b[0m                         Traceback (most recent call last)",
      "Input \u001b[1;32mIn [28]\u001b[0m, in \u001b[0;36m<cell line: 1>\u001b[1;34m()\u001b[0m\n\u001b[1;32m----> 1\u001b[0m \u001b[38;5;241;43m8\u001b[39;49m\u001b[43m \u001b[49m\u001b[38;5;241;43m/\u001b[39;49m\u001b[43m \u001b[49m\u001b[38;5;28;43;01mFalse\u001b[39;49;00m\n",
      "\u001b[1;31mZeroDivisionError\u001b[0m: division by zero"
     ]
    }
   ],
   "source": [
    "8 / False"
   ]
  },
  {
   "cell_type": "markdown",
   "id": "0eed31ef",
   "metadata": {},
   "source": [
    "## 2.5. Umocňovanie"
   ]
  },
  {
   "cell_type": "code",
   "execution_count": null,
   "id": "574d2992",
   "metadata": {},
   "outputs": [],
   "source": [
    "2 ** 7"
   ]
  },
  {
   "cell_type": "code",
   "execution_count": null,
   "id": "e862afe4",
   "metadata": {},
   "outputs": [],
   "source": [
    "3.5 ** 2.1"
   ]
  },
  {
   "cell_type": "code",
   "execution_count": 29,
   "id": "475ad382",
   "metadata": {},
   "outputs": [
    {
     "name": "stdout",
     "output_type": "stream",
     "text": [
      "7 ** True = 7\n",
      "7 ** False = 1\n"
     ]
    }
   ],
   "source": [
    "print(\"7 ** True =\", 7 ** True)\n",
    "print(\"7 ** False =\", 7 ** False)"
   ]
  },
  {
   "cell_type": "markdown",
   "id": "ffa42822",
   "metadata": {},
   "source": [
    "## 2.6. Priraďovanie"
   ]
  },
  {
   "cell_type": "code",
   "execution_count": 30,
   "id": "50a422e7",
   "metadata": {},
   "outputs": [],
   "source": [
    "x = 5"
   ]
  },
  {
   "cell_type": "code",
   "execution_count": 31,
   "id": "55e228bf",
   "metadata": {},
   "outputs": [
    {
     "name": "stdout",
     "output_type": "stream",
     "text": [
      "0\n",
      "2\n",
      "3\n"
     ]
    }
   ],
   "source": [
    "# multiple variable definition\n",
    "a, b, c = 0, 2, 3\n",
    "print(a)\n",
    "print(b)\n",
    "print(c)"
   ]
  },
  {
   "cell_type": "code",
   "execution_count": 32,
   "id": "45529225",
   "metadata": {},
   "outputs": [
    {
     "name": "stdout",
     "output_type": "stream",
     "text": [
      "a=0, b=1\n",
      "a=1, b=0\n"
     ]
    }
   ],
   "source": [
    "# swapping values\n",
    "a, b = 0, 1\n",
    "print(\"a={}, b={}\".format(a, b))\n",
    "\n",
    "a, b = b, a\n",
    "print(\"a={}, b={}\".format(a, b))"
   ]
  },
  {
   "cell_type": "code",
   "execution_count": 33,
   "id": "fe1c8735",
   "metadata": {},
   "outputs": [
    {
     "data": {
      "text/plain": [
       "5"
      ]
     },
     "execution_count": 33,
     "metadata": {},
     "output_type": "execute_result"
    }
   ],
   "source": [
    "(y := 5)"
   ]
  },
  {
   "cell_type": "code",
   "execution_count": 34,
   "id": "23253e6d",
   "metadata": {},
   "outputs": [
    {
     "name": "stdout",
     "output_type": "stream",
     "text": [
      "process called with 5\n"
     ]
    }
   ],
   "source": [
    "def f():\n",
    "    return 5\n",
    "\n",
    "def g():\n",
    "    return None\n",
    "\n",
    "def process(x):\n",
    "    print(\"process called with\", x)\n",
    "\n",
    "if (x:=f()):\n",
    "    process(x)\n",
    "\n",
    "if (x:=g()):\n",
    "    process(x)"
   ]
  },
  {
   "cell_type": "code",
   "execution_count": 35,
   "id": "b6cc2fcf",
   "metadata": {},
   "outputs": [
    {
     "name": "stdout",
     "output_type": "stream",
     "text": [
      "[3, 9, 27]\n",
      "[3, 9, 27]\n"
     ]
    }
   ],
   "source": [
    "def fun():\n",
    "    return 3\n",
    "\n",
    "print([fun(), fun()**2, fun()**3])\n",
    "print([y:=fun(), y**2, y**3])"
   ]
  },
  {
   "cell_type": "markdown",
   "id": "b657dd37",
   "metadata": {},
   "source": [
    "## 2.7. Porovnávanie"
   ]
  },
  {
   "cell_type": "code",
   "execution_count": 36,
   "id": "6b46e279",
   "metadata": {},
   "outputs": [
    {
     "data": {
      "text/plain": [
       "True"
      ]
     },
     "execution_count": 36,
     "metadata": {},
     "output_type": "execute_result"
    }
   ],
   "source": [
    "7 / 2 == 3.5"
   ]
  },
  {
   "cell_type": "code",
   "execution_count": 37,
   "id": "8cbf132a",
   "metadata": {},
   "outputs": [
    {
     "data": {
      "text/plain": [
       "False"
      ]
     },
     "execution_count": 37,
     "metadata": {},
     "output_type": "execute_result"
    }
   ],
   "source": [
    "0.1 + 0.1 + 0.1 == 0.3"
   ]
  },
  {
   "cell_type": "code",
   "execution_count": 38,
   "id": "542f6e30",
   "metadata": {},
   "outputs": [
    {
     "data": {
      "text/plain": [
       "0.30000000000000004"
      ]
     },
     "execution_count": 38,
     "metadata": {},
     "output_type": "execute_result"
    }
   ],
   "source": [
    "0.1 + 0.1 + 0.1"
   ]
  },
  {
   "cell_type": "code",
   "execution_count": 39,
   "id": "d3353b8c",
   "metadata": {},
   "outputs": [
    {
     "data": {
      "text/plain": [
       "True"
      ]
     },
     "execution_count": 39,
     "metadata": {},
     "output_type": "execute_result"
    }
   ],
   "source": [
    "abs(0.1 + 0.1 + 0.1 - 0.3) < 1e-10"
   ]
  },
  {
   "cell_type": "code",
   "execution_count": 40,
   "id": "df3c9eb4",
   "metadata": {},
   "outputs": [
    {
     "data": {
      "text/plain": [
       "False"
      ]
     },
     "execution_count": 40,
     "metadata": {},
     "output_type": "execute_result"
    }
   ],
   "source": [
    "x = -4\n",
    "3 < x < 6"
   ]
  },
  {
   "cell_type": "code",
   "execution_count": 41,
   "id": "6c278423",
   "metadata": {},
   "outputs": [
    {
     "name": "stdout",
     "output_type": "stream",
     "text": [
      "False\n",
      "[1, 2, 3]\n"
     ]
    }
   ],
   "source": [
    "lst = [1, 2, 3]\n",
    "x = -5\n",
    "\n",
    "def foo():\n",
    "    lst.append(4)\n",
    "    return 6\n",
    "\n",
    "print(3 < x < (y:= foo()))\n",
    "print(lst)"
   ]
  },
  {
   "cell_type": "code",
   "execution_count": 42,
   "id": "6fd34d8b",
   "metadata": {},
   "outputs": [
    {
     "name": "stdout",
     "output_type": "stream",
     "text": [
      "True\n",
      "True\n"
     ]
    }
   ],
   "source": [
    "print(None == None)\n",
    "print(None is None)"
   ]
  },
  {
   "cell_type": "code",
   "execution_count": 43,
   "id": "21afcec4",
   "metadata": {},
   "outputs": [
    {
     "name": "stdout",
     "output_type": "stream",
     "text": [
      "False\n",
      "True\n"
     ]
    }
   ],
   "source": [
    "import numpy as np\n",
    "\n",
    "print(np.NaN == np.NaN)\n",
    "print(np.NaN is np.NaN)"
   ]
  },
  {
   "cell_type": "code",
   "execution_count": 44,
   "id": "5085a760",
   "metadata": {},
   "outputs": [
    {
     "data": {
      "text/plain": [
       "False"
      ]
     },
     "execution_count": 44,
     "metadata": {},
     "output_type": "execute_result"
    }
   ],
   "source": [
    "[] == None"
   ]
  },
  {
   "cell_type": "code",
   "execution_count": 45,
   "id": "832a9e50",
   "metadata": {},
   "outputs": [],
   "source": [
    "if []:\n",
    "    print(\"abc\")"
   ]
  },
  {
   "cell_type": "markdown",
   "id": "5da1395a",
   "metadata": {},
   "source": [
    "## 2.8. Príslušnosť"
   ]
  },
  {
   "cell_type": "code",
   "execution_count": 46,
   "id": "c603aee7",
   "metadata": {},
   "outputs": [
    {
     "data": {
      "text/plain": [
       "True"
      ]
     },
     "execution_count": 46,
     "metadata": {},
     "output_type": "execute_result"
    }
   ],
   "source": [
    "3 in [1, 2, 3, 4, 5]"
   ]
  },
  {
   "cell_type": "markdown",
   "id": "766acc07",
   "metadata": {},
   "source": [
    "# 3. Vetvenie"
   ]
  },
  {
   "cell_type": "code",
   "execution_count": 47,
   "id": "63b5e424",
   "metadata": {},
   "outputs": [
    {
     "name": "stdout",
     "output_type": "stream",
     "text": [
      "Remainder is 2\n",
      "body 2\n",
      "printed always\n"
     ]
    }
   ],
   "source": [
    "number = 5\n",
    "\n",
    "if number % 3 == 1:\n",
    "    print(\"Remainder is 1\")\n",
    "    print(\"body 1\")\n",
    "elif number % 3 == 2:\n",
    "    print(\"Remainder is 2\")\n",
    "    print(\"body 2\")\n",
    "else:\n",
    "    print(\"Remainder is 0\")\n",
    "    print(\"body 3\")\n",
    "print(\"printed always\")"
   ]
  },
  {
   "cell_type": "markdown",
   "id": "1cc69de9",
   "metadata": {},
   "source": [
    "# 4. Iterácie"
   ]
  },
  {
   "cell_type": "code",
   "execution_count": 48,
   "id": "08dc448a",
   "metadata": {},
   "outputs": [
    {
     "name": "stdout",
     "output_type": "stream",
     "text": [
      "\t 436\n",
      "\t 13\n",
      "\t 4\n",
      "FINAL: 4\n"
     ]
    }
   ],
   "source": [
    "x = 1278645384313843513843159864131564646452346746467641534687435764365468964767465467878646\n",
    "digit_sum = x\n",
    "\n",
    "while digit_sum > 9:\n",
    "    digit_sum = 0\n",
    "    while x > 0:\n",
    "        digit_sum += x % 10\n",
    "        x //= 10\n",
    "    \n",
    "    print(\"\\t\", digit_sum)\n",
    "    x = digit_sum\n",
    "\n",
    "print(\"FINAL:\", digit_sum)"
   ]
  },
  {
   "cell_type": "code",
   "execution_count": 49,
   "id": "aa769d01",
   "metadata": {},
   "outputs": [
    {
     "name": "stdout",
     "output_type": "stream",
     "text": [
      "0\n",
      "1\n",
      "2\n",
      "3\n",
      "4\n",
      "5\n",
      "6\n",
      "7\n",
      "8\n",
      "9\n"
     ]
    }
   ],
   "source": [
    "for num in range(10):\n",
    "    print(num)"
   ]
  },
  {
   "cell_type": "code",
   "execution_count": 50,
   "id": "b865df00",
   "metadata": {},
   "outputs": [
    {
     "name": "stdout",
     "output_type": "stream",
     "text": [
      "1\n",
      "2\n",
      "3\n",
      "4\n",
      "5\n",
      "6\n",
      "7\n",
      "8\n",
      "9\n"
     ]
    }
   ],
   "source": [
    "for num in range(1, 10):\n",
    "    print(num)"
   ]
  },
  {
   "cell_type": "code",
   "execution_count": 51,
   "id": "19b1860d",
   "metadata": {},
   "outputs": [
    {
     "name": "stdout",
     "output_type": "stream",
     "text": [
      "1\n",
      "3\n",
      "5\n",
      "7\n",
      "9\n"
     ]
    }
   ],
   "source": [
    "for num in range(1, 10, 2):\n",
    "    print(num)"
   ]
  },
  {
   "cell_type": "code",
   "execution_count": 52,
   "id": "f4c234d3",
   "metadata": {},
   "outputs": [
    {
     "name": "stdout",
     "output_type": "stream",
     "text": [
      "print this 5 times\n",
      "print this 5 times\n",
      "print this 5 times\n",
      "print this 5 times\n",
      "print this 5 times\n"
     ]
    }
   ],
   "source": [
    "for _ in range(5):\n",
    "    print(\"print this 5 times\")"
   ]
  },
  {
   "cell_type": "code",
   "execution_count": 53,
   "id": "01e77513",
   "metadata": {},
   "outputs": [
    {
     "name": "stdout",
     "output_type": "stream",
     "text": [
      "1\n",
      "3.4\n",
      "abc\n",
      "True\n"
     ]
    }
   ],
   "source": [
    "for elem in (1, 3.4, \"abc\", True):\n",
    "    print(elem)"
   ]
  },
  {
   "cell_type": "code",
   "execution_count": 54,
   "id": "dcd9c35c",
   "metadata": {},
   "outputs": [
    {
     "name": "stdout",
     "output_type": "stream",
     "text": [
      "1\n",
      "8\n",
      "7\n",
      "3\n",
      "5\n",
      "9\n",
      "2\n"
     ]
    }
   ],
   "source": [
    "for elem in [1, 8, 7, 3, 5, 9, 2]:\n",
    "    print(elem)"
   ]
  },
  {
   "cell_type": "code",
   "execution_count": 55,
   "id": "5939bd3c",
   "metadata": {},
   "outputs": [
    {
     "name": "stdout",
     "output_type": "stream",
     "text": [
      "a\n",
      "b\n",
      "c\n",
      "d\n",
      "e\n",
      "f\n",
      "g\n",
      "h\n",
      "i\n",
      "j\n"
     ]
    }
   ],
   "source": [
    "for elem in \"abcdefghij\":\n",
    "    print(elem)"
   ]
  }
 ],
 "metadata": {
  "kernelspec": {
   "display_name": "Python 3 (ipykernel)",
   "language": "python",
   "name": "python3"
  },
  "language_info": {
   "codemirror_mode": {
    "name": "ipython",
    "version": 3
   },
   "file_extension": ".py",
   "mimetype": "text/x-python",
   "name": "python",
   "nbconvert_exporter": "python",
   "pygments_lexer": "ipython3",
   "version": "3.9.12"
  }
 },
 "nbformat": 4,
 "nbformat_minor": 5
}
