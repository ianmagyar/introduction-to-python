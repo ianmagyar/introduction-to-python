{
 "cells": [
  {
   "cell_type": "code",
   "execution_count": null,
   "id": "79cc9171",
   "metadata": {},
   "outputs": [],
   "source": [
    "number = 5"
   ]
  },
  {
   "cell_type": "code",
   "execution_count": null,
   "id": "8c7da64c",
   "metadata": {},
   "outputs": [],
   "source": [
    "print(number)"
   ]
  },
  {
   "cell_type": "code",
   "execution_count": null,
   "id": "6d3c0a59",
   "metadata": {},
   "outputs": [],
   "source": [
    "type(number)"
   ]
  },
  {
   "cell_type": "code",
   "execution_count": null,
   "id": "ed26cfe5",
   "metadata": {},
   "outputs": [],
   "source": [
    "type(number) == int"
   ]
  },
  {
   "cell_type": "code",
   "execution_count": null,
   "id": "e6f3b5b4",
   "metadata": {},
   "outputs": [],
   "source": [
    "isinstance(number, int)"
   ]
  },
  {
   "cell_type": "code",
   "execution_count": null,
   "id": "61295195",
   "metadata": {},
   "outputs": [],
   "source": [
    "number = 4.3"
   ]
  },
  {
   "cell_type": "code",
   "execution_count": null,
   "id": "4e9362b0",
   "metadata": {},
   "outputs": [],
   "source": [
    "type(number)"
   ]
  },
  {
   "cell_type": "code",
   "execution_count": null,
   "id": "55e228bf",
   "metadata": {},
   "outputs": [],
   "source": [
    "a, b, c = 0, 2, 3\n",
    "print(a)\n",
    "print(b)\n",
    "print(c)"
   ]
  },
  {
   "cell_type": "code",
   "execution_count": null,
   "id": "6ae041f7",
   "metadata": {},
   "outputs": [],
   "source": [
    "number = \"abc\"\n",
    "type(number)"
   ]
  },
  {
   "cell_type": "code",
   "execution_count": null,
   "id": "e2d8eee4-e7b1-4a31-9b02-bfa4c9871b72",
   "metadata": {},
   "outputs": [],
   "source": [
    "3 + 3"
   ]
  },
  {
   "cell_type": "code",
   "execution_count": null,
   "id": "f7c7e548-cbb4-4363-a935-a7264da047f6",
   "metadata": {},
   "outputs": [],
   "source": [
    "\"ab\" + \"cd\""
   ]
  },
  {
   "cell_type": "code",
   "execution_count": null,
   "id": "2dde0815-f83a-4a30-a2e1-1ffe03c47414",
   "metadata": {},
   "outputs": [],
   "source": [
    "[1, 2, 3] + [4, 5, 6]"
   ]
  },
  {
   "cell_type": "code",
   "execution_count": null,
   "id": "92e57d9b",
   "metadata": {},
   "outputs": [],
   "source": [
    "3 * 3"
   ]
  },
  {
   "cell_type": "code",
   "execution_count": null,
   "id": "48ae4971",
   "metadata": {},
   "outputs": [],
   "source": [
    "13 * \"ab\""
   ]
  },
  {
   "cell_type": "code",
   "execution_count": null,
   "id": "76484992",
   "metadata": {},
   "outputs": [],
   "source": [
    "3 * [1, 2]"
   ]
  },
  {
   "cell_type": "code",
   "execution_count": null,
   "id": "c946056b",
   "metadata": {},
   "outputs": [],
   "source": [
    "7 / 3"
   ]
  },
  {
   "cell_type": "code",
   "execution_count": null,
   "id": "ce74f8d8",
   "metadata": {},
   "outputs": [],
   "source": [
    "7 // 3"
   ]
  },
  {
   "cell_type": "code",
   "execution_count": null,
   "id": "80c6db8c",
   "metadata": {},
   "outputs": [],
   "source": [
    "7 % 2"
   ]
  },
  {
   "cell_type": "code",
   "execution_count": null,
   "id": "8a869aef",
   "metadata": {},
   "outputs": [],
   "source": [
    "7 % 2"
   ]
  },
  {
   "cell_type": "code",
   "execution_count": null,
   "id": "574d2992",
   "metadata": {},
   "outputs": [],
   "source": [
    "2 ** 7"
   ]
  },
  {
   "cell_type": "code",
   "execution_count": null,
   "id": "50a422e7",
   "metadata": {},
   "outputs": [],
   "source": [
    "x = 5"
   ]
  },
  {
   "cell_type": "code",
   "execution_count": null,
   "id": "fe1c8735",
   "metadata": {},
   "outputs": [],
   "source": [
    "(y := 5)"
   ]
  },
  {
   "cell_type": "code",
   "execution_count": null,
   "id": "6b46e279",
   "metadata": {},
   "outputs": [],
   "source": [
    "7 / 2 == 3.5"
   ]
  },
  {
   "cell_type": "code",
   "execution_count": null,
   "id": "8cbf132a",
   "metadata": {},
   "outputs": [],
   "source": [
    "0.1 + 0.1 + 0.1 == 0.3"
   ]
  },
  {
   "cell_type": "code",
   "execution_count": null,
   "id": "542f6e30",
   "metadata": {},
   "outputs": [],
   "source": [
    "0.1 + 0.1 + 0.1"
   ]
  },
  {
   "cell_type": "code",
   "execution_count": null,
   "id": "d3353b8c",
   "metadata": {},
   "outputs": [],
   "source": [
    "abs(0.1 + 0.1 + 0.1 - 0.3) < 1e-10"
   ]
  },
  {
   "cell_type": "code",
   "execution_count": null,
   "id": "df3c9eb4",
   "metadata": {},
   "outputs": [],
   "source": [
    "x = -4\n",
    "3 < x < 6"
   ]
  },
  {
   "cell_type": "code",
   "execution_count": null,
   "id": "6c278423",
   "metadata": {},
   "outputs": [],
   "source": [
    "lst = [1, 2, 3]\n",
    "x = -5\n",
    "\n",
    "def foo():\n",
    "    lst.append(4)\n",
    "    return 6\n",
    "\n",
    "print(3 < x < (y:= foo()))\n",
    "print(lst)"
   ]
  },
  {
   "cell_type": "code",
   "execution_count": null,
   "id": "6fd34d8b",
   "metadata": {},
   "outputs": [],
   "source": [
    "None == None"
   ]
  },
  {
   "cell_type": "code",
   "execution_count": null,
   "id": "21afcec4",
   "metadata": {},
   "outputs": [],
   "source": [
    "import numpy as np\n",
    "\n",
    "print(np.NaN == np.NaN)\n",
    "print(np.NaN is np.NaN)"
   ]
  },
  {
   "cell_type": "code",
   "execution_count": null,
   "id": "5085a760",
   "metadata": {},
   "outputs": [],
   "source": [
    "[] == None"
   ]
  },
  {
   "cell_type": "code",
   "execution_count": null,
   "id": "832a9e50",
   "metadata": {},
   "outputs": [],
   "source": [
    "if []:\n",
    "    print(\"abc\")"
   ]
  },
  {
   "cell_type": "code",
   "execution_count": null,
   "id": "c603aee7",
   "metadata": {},
   "outputs": [],
   "source": [
    "3 in [1, 2, 3, 4, 5]"
   ]
  },
  {
   "cell_type": "code",
   "execution_count": null,
   "id": "63b5e424",
   "metadata": {},
   "outputs": [],
   "source": [
    "number = 5\n",
    "\n",
    "if number % 3 == 1:\n",
    "    print(\"Remainder is 1\")\n",
    "    print(\"body 1\")\n",
    "elif number % 3 == 2:\n",
    "    print(\"Remainder is 2\")\n",
    "    print(\"body 2\")\n",
    "else:\n",
    "    print(\"Remainder is 0\")\n",
    "    print(\"body 3\")\n",
    "print(\"printed always\")"
   ]
  },
  {
   "cell_type": "code",
   "execution_count": null,
   "id": "aa769d01",
   "metadata": {},
   "outputs": [],
   "source": [
    "for num in range(1, 10, 2):\n",
    "    print(num)"
   ]
  },
  {
   "cell_type": "code",
   "execution_count": null,
   "id": "f4c234d3",
   "metadata": {},
   "outputs": [],
   "source": [
    "for _ in range(5):\n",
    "    print(\"print this 5 times\")"
   ]
  },
  {
   "cell_type": "code",
   "execution_count": null,
   "id": "01e77513",
   "metadata": {},
   "outputs": [],
   "source": [
    "for elem in (1, 3.4, \"abc\", True):\n",
    "    print(elem)"
   ]
  },
  {
   "cell_type": "code",
   "execution_count": null,
   "id": "08dc448a",
   "metadata": {},
   "outputs": [],
   "source": []
  }
 ],
 "metadata": {
  "kernelspec": {
   "display_name": "Python 3 (ipykernel)",
   "language": "python",
   "name": "python3"
  },
  "language_info": {
   "codemirror_mode": {
    "name": "ipython",
    "version": 3
   },
   "file_extension": ".py",
   "mimetype": "text/x-python",
   "name": "python",
   "nbconvert_exporter": "python",
   "pygments_lexer": "ipython3",
   "version": "3.12.7"
  }
 },
 "nbformat": 4,
 "nbformat_minor": 5
}
