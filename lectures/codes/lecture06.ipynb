{
 "cells": [
  {
   "cell_type": "code",
   "execution_count": null,
   "id": "97664dea",
   "metadata": {},
   "outputs": [],
   "source": [
    "class Product:\n",
    "    def __init__(self, name, price):\n",
    "        self.name = name\n",
    "        self.price = price\n",
    "    \n",
    "    def set_price(self, new_price):\n",
    "        self.price = new_price\n",
    "    \n",
    "    def sell(self):\n",
    "        print(\"Sold product {} for {}\".format(self.name, self.price))"
   ]
  },
  {
   "cell_type": "code",
   "execution_count": null,
   "id": "bf10cfc3",
   "metadata": {},
   "outputs": [],
   "source": [
    "laptop = Product(\"laptop\", 700.0)"
   ]
  },
  {
   "cell_type": "code",
   "execution_count": null,
   "id": "5c7c3df1",
   "metadata": {},
   "outputs": [],
   "source": [
    "print(laptop)\n",
    "print(laptop.name)\n",
    "print(laptop.price)"
   ]
  },
  {
   "cell_type": "code",
   "execution_count": null,
   "id": "ee1eddac",
   "metadata": {},
   "outputs": [],
   "source": [
    "laptop.set_price(500.0)\n",
    "print(laptop.price)"
   ]
  },
  {
   "cell_type": "code",
   "execution_count": null,
   "id": "c417b805",
   "metadata": {},
   "outputs": [],
   "source": [
    "laptop.sell()"
   ]
  },
  {
   "cell_type": "code",
   "execution_count": null,
   "id": "c8704134",
   "metadata": {},
   "outputs": [],
   "source": [
    "class Guitarist:\n",
    "    nextIdNum = 1\n",
    "    \n",
    "    def __init__(self, firstName, familyName):\n",
    "        self.first_name = firstName\n",
    "        self.family_name = familyName\n",
    "        self.id_num = Guitarist.nextIdNum\n",
    "        Guitarist.nextIdNum += 1\n",
    "    \n",
    "    def get_id_num(self):\n",
    "        return self.id_num\n",
    "\n",
    "    def __eq__(self, other):\n",
    "        return self.id_num == other.get_id_num()"
   ]
  },
  {
   "cell_type": "code",
   "execution_count": null,
   "id": "e23a5fd1",
   "metadata": {},
   "outputs": [],
   "source": [
    "guitarist1 = Guitarist(\"John\", \"Doe\")\n",
    "guitarist2 = Guitarist(\"Jane\", \"Doe\")"
   ]
  },
  {
   "cell_type": "code",
   "execution_count": null,
   "id": "f987c298",
   "metadata": {},
   "outputs": [],
   "source": [
    "print(guitarist1.get_id_num())\n",
    "print(guitarist2.get_id_num())"
   ]
  },
  {
   "cell_type": "code",
   "execution_count": null,
   "id": "4d7eeaac",
   "metadata": {},
   "outputs": [],
   "source": [
    "print(guitarist1 == guitarist2)\n",
    "print(guitarist1 == guitarist1)"
   ]
  },
  {
   "cell_type": "code",
   "execution_count": null,
   "id": "952ff842",
   "metadata": {},
   "outputs": [],
   "source": []
  }
 ],
 "metadata": {
  "kernelspec": {
   "display_name": "Python 3 (ipykernel)",
   "language": "python",
   "name": "python3"
  },
  "language_info": {
   "codemirror_mode": {
    "name": "ipython",
    "version": 3
   },
   "file_extension": ".py",
   "mimetype": "text/x-python",
   "name": "python",
   "nbconvert_exporter": "python",
   "pygments_lexer": "ipython3",
   "version": "3.9.12"
  }
 },
 "nbformat": 4,
 "nbformat_minor": 5
}
