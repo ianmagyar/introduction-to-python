{
 "cells": [
  {
   "cell_type": "code",
   "execution_count": 1,
   "id": "d80bf76a",
   "metadata": {},
   "outputs": [],
   "source": [
    "import time"
   ]
  },
  {
   "cell_type": "code",
   "execution_count": 2,
   "id": "6f0a5356",
   "metadata": {},
   "outputs": [],
   "source": [
    "def exp1(a, b):\n",
    "    ans = 1\n",
    "    while (b > 0):\n",
    "        ans *= a\n",
    "        b -= 1\n",
    "    return ans"
   ]
  },
  {
   "cell_type": "code",
   "execution_count": 16,
   "id": "2203916a",
   "metadata": {},
   "outputs": [
    {
     "name": "stdout",
     "output_type": "stream",
     "text": [
      "32\n",
      "0.0009591579437255859\n"
     ]
    }
   ],
   "source": [
    "start = time.time()\n",
    "res = exp1(2, 5)\n",
    "end = time.time()\n",
    "print(res)\n",
    "print(end - start)"
   ]
  },
  {
   "cell_type": "code",
   "execution_count": null,
   "id": "d982413e",
   "metadata": {},
   "outputs": [],
   "source": [
    "def exp2(a, b):\n",
    "    if b == 1:\n",
    "        return a\n",
    "    if (b % 2) == 0:\n",
    "        return exp2(a * a, b / 2)\n",
    "    else:\n",
    "        return a * exp2(a, b - 1) "
   ]
  },
  {
   "cell_type": "code",
   "execution_count": null,
   "id": "030dbca8",
   "metadata": {},
   "outputs": [],
   "source": [
    "start = time.time()\n",
    "res = exp2(2, 5)\n",
    "end = time.time()\n",
    "print(res)\n",
    "print(end - start)"
   ]
  },
  {
   "cell_type": "code",
   "execution_count": null,
   "id": "615f5278",
   "metadata": {},
   "outputs": [],
   "source": [
    "def fib(a):\n",
    "    if a == 0 or a == 1:\n",
    "        return 1\n",
    "    else:\n",
    "        return fib(a - 1) + fib(a - 2)"
   ]
  },
  {
   "cell_type": "code",
   "execution_count": null,
   "id": "73a66175",
   "metadata": {},
   "outputs": [],
   "source": [
    "start = time.time()\n",
    "res = fib(35)\n",
    "end = time.time()\n",
    "print(res)\n",
    "print(end - start)"
   ]
  },
  {
   "cell_type": "code",
   "execution_count": null,
   "id": "6e845de2",
   "metadata": {},
   "outputs": [],
   "source": [
    "from math import sqrt, ceil\n",
    "\n",
    "def is_prime(number):\n",
    "    for x in range(2, number):\n",
    "        if number % x == 0:\n",
    "            return False\n",
    "    return True"
   ]
  },
  {
   "cell_type": "code",
   "execution_count": null,
   "id": "5717b644",
   "metadata": {},
   "outputs": [],
   "source": [
    "start = time.time()\n",
    "res = is_prime(123475862311)\n",
    "end = time.time()\n",
    "print(res)\n",
    "print(end - start)"
   ]
  },
  {
   "cell_type": "code",
   "execution_count": null,
   "id": "8a690c30",
   "metadata": {},
   "outputs": [],
   "source": [
    "steps = 0\n",
    "\n",
    "def fib_counter(a):\n",
    "    global steps\n",
    "    steps += 1\n",
    "    print(\"Calculating fib for\", a)\n",
    "    if a == 0 or a == 1:\n",
    "        return 1\n",
    "    else:\n",
    "        return fib_counter(a - 1) + fib_counter(a - 2)"
   ]
  },
  {
   "cell_type": "code",
   "execution_count": null,
   "id": "a5fdbe9e",
   "metadata": {},
   "outputs": [],
   "source": [
    "print(fib_counter(20))\n",
    "print(steps, \"calls\")"
   ]
  },
  {
   "cell_type": "code",
   "execution_count": null,
   "id": "909311ce",
   "metadata": {},
   "outputs": [],
   "source": [
    "def fib_smart(a, memo):\n",
    "    global num_calls\n",
    "\n",
    "    num_calls += 1\n",
    "    print(\"fib_smart called with\", a)\n",
    "    if a not in memo:\n",
    "        memo[a] = fib_smart(a - 2, memo) + fib_smart(a - 1, memo)\n",
    "    return memo[a]"
   ]
  },
  {
   "cell_type": "code",
   "execution_count": null,
   "id": "91e31f5c",
   "metadata": {},
   "outputs": [],
   "source": [
    "n = 20\n",
    "memo = {0: 1, 1: 1}\n",
    "num_calls = 0\n",
    "print(fib_smart(n, memo))\n",
    "print(num_calls, \"calls\")"
   ]
  },
  {
   "cell_type": "code",
   "execution_count": null,
   "id": "d4a9747f",
   "metadata": {},
   "outputs": [],
   "source": [
    "def max_val(w, m, i, aW):\n",
    "    global num_calls\n",
    "    num_calls += 1\n",
    "    print(\"Calling with\", i, aW)\n",
    "    if i == 0:\n",
    "        if w[i] <= aW:\n",
    "            return m[i]\n",
    "        else:\n",
    "            return 0\n",
    "    without_i = max_val(w, m, i - 1, aW)\n",
    "    if w[i] > aW:\n",
    "        return without_i\n",
    "    else:\n",
    "        with_i = m[i] + max_val(w, m, i - 1, aW - w[i])\n",
    "    return max(with_i, without_i)\n",
    "\n",
    "weights = [5, 3, 2]\n",
    "values = [9, 7, 8]\n",
    "knapsack_size = 5\n",
    "num_calls = 0\n",
    "res = max_val(weights, values, len(values) - 1, knapsack_size)\n",
    "print(\"Max val is\", res)\n",
    "print(\"Calculated in\", num_calls, \"steps\")"
   ]
  },
  {
   "cell_type": "code",
   "execution_count": null,
   "id": "98f8bb5e",
   "metadata": {},
   "outputs": [],
   "source": [
    "weights = [1, 5, 3, 4]\n",
    "values = [15, 10, 9, 5]\n",
    "knapsack_size = 8\n",
    "num_calls = 0\n",
    "res = max_val(weights, values, len(values) - 1, knapsack_size)\n",
    "print(\"Max Val is\", res)\n",
    "print(\"Calculated in\", num_calls, \"steps\")"
   ]
  },
  {
   "cell_type": "code",
   "execution_count": null,
   "id": "8a269d85",
   "metadata": {},
   "outputs": [],
   "source": [
    "weights = [1, 1, 5, 5, 3, 3, 4, 4]\n",
    "values = [15, 15, 10, 10, 9, 9, 5, 5]\n",
    "num_calls = 0\n",
    "knapsack_size = 8\n",
    "res = max_val(weights, values, len(values) - 1, knapsack_size)\n",
    "print(\"Max Val is\", res)\n",
    "print(\"Calculated in\", num_calls, \"steps\")"
   ]
  },
  {
   "cell_type": "code",
   "execution_count": null,
   "id": "9de2f25a",
   "metadata": {},
   "outputs": [],
   "source": [
    "weights = [\n",
    "    5, 5, 1, 8, 2, 9, 7, 5, 2, 8,\n",
    "    1, 2, 7, 3, 5, 7, 8, 5, 5, 8,\n",
    "    4, 6, 2, 8, 3, 7, 4, 2, 1, 9\n",
    "]\n",
    "values = [\n",
    "    5, 5, 3, 5, 6, 7, 2, 3, 7, 1,\n",
    "    8, 3, 6, 8, 8, 6, 5, 6, 8, 4,\n",
    "    4, 7, 6, 8, 9, 1, 3, 5, 6, 4\n",
    "]\n",
    "num_calls = 0\n",
    "knapsack_size = 40\n",
    "res = max_val(weights, values, len(values) - 1, knapsack_size)\n",
    "print(\"Max Val is\", res)\n",
    "print(\"Calculated in\", num_calls, \"steps\")"
   ]
  },
  {
   "cell_type": "code",
   "execution_count": null,
   "id": "b3e4ae4c",
   "metadata": {},
   "outputs": [],
   "source": [
    "def fast_max_val(w, v, i, aW, m):\n",
    "    global num_calls\n",
    "    num_calls += 1\n",
    "\n",
    "    try:\n",
    "        return m[(i, aW)]\n",
    "    except KeyError:\n",
    "        if i == 0:\n",
    "            if w[i] <= aW:\n",
    "                m[(i, aW)] = v[i]\n",
    "                return v[i]\n",
    "            else:\n",
    "                m[(i, aW)] = 0\n",
    "                return 0\n",
    "\n",
    "        without_i = fast_max_val(w, v, i - 1, aW, m)\n",
    "        if w[i] > aW:\n",
    "            m[(i, aW)] = without_i\n",
    "            return without_i\n",
    "        else:\n",
    "            with_i = v[i] + fast_max_val(w, v, i - 1, aW - w[i], m)\n",
    "        res = max(with_i, without_i)\n",
    "        m[(i, aW)] = res\n",
    "        return res"
   ]
  },
  {
   "cell_type": "code",
   "execution_count": null,
   "id": "38d4db71",
   "metadata": {},
   "outputs": [],
   "source": [
    "num_calls = 0\n",
    "weights = [\n",
    "    5, 5, 1, 8, 2, 9, 7, 5, 2, 8,\n",
    "    1, 2, 7, 3, 5, 7, 8, 5, 5, 8,\n",
    "    4, 6, 2, 8, 3, 7, 4, 2, 1, 9\n",
    "]\n",
    "values = [\n",
    "    5, 5, 3, 5, 6, 7, 2, 3, 7, 1,\n",
    "    8, 3, 6, 8, 8, 6, 5, 6, 8, 4,\n",
    "    4, 7, 6, 8, 9, 1, 3, 5, 6, 4\n",
    "]\n",
    "num_calls = 0\n",
    "knapsack_size = 40\n",
    "memo = {}\n",
    "res = fast_max_val(weights, values, len(values) - 1, knapsack_size, memo)\n",
    "print(\"Max Val is\", res)\n",
    "print(\"Calculated in\", num_calls, \"steps\")"
   ]
  }
 ],
 "metadata": {
  "kernelspec": {
   "display_name": "Python 3 (ipykernel)",
   "language": "python",
   "name": "python3"
  },
  "language_info": {
   "codemirror_mode": {
    "name": "ipython",
    "version": 3
   },
   "file_extension": ".py",
   "mimetype": "text/x-python",
   "name": "python",
   "nbconvert_exporter": "python",
   "pygments_lexer": "ipython3",
   "version": "3.9.12"
  }
 },
 "nbformat": 4,
 "nbformat_minor": 5
}
