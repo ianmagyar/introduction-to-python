{
 "cells": [
  {
   "cell_type": "code",
   "execution_count": 1,
   "id": "59174f60",
   "metadata": {},
   "outputs": [
    {
     "name": "stdout",
     "output_type": "stream",
     "text": [
      "a\n",
      "You are using a non-existent variable\n",
      "I always get printed\n"
     ]
    }
   ],
   "source": [
    "number = 10\n",
    "divide_by = 0\n",
    "\n",
    "try:\n",
    "    print(\"a\")\n",
    "    print(number1 / divide_by)\n",
    "    print(\"b\")\n",
    "except ZeroDivisionError:\n",
    "    print(\"You are trying to divide by zero\")\n",
    "except NameError:\n",
    "    print(\"You are using a non-existent variable\")\n",
    "else:\n",
    "    print(\"Everything went well\")\n",
    "finally:\n",
    "    print(\"I always get printed\")"
   ]
  },
  {
   "cell_type": "code",
   "execution_count": 7,
   "id": "054c1339",
   "metadata": {},
   "outputs": [
    {
     "name": "stdout",
     "output_type": "stream",
     "text": [
      "a\n"
     ]
    },
    {
     "ename": "NameError",
     "evalue": "name 'number1' is not defined",
     "output_type": "error",
     "traceback": [
      "\u001b[1;31m---------------------------------------------------------------------------\u001b[0m",
      "\u001b[1;31mNameError\u001b[0m                                 Traceback (most recent call last)",
      "Input \u001b[1;32mIn [7]\u001b[0m, in \u001b[0;36m<cell line: 2>\u001b[1;34m()\u001b[0m\n\u001b[0;32m      1\u001b[0m \u001b[38;5;28mprint\u001b[39m(\u001b[38;5;124m\"\u001b[39m\u001b[38;5;124ma\u001b[39m\u001b[38;5;124m\"\u001b[39m)\n\u001b[1;32m----> 2\u001b[0m \u001b[38;5;28mprint\u001b[39m(\u001b[43mnumber1\u001b[49m \u001b[38;5;241m/\u001b[39m divide_by)\n\u001b[0;32m      3\u001b[0m \u001b[38;5;28mprint\u001b[39m(\u001b[38;5;124m\"\u001b[39m\u001b[38;5;124mb\u001b[39m\u001b[38;5;124m\"\u001b[39m)\n",
      "\u001b[1;31mNameError\u001b[0m: name 'number1' is not defined"
     ]
    }
   ],
   "source": [
    "print(\"a\")\n",
    "print(number1 / divide_by)\n",
    "print(\"b\")"
   ]
  },
  {
   "cell_type": "code",
   "execution_count": 19,
   "id": "62e439af",
   "metadata": {},
   "outputs": [
    {
     "name": "stdout",
     "output_type": "stream",
     "text": [
      "tu sa to spracuje\n"
     ]
    }
   ],
   "source": [
    "number = 10\n",
    "divide_by = 0\n",
    "\n",
    "if divide_by == 0:\n",
    "    raise ZeroDivisionError(\"Chces delit nulou\")\n",
    "else:\n",
    "    print(number / divide_by)"
   ]
  },
  {
   "cell_type": "code",
   "execution_count": 22,
   "id": "535d72fc",
   "metadata": {},
   "outputs": [],
   "source": [
    "def is_even(number):\n",
    "    return not number % 2"
   ]
  },
  {
   "cell_type": "code",
   "execution_count": 23,
   "id": "916c4be4",
   "metadata": {},
   "outputs": [],
   "source": [
    "assert is_even(1) is False"
   ]
  },
  {
   "cell_type": "code",
   "execution_count": 24,
   "id": "2c341063",
   "metadata": {},
   "outputs": [],
   "source": [
    "assert is_even(3578436518403759184368143609143890641937934865) is False"
   ]
  },
  {
   "cell_type": "code",
   "execution_count": 25,
   "id": "d0d9025c",
   "metadata": {},
   "outputs": [],
   "source": [
    "assert is_even(0) is True"
   ]
  },
  {
   "cell_type": "code",
   "execution_count": 26,
   "id": "c9def28a",
   "metadata": {},
   "outputs": [],
   "source": [
    "assert is_even(7) is False"
   ]
  },
  {
   "cell_type": "code",
   "execution_count": 12,
   "id": "56f424cd",
   "metadata": {},
   "outputs": [],
   "source": [
    "def is_palindrome():\n",
    "    original_list = list()\n",
    "    done = False\n",
    "    while not done:\n",
    "        elem = input(\"Enter element. Return when done. \")\n",
    "        if elem == '':\n",
    "            done = True\n",
    "        else:\n",
    "            original_list.append(elem)\n",
    "\n",
    "    test_list = original_list\n",
    "    test_list.reverse()\n",
    "    return test_list == original_list"
   ]
  },
  {
   "cell_type": "code",
   "execution_count": 14,
   "id": "add2cb34",
   "metadata": {},
   "outputs": [
    {
     "name": "stdout",
     "output_type": "stream",
     "text": [
      "Enter element. Return when done. a\n",
      "Enter element. Return when done. b\n",
      "Enter element. Return when done. c\n",
      "Enter element. Return when done. b\n",
      "Enter element. Return when done. a\n",
      "Enter element. Return when done. \n"
     ]
    },
    {
     "data": {
      "text/plain": [
       "True"
      ]
     },
     "execution_count": 14,
     "metadata": {},
     "output_type": "execute_result"
    }
   ],
   "source": [
    "is_palindrome()"
   ]
  },
  {
   "cell_type": "code",
   "execution_count": null,
   "id": "886e8e5e",
   "metadata": {},
   "outputs": [],
   "source": []
  }
 ],
 "metadata": {
  "kernelspec": {
   "display_name": "Python 3 (ipykernel)",
   "language": "python",
   "name": "python3"
  },
  "language_info": {
   "codemirror_mode": {
    "name": "ipython",
    "version": 3
   },
   "file_extension": ".py",
   "mimetype": "text/x-python",
   "name": "python",
   "nbconvert_exporter": "python",
   "pygments_lexer": "ipython3",
   "version": "3.12.7"
  }
 },
 "nbformat": 4,
 "nbformat_minor": 5
}
